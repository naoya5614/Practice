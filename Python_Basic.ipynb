{
  "nbformat": 4,
  "nbformat_minor": 0,
  "metadata": {
    "colab": {
      "name": "Python_Basic.ipynb",
      "provenance": [],
      "collapsed_sections": [],
      "authorship_tag": "ABX9TyOcagOFn9sh6rbXLX72lepc"
    },
    "kernelspec": {
      "name": "python3",
      "display_name": "Python 3"
    },
    "language_info": {
      "name": "python"
    }
  },
  "cells": [
    {
      "cell_type": "markdown",
      "metadata": {
        "id": "lujzYbFl5VSR"
      },
      "source": [
        "## Numpy"
      ]
    },
    {
      "cell_type": "code",
      "metadata": {
        "colab": {
          "base_uri": "https://localhost:8080/"
        },
        "id": "6LHpgnAWkRv3",
        "outputId": "9033351d-3c27-45dc-b987-824fc58c09b8"
      },
      "source": [
        "#モジュールの読み込み\n",
        "import numpy as np\n",
        "import matplotlib.pyplot as plt\n",
        "%matplotlib inline\n",
        "import seaborn as sns\n",
        "\n",
        "#serbornのスタイルを使用\n",
        "sns.set()\n",
        "\n",
        "# 配列を用意\n",
        "arr = np.arange(-10,10,0.02)\n",
        "arr"
      ],
      "execution_count": 2,
      "outputs": [
        {
          "output_type": "execute_result",
          "data": {
            "text/plain": [
              "array([-1.00000000e+01, -9.98000000e+00, -9.96000000e+00, -9.94000000e+00,\n",
              "       -9.92000000e+00, -9.90000000e+00, -9.88000000e+00, -9.86000000e+00,\n",
              "       -9.84000000e+00, -9.82000000e+00, -9.80000000e+00, -9.78000000e+00,\n",
              "       -9.76000000e+00, -9.74000000e+00, -9.72000000e+00, -9.70000000e+00,\n",
              "       -9.68000000e+00, -9.66000000e+00, -9.64000000e+00, -9.62000000e+00,\n",
              "       -9.60000000e+00, -9.58000000e+00, -9.56000000e+00, -9.54000000e+00,\n",
              "       -9.52000000e+00, -9.50000000e+00, -9.48000000e+00, -9.46000000e+00,\n",
              "       -9.44000000e+00, -9.42000000e+00, -9.40000000e+00, -9.38000000e+00,\n",
              "       -9.36000000e+00, -9.34000000e+00, -9.32000000e+00, -9.30000000e+00,\n",
              "       -9.28000000e+00, -9.26000000e+00, -9.24000000e+00, -9.22000000e+00,\n",
              "       -9.20000000e+00, -9.18000000e+00, -9.16000000e+00, -9.14000000e+00,\n",
              "       -9.12000000e+00, -9.10000000e+00, -9.08000000e+00, -9.06000000e+00,\n",
              "       -9.04000000e+00, -9.02000000e+00, -9.00000000e+00, -8.98000000e+00,\n",
              "       -8.96000000e+00, -8.94000000e+00, -8.92000000e+00, -8.90000000e+00,\n",
              "       -8.88000000e+00, -8.86000000e+00, -8.84000000e+00, -8.82000000e+00,\n",
              "       -8.80000000e+00, -8.78000000e+00, -8.76000000e+00, -8.74000000e+00,\n",
              "       -8.72000000e+00, -8.70000000e+00, -8.68000000e+00, -8.66000000e+00,\n",
              "       -8.64000000e+00, -8.62000000e+00, -8.60000000e+00, -8.58000000e+00,\n",
              "       -8.56000000e+00, -8.54000000e+00, -8.52000000e+00, -8.50000000e+00,\n",
              "       -8.48000000e+00, -8.46000000e+00, -8.44000000e+00, -8.42000000e+00,\n",
              "       -8.40000000e+00, -8.38000000e+00, -8.36000000e+00, -8.34000000e+00,\n",
              "       -8.32000000e+00, -8.30000000e+00, -8.28000000e+00, -8.26000000e+00,\n",
              "       -8.24000000e+00, -8.22000000e+00, -8.20000000e+00, -8.18000000e+00,\n",
              "       -8.16000000e+00, -8.14000000e+00, -8.12000000e+00, -8.10000000e+00,\n",
              "       -8.08000000e+00, -8.06000000e+00, -8.04000000e+00, -8.02000000e+00,\n",
              "       -8.00000000e+00, -7.98000000e+00, -7.96000000e+00, -7.94000000e+00,\n",
              "       -7.92000000e+00, -7.90000000e+00, -7.88000000e+00, -7.86000000e+00,\n",
              "       -7.84000000e+00, -7.82000000e+00, -7.80000000e+00, -7.78000000e+00,\n",
              "       -7.76000000e+00, -7.74000000e+00, -7.72000000e+00, -7.70000000e+00,\n",
              "       -7.68000000e+00, -7.66000000e+00, -7.64000000e+00, -7.62000000e+00,\n",
              "       -7.60000000e+00, -7.58000000e+00, -7.56000000e+00, -7.54000000e+00,\n",
              "       -7.52000000e+00, -7.50000000e+00, -7.48000000e+00, -7.46000000e+00,\n",
              "       -7.44000000e+00, -7.42000000e+00, -7.40000000e+00, -7.38000000e+00,\n",
              "       -7.36000000e+00, -7.34000000e+00, -7.32000000e+00, -7.30000000e+00,\n",
              "       -7.28000000e+00, -7.26000000e+00, -7.24000000e+00, -7.22000000e+00,\n",
              "       -7.20000000e+00, -7.18000000e+00, -7.16000000e+00, -7.14000000e+00,\n",
              "       -7.12000000e+00, -7.10000000e+00, -7.08000000e+00, -7.06000000e+00,\n",
              "       -7.04000000e+00, -7.02000000e+00, -7.00000000e+00, -6.98000000e+00,\n",
              "       -6.96000000e+00, -6.94000000e+00, -6.92000000e+00, -6.90000000e+00,\n",
              "       -6.88000000e+00, -6.86000000e+00, -6.84000000e+00, -6.82000000e+00,\n",
              "       -6.80000000e+00, -6.78000000e+00, -6.76000000e+00, -6.74000000e+00,\n",
              "       -6.72000000e+00, -6.70000000e+00, -6.68000000e+00, -6.66000000e+00,\n",
              "       -6.64000000e+00, -6.62000000e+00, -6.60000000e+00, -6.58000000e+00,\n",
              "       -6.56000000e+00, -6.54000000e+00, -6.52000000e+00, -6.50000000e+00,\n",
              "       -6.48000000e+00, -6.46000000e+00, -6.44000000e+00, -6.42000000e+00,\n",
              "       -6.40000000e+00, -6.38000000e+00, -6.36000000e+00, -6.34000000e+00,\n",
              "       -6.32000000e+00, -6.30000000e+00, -6.28000000e+00, -6.26000000e+00,\n",
              "       -6.24000000e+00, -6.22000000e+00, -6.20000000e+00, -6.18000000e+00,\n",
              "       -6.16000000e+00, -6.14000000e+00, -6.12000000e+00, -6.10000000e+00,\n",
              "       -6.08000000e+00, -6.06000000e+00, -6.04000000e+00, -6.02000000e+00,\n",
              "       -6.00000000e+00, -5.98000000e+00, -5.96000000e+00, -5.94000000e+00,\n",
              "       -5.92000000e+00, -5.90000000e+00, -5.88000000e+00, -5.86000000e+00,\n",
              "       -5.84000000e+00, -5.82000000e+00, -5.80000000e+00, -5.78000000e+00,\n",
              "       -5.76000000e+00, -5.74000000e+00, -5.72000000e+00, -5.70000000e+00,\n",
              "       -5.68000000e+00, -5.66000000e+00, -5.64000000e+00, -5.62000000e+00,\n",
              "       -5.60000000e+00, -5.58000000e+00, -5.56000000e+00, -5.54000000e+00,\n",
              "       -5.52000000e+00, -5.50000000e+00, -5.48000000e+00, -5.46000000e+00,\n",
              "       -5.44000000e+00, -5.42000000e+00, -5.40000000e+00, -5.38000000e+00,\n",
              "       -5.36000000e+00, -5.34000000e+00, -5.32000000e+00, -5.30000000e+00,\n",
              "       -5.28000000e+00, -5.26000000e+00, -5.24000000e+00, -5.22000000e+00,\n",
              "       -5.20000000e+00, -5.18000000e+00, -5.16000000e+00, -5.14000000e+00,\n",
              "       -5.12000000e+00, -5.10000000e+00, -5.08000000e+00, -5.06000000e+00,\n",
              "       -5.04000000e+00, -5.02000000e+00, -5.00000000e+00, -4.98000000e+00,\n",
              "       -4.96000000e+00, -4.94000000e+00, -4.92000000e+00, -4.90000000e+00,\n",
              "       -4.88000000e+00, -4.86000000e+00, -4.84000000e+00, -4.82000000e+00,\n",
              "       -4.80000000e+00, -4.78000000e+00, -4.76000000e+00, -4.74000000e+00,\n",
              "       -4.72000000e+00, -4.70000000e+00, -4.68000000e+00, -4.66000000e+00,\n",
              "       -4.64000000e+00, -4.62000000e+00, -4.60000000e+00, -4.58000000e+00,\n",
              "       -4.56000000e+00, -4.54000000e+00, -4.52000000e+00, -4.50000000e+00,\n",
              "       -4.48000000e+00, -4.46000000e+00, -4.44000000e+00, -4.42000000e+00,\n",
              "       -4.40000000e+00, -4.38000000e+00, -4.36000000e+00, -4.34000000e+00,\n",
              "       -4.32000000e+00, -4.30000000e+00, -4.28000000e+00, -4.26000000e+00,\n",
              "       -4.24000000e+00, -4.22000000e+00, -4.20000000e+00, -4.18000000e+00,\n",
              "       -4.16000000e+00, -4.14000000e+00, -4.12000000e+00, -4.10000000e+00,\n",
              "       -4.08000000e+00, -4.06000000e+00, -4.04000000e+00, -4.02000000e+00,\n",
              "       -4.00000000e+00, -3.98000000e+00, -3.96000000e+00, -3.94000000e+00,\n",
              "       -3.92000000e+00, -3.90000000e+00, -3.88000000e+00, -3.86000000e+00,\n",
              "       -3.84000000e+00, -3.82000000e+00, -3.80000000e+00, -3.78000000e+00,\n",
              "       -3.76000000e+00, -3.74000000e+00, -3.72000000e+00, -3.70000000e+00,\n",
              "       -3.68000000e+00, -3.66000000e+00, -3.64000000e+00, -3.62000000e+00,\n",
              "       -3.60000000e+00, -3.58000000e+00, -3.56000000e+00, -3.54000000e+00,\n",
              "       -3.52000000e+00, -3.50000000e+00, -3.48000000e+00, -3.46000000e+00,\n",
              "       -3.44000000e+00, -3.42000000e+00, -3.40000000e+00, -3.38000000e+00,\n",
              "       -3.36000000e+00, -3.34000000e+00, -3.32000000e+00, -3.30000000e+00,\n",
              "       -3.28000000e+00, -3.26000000e+00, -3.24000000e+00, -3.22000000e+00,\n",
              "       -3.20000000e+00, -3.18000000e+00, -3.16000000e+00, -3.14000000e+00,\n",
              "       -3.12000000e+00, -3.10000000e+00, -3.08000000e+00, -3.06000000e+00,\n",
              "       -3.04000000e+00, -3.02000000e+00, -3.00000000e+00, -2.98000000e+00,\n",
              "       -2.96000000e+00, -2.94000000e+00, -2.92000000e+00, -2.90000000e+00,\n",
              "       -2.88000000e+00, -2.86000000e+00, -2.84000000e+00, -2.82000000e+00,\n",
              "       -2.80000000e+00, -2.78000000e+00, -2.76000000e+00, -2.74000000e+00,\n",
              "       -2.72000000e+00, -2.70000000e+00, -2.68000000e+00, -2.66000000e+00,\n",
              "       -2.64000000e+00, -2.62000000e+00, -2.60000000e+00, -2.58000000e+00,\n",
              "       -2.56000000e+00, -2.54000000e+00, -2.52000000e+00, -2.50000000e+00,\n",
              "       -2.48000000e+00, -2.46000000e+00, -2.44000000e+00, -2.42000000e+00,\n",
              "       -2.40000000e+00, -2.38000000e+00, -2.36000000e+00, -2.34000000e+00,\n",
              "       -2.32000000e+00, -2.30000000e+00, -2.28000000e+00, -2.26000000e+00,\n",
              "       -2.24000000e+00, -2.22000000e+00, -2.20000000e+00, -2.18000000e+00,\n",
              "       -2.16000000e+00, -2.14000000e+00, -2.12000000e+00, -2.10000000e+00,\n",
              "       -2.08000000e+00, -2.06000000e+00, -2.04000000e+00, -2.02000000e+00,\n",
              "       -2.00000000e+00, -1.98000000e+00, -1.96000000e+00, -1.94000000e+00,\n",
              "       -1.92000000e+00, -1.90000000e+00, -1.88000000e+00, -1.86000000e+00,\n",
              "       -1.84000000e+00, -1.82000000e+00, -1.80000000e+00, -1.78000000e+00,\n",
              "       -1.76000000e+00, -1.74000000e+00, -1.72000000e+00, -1.70000000e+00,\n",
              "       -1.68000000e+00, -1.66000000e+00, -1.64000000e+00, -1.62000000e+00,\n",
              "       -1.60000000e+00, -1.58000000e+00, -1.56000000e+00, -1.54000000e+00,\n",
              "       -1.52000000e+00, -1.50000000e+00, -1.48000000e+00, -1.46000000e+00,\n",
              "       -1.44000000e+00, -1.42000000e+00, -1.40000000e+00, -1.38000000e+00,\n",
              "       -1.36000000e+00, -1.34000000e+00, -1.32000000e+00, -1.30000000e+00,\n",
              "       -1.28000000e+00, -1.26000000e+00, -1.24000000e+00, -1.22000000e+00,\n",
              "       -1.20000000e+00, -1.18000000e+00, -1.16000000e+00, -1.14000000e+00,\n",
              "       -1.12000000e+00, -1.10000000e+00, -1.08000000e+00, -1.06000000e+00,\n",
              "       -1.04000000e+00, -1.02000000e+00, -1.00000000e+00, -9.80000000e-01,\n",
              "       -9.60000000e-01, -9.40000000e-01, -9.20000000e-01, -9.00000000e-01,\n",
              "       -8.80000000e-01, -8.60000000e-01, -8.40000000e-01, -8.20000000e-01,\n",
              "       -8.00000000e-01, -7.80000000e-01, -7.60000000e-01, -7.40000000e-01,\n",
              "       -7.20000000e-01, -7.00000000e-01, -6.80000000e-01, -6.60000000e-01,\n",
              "       -6.40000000e-01, -6.20000000e-01, -6.00000000e-01, -5.80000000e-01,\n",
              "       -5.60000000e-01, -5.40000000e-01, -5.20000000e-01, -5.00000000e-01,\n",
              "       -4.80000000e-01, -4.60000000e-01, -4.40000000e-01, -4.20000000e-01,\n",
              "       -4.00000000e-01, -3.80000000e-01, -3.60000000e-01, -3.40000000e-01,\n",
              "       -3.20000000e-01, -3.00000000e-01, -2.80000000e-01, -2.60000000e-01,\n",
              "       -2.40000000e-01, -2.20000000e-01, -2.00000000e-01, -1.80000000e-01,\n",
              "       -1.60000000e-01, -1.40000000e-01, -1.20000000e-01, -1.00000000e-01,\n",
              "       -8.00000000e-02, -6.00000000e-02, -4.00000000e-02, -2.00000000e-02,\n",
              "       -2.13162821e-13,  2.00000000e-02,  4.00000000e-02,  6.00000000e-02,\n",
              "        8.00000000e-02,  1.00000000e-01,  1.20000000e-01,  1.40000000e-01,\n",
              "        1.60000000e-01,  1.80000000e-01,  2.00000000e-01,  2.20000000e-01,\n",
              "        2.40000000e-01,  2.60000000e-01,  2.80000000e-01,  3.00000000e-01,\n",
              "        3.20000000e-01,  3.40000000e-01,  3.60000000e-01,  3.80000000e-01,\n",
              "        4.00000000e-01,  4.20000000e-01,  4.40000000e-01,  4.60000000e-01,\n",
              "        4.80000000e-01,  5.00000000e-01,  5.20000000e-01,  5.40000000e-01,\n",
              "        5.60000000e-01,  5.80000000e-01,  6.00000000e-01,  6.20000000e-01,\n",
              "        6.40000000e-01,  6.60000000e-01,  6.80000000e-01,  7.00000000e-01,\n",
              "        7.20000000e-01,  7.40000000e-01,  7.60000000e-01,  7.80000000e-01,\n",
              "        8.00000000e-01,  8.20000000e-01,  8.40000000e-01,  8.60000000e-01,\n",
              "        8.80000000e-01,  9.00000000e-01,  9.20000000e-01,  9.40000000e-01,\n",
              "        9.60000000e-01,  9.80000000e-01,  1.00000000e+00,  1.02000000e+00,\n",
              "        1.04000000e+00,  1.06000000e+00,  1.08000000e+00,  1.10000000e+00,\n",
              "        1.12000000e+00,  1.14000000e+00,  1.16000000e+00,  1.18000000e+00,\n",
              "        1.20000000e+00,  1.22000000e+00,  1.24000000e+00,  1.26000000e+00,\n",
              "        1.28000000e+00,  1.30000000e+00,  1.32000000e+00,  1.34000000e+00,\n",
              "        1.36000000e+00,  1.38000000e+00,  1.40000000e+00,  1.42000000e+00,\n",
              "        1.44000000e+00,  1.46000000e+00,  1.48000000e+00,  1.50000000e+00,\n",
              "        1.52000000e+00,  1.54000000e+00,  1.56000000e+00,  1.58000000e+00,\n",
              "        1.60000000e+00,  1.62000000e+00,  1.64000000e+00,  1.66000000e+00,\n",
              "        1.68000000e+00,  1.70000000e+00,  1.72000000e+00,  1.74000000e+00,\n",
              "        1.76000000e+00,  1.78000000e+00,  1.80000000e+00,  1.82000000e+00,\n",
              "        1.84000000e+00,  1.86000000e+00,  1.88000000e+00,  1.90000000e+00,\n",
              "        1.92000000e+00,  1.94000000e+00,  1.96000000e+00,  1.98000000e+00,\n",
              "        2.00000000e+00,  2.02000000e+00,  2.04000000e+00,  2.06000000e+00,\n",
              "        2.08000000e+00,  2.10000000e+00,  2.12000000e+00,  2.14000000e+00,\n",
              "        2.16000000e+00,  2.18000000e+00,  2.20000000e+00,  2.22000000e+00,\n",
              "        2.24000000e+00,  2.26000000e+00,  2.28000000e+00,  2.30000000e+00,\n",
              "        2.32000000e+00,  2.34000000e+00,  2.36000000e+00,  2.38000000e+00,\n",
              "        2.40000000e+00,  2.42000000e+00,  2.44000000e+00,  2.46000000e+00,\n",
              "        2.48000000e+00,  2.50000000e+00,  2.52000000e+00,  2.54000000e+00,\n",
              "        2.56000000e+00,  2.58000000e+00,  2.60000000e+00,  2.62000000e+00,\n",
              "        2.64000000e+00,  2.66000000e+00,  2.68000000e+00,  2.70000000e+00,\n",
              "        2.72000000e+00,  2.74000000e+00,  2.76000000e+00,  2.78000000e+00,\n",
              "        2.80000000e+00,  2.82000000e+00,  2.84000000e+00,  2.86000000e+00,\n",
              "        2.88000000e+00,  2.90000000e+00,  2.92000000e+00,  2.94000000e+00,\n",
              "        2.96000000e+00,  2.98000000e+00,  3.00000000e+00,  3.02000000e+00,\n",
              "        3.04000000e+00,  3.06000000e+00,  3.08000000e+00,  3.10000000e+00,\n",
              "        3.12000000e+00,  3.14000000e+00,  3.16000000e+00,  3.18000000e+00,\n",
              "        3.20000000e+00,  3.22000000e+00,  3.24000000e+00,  3.26000000e+00,\n",
              "        3.28000000e+00,  3.30000000e+00,  3.32000000e+00,  3.34000000e+00,\n",
              "        3.36000000e+00,  3.38000000e+00,  3.40000000e+00,  3.42000000e+00,\n",
              "        3.44000000e+00,  3.46000000e+00,  3.48000000e+00,  3.50000000e+00,\n",
              "        3.52000000e+00,  3.54000000e+00,  3.56000000e+00,  3.58000000e+00,\n",
              "        3.60000000e+00,  3.62000000e+00,  3.64000000e+00,  3.66000000e+00,\n",
              "        3.68000000e+00,  3.70000000e+00,  3.72000000e+00,  3.74000000e+00,\n",
              "        3.76000000e+00,  3.78000000e+00,  3.80000000e+00,  3.82000000e+00,\n",
              "        3.84000000e+00,  3.86000000e+00,  3.88000000e+00,  3.90000000e+00,\n",
              "        3.92000000e+00,  3.94000000e+00,  3.96000000e+00,  3.98000000e+00,\n",
              "        4.00000000e+00,  4.02000000e+00,  4.04000000e+00,  4.06000000e+00,\n",
              "        4.08000000e+00,  4.10000000e+00,  4.12000000e+00,  4.14000000e+00,\n",
              "        4.16000000e+00,  4.18000000e+00,  4.20000000e+00,  4.22000000e+00,\n",
              "        4.24000000e+00,  4.26000000e+00,  4.28000000e+00,  4.30000000e+00,\n",
              "        4.32000000e+00,  4.34000000e+00,  4.36000000e+00,  4.38000000e+00,\n",
              "        4.40000000e+00,  4.42000000e+00,  4.44000000e+00,  4.46000000e+00,\n",
              "        4.48000000e+00,  4.50000000e+00,  4.52000000e+00,  4.54000000e+00,\n",
              "        4.56000000e+00,  4.58000000e+00,  4.60000000e+00,  4.62000000e+00,\n",
              "        4.64000000e+00,  4.66000000e+00,  4.68000000e+00,  4.70000000e+00,\n",
              "        4.72000000e+00,  4.74000000e+00,  4.76000000e+00,  4.78000000e+00,\n",
              "        4.80000000e+00,  4.82000000e+00,  4.84000000e+00,  4.86000000e+00,\n",
              "        4.88000000e+00,  4.90000000e+00,  4.92000000e+00,  4.94000000e+00,\n",
              "        4.96000000e+00,  4.98000000e+00,  5.00000000e+00,  5.02000000e+00,\n",
              "        5.04000000e+00,  5.06000000e+00,  5.08000000e+00,  5.10000000e+00,\n",
              "        5.12000000e+00,  5.14000000e+00,  5.16000000e+00,  5.18000000e+00,\n",
              "        5.20000000e+00,  5.22000000e+00,  5.24000000e+00,  5.26000000e+00,\n",
              "        5.28000000e+00,  5.30000000e+00,  5.32000000e+00,  5.34000000e+00,\n",
              "        5.36000000e+00,  5.38000000e+00,  5.40000000e+00,  5.42000000e+00,\n",
              "        5.44000000e+00,  5.46000000e+00,  5.48000000e+00,  5.50000000e+00,\n",
              "        5.52000000e+00,  5.54000000e+00,  5.56000000e+00,  5.58000000e+00,\n",
              "        5.60000000e+00,  5.62000000e+00,  5.64000000e+00,  5.66000000e+00,\n",
              "        5.68000000e+00,  5.70000000e+00,  5.72000000e+00,  5.74000000e+00,\n",
              "        5.76000000e+00,  5.78000000e+00,  5.80000000e+00,  5.82000000e+00,\n",
              "        5.84000000e+00,  5.86000000e+00,  5.88000000e+00,  5.90000000e+00,\n",
              "        5.92000000e+00,  5.94000000e+00,  5.96000000e+00,  5.98000000e+00,\n",
              "        6.00000000e+00,  6.02000000e+00,  6.04000000e+00,  6.06000000e+00,\n",
              "        6.08000000e+00,  6.10000000e+00,  6.12000000e+00,  6.14000000e+00,\n",
              "        6.16000000e+00,  6.18000000e+00,  6.20000000e+00,  6.22000000e+00,\n",
              "        6.24000000e+00,  6.26000000e+00,  6.28000000e+00,  6.30000000e+00,\n",
              "        6.32000000e+00,  6.34000000e+00,  6.36000000e+00,  6.38000000e+00,\n",
              "        6.40000000e+00,  6.42000000e+00,  6.44000000e+00,  6.46000000e+00,\n",
              "        6.48000000e+00,  6.50000000e+00,  6.52000000e+00,  6.54000000e+00,\n",
              "        6.56000000e+00,  6.58000000e+00,  6.60000000e+00,  6.62000000e+00,\n",
              "        6.64000000e+00,  6.66000000e+00,  6.68000000e+00,  6.70000000e+00,\n",
              "        6.72000000e+00,  6.74000000e+00,  6.76000000e+00,  6.78000000e+00,\n",
              "        6.80000000e+00,  6.82000000e+00,  6.84000000e+00,  6.86000000e+00,\n",
              "        6.88000000e+00,  6.90000000e+00,  6.92000000e+00,  6.94000000e+00,\n",
              "        6.96000000e+00,  6.98000000e+00,  7.00000000e+00,  7.02000000e+00,\n",
              "        7.04000000e+00,  7.06000000e+00,  7.08000000e+00,  7.10000000e+00,\n",
              "        7.12000000e+00,  7.14000000e+00,  7.16000000e+00,  7.18000000e+00,\n",
              "        7.20000000e+00,  7.22000000e+00,  7.24000000e+00,  7.26000000e+00,\n",
              "        7.28000000e+00,  7.30000000e+00,  7.32000000e+00,  7.34000000e+00,\n",
              "        7.36000000e+00,  7.38000000e+00,  7.40000000e+00,  7.42000000e+00,\n",
              "        7.44000000e+00,  7.46000000e+00,  7.48000000e+00,  7.50000000e+00,\n",
              "        7.52000000e+00,  7.54000000e+00,  7.56000000e+00,  7.58000000e+00,\n",
              "        7.60000000e+00,  7.62000000e+00,  7.64000000e+00,  7.66000000e+00,\n",
              "        7.68000000e+00,  7.70000000e+00,  7.72000000e+00,  7.74000000e+00,\n",
              "        7.76000000e+00,  7.78000000e+00,  7.80000000e+00,  7.82000000e+00,\n",
              "        7.84000000e+00,  7.86000000e+00,  7.88000000e+00,  7.90000000e+00,\n",
              "        7.92000000e+00,  7.94000000e+00,  7.96000000e+00,  7.98000000e+00,\n",
              "        8.00000000e+00,  8.02000000e+00,  8.04000000e+00,  8.06000000e+00,\n",
              "        8.08000000e+00,  8.10000000e+00,  8.12000000e+00,  8.14000000e+00,\n",
              "        8.16000000e+00,  8.18000000e+00,  8.20000000e+00,  8.22000000e+00,\n",
              "        8.24000000e+00,  8.26000000e+00,  8.28000000e+00,  8.30000000e+00,\n",
              "        8.32000000e+00,  8.34000000e+00,  8.36000000e+00,  8.38000000e+00,\n",
              "        8.40000000e+00,  8.42000000e+00,  8.44000000e+00,  8.46000000e+00,\n",
              "        8.48000000e+00,  8.50000000e+00,  8.52000000e+00,  8.54000000e+00,\n",
              "        8.56000000e+00,  8.58000000e+00,  8.60000000e+00,  8.62000000e+00,\n",
              "        8.64000000e+00,  8.66000000e+00,  8.68000000e+00,  8.70000000e+00,\n",
              "        8.72000000e+00,  8.74000000e+00,  8.76000000e+00,  8.78000000e+00,\n",
              "        8.80000000e+00,  8.82000000e+00,  8.84000000e+00,  8.86000000e+00,\n",
              "        8.88000000e+00,  8.90000000e+00,  8.92000000e+00,  8.94000000e+00,\n",
              "        8.96000000e+00,  8.98000000e+00,  9.00000000e+00,  9.02000000e+00,\n",
              "        9.04000000e+00,  9.06000000e+00,  9.08000000e+00,  9.10000000e+00,\n",
              "        9.12000000e+00,  9.14000000e+00,  9.16000000e+00,  9.18000000e+00,\n",
              "        9.20000000e+00,  9.22000000e+00,  9.24000000e+00,  9.26000000e+00,\n",
              "        9.28000000e+00,  9.30000000e+00,  9.32000000e+00,  9.34000000e+00,\n",
              "        9.36000000e+00,  9.38000000e+00,  9.40000000e+00,  9.42000000e+00,\n",
              "        9.44000000e+00,  9.46000000e+00,  9.48000000e+00,  9.50000000e+00,\n",
              "        9.52000000e+00,  9.54000000e+00,  9.56000000e+00,  9.58000000e+00,\n",
              "        9.60000000e+00,  9.62000000e+00,  9.64000000e+00,  9.66000000e+00,\n",
              "        9.68000000e+00,  9.70000000e+00,  9.72000000e+00,  9.74000000e+00,\n",
              "        9.76000000e+00,  9.78000000e+00,  9.80000000e+00,  9.82000000e+00,\n",
              "        9.84000000e+00,  9.86000000e+00,  9.88000000e+00,  9.90000000e+00,\n",
              "        9.92000000e+00,  9.94000000e+00,  9.96000000e+00,  9.98000000e+00])"
            ]
          },
          "metadata": {
            "tags": []
          },
          "execution_count": 2
        }
      ]
    },
    {
      "cell_type": "code",
      "metadata": {
        "colab": {
          "base_uri": "https://localhost:8080/"
        },
        "id": "DlBOMQavkaAh",
        "outputId": "e0949bd4-a641-4443-c9e5-4ccdb210d0eb"
      },
      "source": [
        "# グリッドの作成\n",
        "# 配列の要素から格子列を生成する\n",
        "xi,yi=np.meshgrid(arr,arr)\n",
        "\n",
        "xi"
      ],
      "execution_count": 3,
      "outputs": [
        {
          "output_type": "execute_result",
          "data": {
            "text/plain": [
              "array([[-10.  ,  -9.98,  -9.96, ...,   9.94,   9.96,   9.98],\n",
              "       [-10.  ,  -9.98,  -9.96, ...,   9.94,   9.96,   9.98],\n",
              "       [-10.  ,  -9.98,  -9.96, ...,   9.94,   9.96,   9.98],\n",
              "       ...,\n",
              "       [-10.  ,  -9.98,  -9.96, ...,   9.94,   9.96,   9.98],\n",
              "       [-10.  ,  -9.98,  -9.96, ...,   9.94,   9.96,   9.98],\n",
              "       [-10.  ,  -9.98,  -9.96, ...,   9.94,   9.96,   9.98]])"
            ]
          },
          "metadata": {
            "tags": []
          },
          "execution_count": 3
        }
      ]
    },
    {
      "cell_type": "code",
      "metadata": {
        "colab": {
          "base_uri": "https://localhost:8080/",
          "height": 289
        },
        "id": "Hv5WUGTDkkTz",
        "outputId": "3ae42335-a335-48d1-8be4-5114ca19f7bb"
      },
      "source": [
        "plt.imshow(xi)"
      ],
      "execution_count": 4,
      "outputs": [
        {
          "output_type": "execute_result",
          "data": {
            "text/plain": [
              "<matplotlib.image.AxesImage at 0x7fa97e56e810>"
            ]
          },
          "metadata": {
            "tags": []
          },
          "execution_count": 4
        },
        {
          "output_type": "display_data",
          "data": {
            "image/png": "[encoded data removed]",
            "text/plain": [
              "<Figure size 432x288 with 1 Axes>"
            ]
          },
          "metadata": {
            "tags": []
          }
        }
      ]
    },
    {
      "cell_type": "markdown",
      "metadata": {
        "id": "IQB-Ha73PMB-"
      },
      "source": [
        "### リスト内包表記"
      ]
    },
    {
      "cell_type": "code",
      "metadata": {
        "colab": {
          "base_uri": "https://localhost:8080/"
        },
        "id": "cvroSicpPLqf",
        "outputId": "693b6283-6413-4684-b7f8-45d947af0a29"
      },
      "source": [
        "# 真のときの値 if 条件式 else 偽のときの値\n",
        "a = 3\n",
        "simple = [1 if a==3 else 0]\n",
        "\n",
        "simple"
      ],
      "execution_count": 5,
      "outputs": [
        {
          "output_type": "execute_result",
          "data": {
            "text/plain": [
              "[1]"
            ]
          },
          "metadata": {
            "tags": []
          },
          "execution_count": 5
        }
      ]
    },
    {
      "cell_type": "code",
      "metadata": {
        "colab": {
          "base_uri": "https://localhost:8080/"
        },
        "id": "pLfFn1f7PZDY",
        "outputId": "47aafd7a-03db-4e11-a4b8-eca93530311c"
      },
      "source": [
        "# [式 for 任意の変数名 in イテラブルオブジェクト if 条件式]\n",
        "easy = [i for i in range(10) if i % 2 == 1]\n",
        "\n",
        "easy"
      ],
      "execution_count": 6,
      "outputs": [
        {
          "output_type": "execute_result",
          "data": {
            "text/plain": [
              "[1, 3, 5, 7, 9]"
            ]
          },
          "metadata": {
            "tags": []
          },
          "execution_count": 6
        }
      ]
    },
    {
      "cell_type": "code",
      "metadata": {
        "colab": {
          "base_uri": "https://localhost:8080/"
        },
        "id": "GBefXD0ylTFF",
        "outputId": "2527928f-0d21-411c-eb09-6fbe0fd2c8bc"
      },
      "source": [
        "A = np.array([2,4,8,16])\n",
        "B = np.array([10,20,30,40])\n",
        "\n",
        "# 真偽値の配列\n",
        "boo = np.array([False,True,False,False])\n",
        "\n",
        "# 真のときの値 if 条件式 else 偽のときの値 for 任意の変数名 in イテラブルオブジェクト]\n",
        "listin = [(c if cond else d) for c,d,cond in zip(A,B,boo)]\n",
        "\n",
        "listin"
      ],
      "execution_count": 7,
      "outputs": [
        {
          "output_type": "execute_result",
          "data": {
            "text/plain": [
              "[10, 4, 30, 40]"
            ]
          },
          "metadata": {
            "tags": []
          },
          "execution_count": 7
        }
      ]
    },
    {
      "cell_type": "code",
      "metadata": {
        "colab": {
          "base_uri": "https://localhost:8080/"
        },
        "id": "r3rw0dlUlgUK",
        "outputId": "50331ac1-cf27-4750-b5bc-1902b0b860d0"
      },
      "source": [
        "# numpy.where\n",
        "# numpy.where()を使うと、NumPy配列ndarrayに対して、条件を満たす要素を置換したり特定の処理を行ったりすることができる\n",
        "conclude = np.where(boo,A,B)\n",
        "\n",
        "conclude"
      ],
      "execution_count": 8,
      "outputs": [
        {
          "output_type": "execute_result",
          "data": {
            "text/plain": [
              "array([10,  4, 30, 40])"
            ]
          },
          "metadata": {
            "tags": []
          },
          "execution_count": 8
        }
      ]
    },
    {
      "cell_type": "code",
      "metadata": {
        "colab": {
          "base_uri": "https://localhost:8080/"
        },
        "id": "lUUQSdjWlpkq",
        "outputId": "d313274d-bb2e-4df0-c71a-12b0a526ed03"
      },
      "source": [
        "#np.whereは2次元の配列に使用\n",
        "from numpy.random import randn\n",
        "ary = randn(10,10)\n",
        "\n",
        "# 0未満なら0,そうでなければ元の値。\n",
        "np.where(ary < 0,0,ary)"
      ],
      "execution_count": 9,
      "outputs": [
        {
          "output_type": "execute_result",
          "data": {
            "text/plain": [
              "array([[0.61559046, 0.        , 0.        , 0.07225036, 0.71496147,\n",
              "        0.        , 0.70056804, 0.        , 0.        , 1.42878625],\n",
              "       [0.11750949, 0.        , 0.        , 0.        , 0.        ,\n",
              "        0.25514648, 1.72474999, 0.        , 0.        , 1.1268011 ],\n",
              "       [0.        , 0.        , 0.        , 0.        , 0.49662707,\n",
              "        0.        , 0.33412348, 0.        , 0.82297038, 0.        ],\n",
              "       [0.        , 1.62159406, 0.        , 0.        , 1.31601057,\n",
              "        0.        , 0.        , 1.60012493, 0.28841511, 0.        ],\n",
              "       [0.        , 0.03888111, 1.0156447 , 0.        , 1.16071082,\n",
              "        0.        , 0.        , 0.29420047, 0.        , 0.59167552],\n",
              "       [0.        , 0.13651522, 0.57195584, 0.        , 0.        ,\n",
              "        1.25084005, 0.93462532, 0.61918184, 1.64848101, 0.        ],\n",
              "       [0.81601984, 0.        , 0.        , 0.6653438 , 0.        ,\n",
              "        0.        , 0.        , 0.        , 0.        , 0.        ],\n",
              "       [0.        , 0.34188238, 0.42751189, 0.97540155, 0.        ,\n",
              "        0.        , 0.7685444 , 0.        , 0.        , 0.        ],\n",
              "       [1.45729122, 0.        , 0.        , 1.46066253, 1.22472632,\n",
              "        3.09076979, 1.0985846 , 0.        , 0.        , 1.21107286],\n",
              "       [0.        , 0.97157424, 1.25938961, 0.        , 0.16736556,\n",
              "        0.70675702, 0.        , 1.66025216, 1.5412046 , 0.        ]])"
            ]
          },
          "metadata": {
            "tags": []
          },
          "execution_count": 9
        }
      ]
    },
    {
      "cell_type": "code",
      "metadata": {
        "colab": {
          "base_uri": "https://localhost:8080/"
        },
        "id": "k-DbPS-MmCDb",
        "outputId": "fd24e717-b6d6-421c-d328-e0c0fa84dc7f"
      },
      "source": [
        "# その他の統計的な計算\n",
        "arr = np.array([[3,2,1],[6,5,4],[7,8,9]])\n",
        "\n",
        "# 合計\n",
        "arr.sum()"
      ],
      "execution_count": 10,
      "outputs": [
        {
          "output_type": "execute_result",
          "data": {
            "text/plain": [
              "45"
            ]
          },
          "metadata": {
            "tags": []
          },
          "execution_count": 10
        }
      ]
    },
    {
      "cell_type": "code",
      "metadata": {
        "colab": {
          "base_uri": "https://localhost:8080/"
        },
        "id": "HloA5m56mRY1",
        "outputId": "21a4e33b-ee40-4346-8f0f-23652b300991"
      },
      "source": [
        "# any\n",
        "bool_arr = np.array([True,False,True])\n",
        "# １つでもTrueがあるか\n",
        "bool_arr.any()"
      ],
      "execution_count": 11,
      "outputs": [
        {
          "output_type": "execute_result",
          "data": {
            "text/plain": [
              "True"
            ]
          },
          "metadata": {
            "tags": []
          },
          "execution_count": 11
        }
      ]
    },
    {
      "cell_type": "code",
      "metadata": {
        "colab": {
          "base_uri": "https://localhost:8080/"
        },
        "id": "We5egsXNo4G1",
        "outputId": "83a4e0c6-b937-470a-9c6e-9353e2633764"
      },
      "source": [
        "# all\n",
        "# 全部Trueか？\n",
        "bool_arr.all()"
      ],
      "execution_count": 12,
      "outputs": [
        {
          "output_type": "execute_result",
          "data": {
            "text/plain": [
              "False"
            ]
          },
          "metadata": {
            "tags": []
          },
          "execution_count": 12
        }
      ]
    },
    {
      "cell_type": "code",
      "metadata": {
        "colab": {
          "base_uri": "https://localhost:8080/"
        },
        "id": "yZksiL-Oo7Wo",
        "outputId": "b6b5f836-d2a9-4b76-c4e4-74f69b66c7ec"
      },
      "source": [
        "# ランダムに配列を用意\n",
        "arr = randn(15)\n",
        "arr"
      ],
      "execution_count": 13,
      "outputs": [
        {
          "output_type": "execute_result",
          "data": {
            "text/plain": [
              "array([-0.30579341, -1.5350947 ,  0.91019388, -1.30515027,  0.66895859,\n",
              "       -1.53799177, -2.04796635,  0.97797421,  1.13419019, -1.15848255,\n",
              "        0.19071298,  1.53472164,  0.86086224,  0.92983567, -0.38138821])"
            ]
          },
          "metadata": {
            "tags": []
          },
          "execution_count": 13
        }
      ]
    },
    {
      "cell_type": "code",
      "metadata": {
        "colab": {
          "base_uri": "https://localhost:8080/"
        },
        "id": "wYHOJX0so9__",
        "outputId": "818a0a05-a78d-4da9-c63c-1e02cd474a6f"
      },
      "source": [
        "# 配列をソート\n",
        "arr.sort()\n",
        "arr"
      ],
      "execution_count": 14,
      "outputs": [
        {
          "output_type": "execute_result",
          "data": {
            "text/plain": [
              "array([-2.04796635, -1.53799177, -1.5350947 , -1.30515027, -1.15848255,\n",
              "       -0.38138821, -0.30579341,  0.19071298,  0.66895859,  0.86086224,\n",
              "        0.91019388,  0.92983567,  0.97797421,  1.13419019,  1.53472164])"
            ]
          },
          "metadata": {
            "tags": []
          },
          "execution_count": 14
        }
      ]
    },
    {
      "cell_type": "code",
      "metadata": {
        "colab": {
          "base_uri": "https://localhost:8080/"
        },
        "id": "hYU6JOqwpHTI",
        "outputId": "b8453699-a11b-4e61-e32b-1e2db634a704"
      },
      "source": [
        "#　uniqueで重複をなくす\n",
        "countries = np.array(['France', 'Japan', 'USA', 'Russia','USA','Mexico','Japan'])\n",
        "np.unique(countries)"
      ],
      "execution_count": 15,
      "outputs": [
        {
          "output_type": "execute_result",
          "data": {
            "text/plain": [
              "array(['France', 'Japan', 'Mexico', 'Russia', 'USA'], dtype='<U6')"
            ]
          },
          "metadata": {
            "tags": []
          },
          "execution_count": 15
        }
      ]
    },
    {
      "cell_type": "code",
      "metadata": {
        "colab": {
          "base_uri": "https://localhost:8080/"
        },
        "id": "hJqkerGEpRnG",
        "outputId": "0e9e6716-78b8-434e-8c87-e46a64584d76"
      },
      "source": [
        "# in1d test values in one array\n",
        "np.in1d(['France','USA','Sweden'],countries)"
      ],
      "execution_count": 16,
      "outputs": [
        {
          "output_type": "execute_result",
          "data": {
            "text/plain": [
              "array([ True,  True, False])"
            ]
          },
          "metadata": {
            "tags": []
          },
          "execution_count": 16
        }
      ]
    },
    {
      "cell_type": "code",
      "metadata": {
        "id": "OedgQEONqH_y"
      },
      "source": [
        "#　簡単な配列\n",
        "arr = np.arange(10)\n",
        "arr\n",
        "\n",
        "#　バイナリデータとして保存 (拡張子は .npy)\n",
        "np.save('my_array_data',arr)"
      ],
      "execution_count": 17,
      "outputs": []
    },
    {
      "cell_type": "code",
      "metadata": {
        "colab": {
          "base_uri": "https://localhost:8080/"
        },
        "id": "h_d3JS41qVZc",
        "outputId": "237a1381-3871-4182-fa20-5b0452a55e95"
      },
      "source": [
        "#　保存した配列を読み込む\n",
        "#　NumPy配列ndarrayをバイナリファイル（npy, npz）で保存\n",
        "arr1 = np.load('my_array_data.npy')\n",
        "arr1"
      ],
      "execution_count": 18,
      "outputs": [
        {
          "output_type": "execute_result",
          "data": {
            "text/plain": [
              "array([0, 1, 2, 3, 4, 5, 6, 7, 8, 9])"
            ]
          },
          "metadata": {
            "tags": []
          },
          "execution_count": 18
        }
      ]
    },
    {
      "cell_type": "code",
      "metadata": {
        "id": "RWWdmOztqhxh"
      },
      "source": [
        "arr2 = arr\n",
        "\n",
        "#　複数の配列をzip形式で保存\n",
        "np.savez('ziparrays.npz',x=arr1,y=arr2)"
      ],
      "execution_count": 19,
      "outputs": []
    },
    {
      "cell_type": "code",
      "metadata": {
        "colab": {
          "base_uri": "https://localhost:8080/"
        },
        "id": "viCelNjRqr3V",
        "outputId": "f382e179-8e61-453b-9e45-78de70c156d3"
      },
      "source": [
        "#　ディスクから読み込む\n",
        "archive_array = np.load('ziparrays.npz')\n",
        "archive_array['x']"
      ],
      "execution_count": 20,
      "outputs": [
        {
          "output_type": "execute_result",
          "data": {
            "text/plain": [
              "array([0, 1, 2, 3, 4, 5, 6, 7, 8, 9])"
            ]
          },
          "metadata": {
            "tags": []
          },
          "execution_count": 20
        }
      ]
    },
    {
      "cell_type": "code",
      "metadata": {
        "id": "VbXXL9tWqxtV"
      },
      "source": [
        "# テキストファイルとして保存\n",
        "arr = np.array([[2,2,5],[7,1,3]])\n",
        "np.savetxt('my_test_text.txt',arr,delimiter=',')"
      ],
      "execution_count": 21,
      "outputs": []
    },
    {
      "cell_type": "code",
      "metadata": {
        "colab": {
          "base_uri": "https://localhost:8080/"
        },
        "id": "WmnJhB5Xq5sF",
        "outputId": "89c01adf-7b16-48b5-c767-160c86ec4113"
      },
      "source": [
        "# ファイルの中身を表示\n",
        "!cat my_test_text.txt"
      ],
      "execution_count": 22,
      "outputs": [
        {
          "output_type": "stream",
          "text": [
            "2.000000000000000000e+00,2.000000000000000000e+00,5.000000000000000000e+00\n",
            "7.000000000000000000e+00,1.000000000000000000e+00,3.000000000000000000e+00\n"
          ],
          "name": "stdout"
        }
      ]
    },
    {
      "cell_type": "code",
      "metadata": {
        "colab": {
          "base_uri": "https://localhost:8080/"
        },
        "id": "IasuU-noq-Sp",
        "outputId": "69a4b798-52eb-4bcb-d378-7e9b56094a13"
      },
      "source": [
        "# テキストファイルを読み込む\n",
        "arr = np.loadtxt('my_test_text.txt',delimiter = ',')\n",
        "arr"
      ],
      "execution_count": 23,
      "outputs": [
        {
          "output_type": "execute_result",
          "data": {
            "text/plain": [
              "array([[2., 2., 5.],\n",
              "       [7., 1., 3.]])"
            ]
          },
          "metadata": {
            "tags": []
          },
          "execution_count": 23
        }
      ]
    },
    {
      "cell_type": "code",
      "metadata": {
        "colab": {
          "base_uri": "https://localhost:8080/"
        },
        "id": "V_s-78g73Owk",
        "outputId": "4a4387f9-fcba-4fc5-c0e6-99b5eaf4cca3"
      },
      "source": [
        "# for文を使用\n",
        "words = [['Japanese', 'English', 'French'], ['JAPAN', 'KOREA', 'CHINA']]\n",
        "for i in words:\n",
        "    print(i)"
      ],
      "execution_count": 24,
      "outputs": [
        {
          "output_type": "stream",
          "text": [
            "['Japanese', 'English', 'French']\n",
            "['JAPAN', 'KOREA', 'CHINA']\n"
          ],
          "name": "stdout"
        }
      ]
    },
    {
      "cell_type": "markdown",
      "metadata": {
        "id": "2TqO1sT-5UI3"
      },
      "source": [
        "### Pandas"
      ]
    },
    {
      "cell_type": "code",
      "metadata": {
        "colab": {
          "base_uri": "https://localhost:8080/",
          "height": 235
        },
        "id": "YErPv0795fxx",
        "outputId": "b79e5e20-5f09-4135-e5e7-1dee6207ecc0"
      },
      "source": [
        "# モジュールの読み込み\n",
        "import numpy as np\n",
        "import pandas as pd\n",
        "\n",
        "# データの準備\n",
        "# 元のデータ\n",
        "df = pd.DataFrame({\"age\": [25,31,55,48],\n",
        "                   \"gender\":[\"F\",\"M\",\"M\",\"F\"],\n",
        "                   \"weight\": [48,67,78,42]})\n",
        "# 追加するデータ\n",
        "df2 = pd.DataFrame({\"age\": [29,31],\n",
        "                   \"gender\": [\"M\", \"F\"],\n",
        "                    \"weight\": [59,52]})\n",
        "\n",
        "# dfにdf2を追加 dfは4行のまま\n",
        "df.append(df2, ignore_index=True,)"
      ],
      "execution_count": 25,
      "outputs": [
        {
          "output_type": "execute_result",
          "data": {
            "text/html": [
              "<div>\n",
              "<style scoped>\n",
              "    .dataframe tbody tr th:only-of-type {\n",
              "        vertical-align: middle;\n",
              "    }\n",
              "\n",
              "    .dataframe tbody tr th {\n",
              "        vertical-align: top;\n",
              "    }\n",
              "\n",
              "    .dataframe thead th {\n",
              "        text-align: right;\n",
              "    }\n",
              "</style>\n",
              "<table border=\"1\" class=\"dataframe\">\n",
              "  <thead>\n",
              "    <tr style=\"text-align: right;\">\n",
              "      <th></th>\n",
              "      <th>age</th>\n",
              "      <th>gender</th>\n",
              "      <th>weight</th>\n",
              "    </tr>\n",
              "  </thead>\n",
              "  <tbody>\n",
              "    <tr>\n",
              "      <th>0</th>\n",
              "      <td>25</td>\n",
              "      <td>F</td>\n",
              "      <td>48</td>\n",
              "    </tr>\n",
              "    <tr>\n",
              "      <th>1</th>\n",
              "      <td>31</td>\n",
              "      <td>M</td>\n",
              "      <td>67</td>\n",
              "    </tr>\n",
              "    <tr>\n",
              "      <th>2</th>\n",
              "      <td>55</td>\n",
              "      <td>M</td>\n",
              "      <td>78</td>\n",
              "    </tr>\n",
              "    <tr>\n",
              "      <th>3</th>\n",
              "      <td>48</td>\n",
              "      <td>F</td>\n",
              "      <td>42</td>\n",
              "    </tr>\n",
              "    <tr>\n",
              "      <th>4</th>\n",
              "      <td>29</td>\n",
              "      <td>M</td>\n",
              "      <td>59</td>\n",
              "    </tr>\n",
              "    <tr>\n",
              "      <th>5</th>\n",
              "      <td>31</td>\n",
              "      <td>F</td>\n",
              "      <td>52</td>\n",
              "    </tr>\n",
              "  </tbody>\n",
              "</table>\n",
              "</div>"
            ],
            "text/plain": [
              "   age gender  weight\n",
              "0   25      F      48\n",
              "1   31      M      67\n",
              "2   55      M      78\n",
              "3   48      F      42\n",
              "4   29      M      59\n",
              "5   31      F      52"
            ]
          },
          "metadata": {
            "tags": []
          },
          "execution_count": 25
        }
      ]
    },
    {
      "cell_type": "code",
      "metadata": {
        "colab": {
          "base_uri": "https://localhost:8080/",
          "height": 173
        },
        "id": "YjBinrc654cN",
        "outputId": "53778e0e-7c50-42d6-8471-deda87e5aa52"
      },
      "source": [
        "# ゼロで穴埋め\n",
        "df_fillna = df.fillna(0)\n",
        "df_fillna\n",
        "\n",
        "# 重複チェックし、重複している場合は最初の行を残す\n",
        "df_fillna = df_fillna.drop_duplicates()\n",
        "df_fillna"
      ],
      "execution_count": 26,
      "outputs": [
        {
          "output_type": "execute_result",
          "data": {
            "text/html": [
              "<div>\n",
              "<style scoped>\n",
              "    .dataframe tbody tr th:only-of-type {\n",
              "        vertical-align: middle;\n",
              "    }\n",
              "\n",
              "    .dataframe tbody tr th {\n",
              "        vertical-align: top;\n",
              "    }\n",
              "\n",
              "    .dataframe thead th {\n",
              "        text-align: right;\n",
              "    }\n",
              "</style>\n",
              "<table border=\"1\" class=\"dataframe\">\n",
              "  <thead>\n",
              "    <tr style=\"text-align: right;\">\n",
              "      <th></th>\n",
              "      <th>age</th>\n",
              "      <th>gender</th>\n",
              "      <th>weight</th>\n",
              "    </tr>\n",
              "  </thead>\n",
              "  <tbody>\n",
              "    <tr>\n",
              "      <th>0</th>\n",
              "      <td>25</td>\n",
              "      <td>F</td>\n",
              "      <td>48</td>\n",
              "    </tr>\n",
              "    <tr>\n",
              "      <th>1</th>\n",
              "      <td>31</td>\n",
              "      <td>M</td>\n",
              "      <td>67</td>\n",
              "    </tr>\n",
              "    <tr>\n",
              "      <th>2</th>\n",
              "      <td>55</td>\n",
              "      <td>M</td>\n",
              "      <td>78</td>\n",
              "    </tr>\n",
              "    <tr>\n",
              "      <th>3</th>\n",
              "      <td>48</td>\n",
              "      <td>F</td>\n",
              "      <td>42</td>\n",
              "    </tr>\n",
              "  </tbody>\n",
              "</table>\n",
              "</div>"
            ],
            "text/plain": [
              "   age gender  weight\n",
              "0   25      F      48\n",
              "1   31      M      67\n",
              "2   55      M      78\n",
              "3   48      F      42"
            ]
          },
          "metadata": {
            "tags": []
          },
          "execution_count": 26
        }
      ]
    },
    {
      "cell_type": "code",
      "metadata": {
        "colab": {
          "base_uri": "https://localhost:8080/",
          "height": 204
        },
        "id": "x-tiFVCN6Fiv",
        "outputId": "e5a8d1df-43ae-4a47-d014-4d1802d56972"
      },
      "source": [
        "# データ準備\n",
        "x = {\"店舗名\": [\"六本木店\", \"渋谷店\", \"横浜店\", \"川崎店\", \"大宮店\"],\n",
        "    \"売上\": [1000000, 6000000, None, 150000, None]\n",
        "    }\n",
        "\n",
        "# データフレーム化\n",
        "df = pd.DataFrame(x)\n",
        "df\n",
        "\n",
        "# ゼロで穴埋め\n",
        "df_fillna = df.fillna(0)\n",
        "df_fillna\n",
        "\n",
        "# 値で降順にソート\n",
        "df_fillna.sort_values(by=\"売上\", ascending=False)"
      ],
      "execution_count": 27,
      "outputs": [
        {
          "output_type": "execute_result",
          "data": {
            "text/html": [
              "<div>\n",
              "<style scoped>\n",
              "    .dataframe tbody tr th:only-of-type {\n",
              "        vertical-align: middle;\n",
              "    }\n",
              "\n",
              "    .dataframe tbody tr th {\n",
              "        vertical-align: top;\n",
              "    }\n",
              "\n",
              "    .dataframe thead th {\n",
              "        text-align: right;\n",
              "    }\n",
              "</style>\n",
              "<table border=\"1\" class=\"dataframe\">\n",
              "  <thead>\n",
              "    <tr style=\"text-align: right;\">\n",
              "      <th></th>\n",
              "      <th>店舗名</th>\n",
              "      <th>売上</th>\n",
              "    </tr>\n",
              "  </thead>\n",
              "  <tbody>\n",
              "    <tr>\n",
              "      <th>1</th>\n",
              "      <td>渋谷店</td>\n",
              "      <td>6000000.0</td>\n",
              "    </tr>\n",
              "    <tr>\n",
              "      <th>0</th>\n",
              "      <td>六本木店</td>\n",
              "      <td>1000000.0</td>\n",
              "    </tr>\n",
              "    <tr>\n",
              "      <th>3</th>\n",
              "      <td>川崎店</td>\n",
              "      <td>150000.0</td>\n",
              "    </tr>\n",
              "    <tr>\n",
              "      <th>2</th>\n",
              "      <td>横浜店</td>\n",
              "      <td>0.0</td>\n",
              "    </tr>\n",
              "    <tr>\n",
              "      <th>4</th>\n",
              "      <td>大宮店</td>\n",
              "      <td>0.0</td>\n",
              "    </tr>\n",
              "  </tbody>\n",
              "</table>\n",
              "</div>"
            ],
            "text/plain": [
              "    店舗名         売上\n",
              "1   渋谷店  6000000.0\n",
              "0  六本木店  1000000.0\n",
              "3   川崎店   150000.0\n",
              "2   横浜店        0.0\n",
              "4   大宮店        0.0"
            ]
          },
          "metadata": {
            "tags": []
          },
          "execution_count": 27
        }
      ]
    },
    {
      "cell_type": "code",
      "metadata": {
        "colab": {
          "base_uri": "https://localhost:8080/",
          "height": 204
        },
        "id": "XBmrEKuw6Vnd",
        "outputId": "79ac6095-829f-434c-dc7f-9b7bbdd776a9"
      },
      "source": [
        "# 列の追加\n",
        "df[\"24時間営業\"] = [True, True, True, False, True]\n",
        "df"
      ],
      "execution_count": 28,
      "outputs": [
        {
          "output_type": "execute_result",
          "data": {
            "text/html": [
              "<div>\n",
              "<style scoped>\n",
              "    .dataframe tbody tr th:only-of-type {\n",
              "        vertical-align: middle;\n",
              "    }\n",
              "\n",
              "    .dataframe tbody tr th {\n",
              "        vertical-align: top;\n",
              "    }\n",
              "\n",
              "    .dataframe thead th {\n",
              "        text-align: right;\n",
              "    }\n",
              "</style>\n",
              "<table border=\"1\" class=\"dataframe\">\n",
              "  <thead>\n",
              "    <tr style=\"text-align: right;\">\n",
              "      <th></th>\n",
              "      <th>店舗名</th>\n",
              "      <th>売上</th>\n",
              "      <th>24時間営業</th>\n",
              "    </tr>\n",
              "  </thead>\n",
              "  <tbody>\n",
              "    <tr>\n",
              "      <th>0</th>\n",
              "      <td>六本木店</td>\n",
              "      <td>1000000.0</td>\n",
              "      <td>True</td>\n",
              "    </tr>\n",
              "    <tr>\n",
              "      <th>1</th>\n",
              "      <td>渋谷店</td>\n",
              "      <td>6000000.0</td>\n",
              "      <td>True</td>\n",
              "    </tr>\n",
              "    <tr>\n",
              "      <th>2</th>\n",
              "      <td>横浜店</td>\n",
              "      <td>NaN</td>\n",
              "      <td>True</td>\n",
              "    </tr>\n",
              "    <tr>\n",
              "      <th>3</th>\n",
              "      <td>川崎店</td>\n",
              "      <td>150000.0</td>\n",
              "      <td>False</td>\n",
              "    </tr>\n",
              "    <tr>\n",
              "      <th>4</th>\n",
              "      <td>大宮店</td>\n",
              "      <td>NaN</td>\n",
              "      <td>True</td>\n",
              "    </tr>\n",
              "  </tbody>\n",
              "</table>\n",
              "</div>"
            ],
            "text/plain": [
              "    店舗名         売上  24時間営業\n",
              "0  六本木店  1000000.0    True\n",
              "1   渋谷店  6000000.0    True\n",
              "2   横浜店        NaN    True\n",
              "3   川崎店   150000.0   False\n",
              "4   大宮店        NaN    True"
            ]
          },
          "metadata": {
            "tags": []
          },
          "execution_count": 28
        }
      ]
    },
    {
      "cell_type": "code",
      "metadata": {
        "colab": {
          "base_uri": "https://localhost:8080/",
          "height": 173
        },
        "id": "cFixYJOS6l6e",
        "outputId": "a20d957e-34ff-4f50-a6f9-04457e42a694"
      },
      "source": [
        "# データの準備\n",
        "students = pd.DataFrame([[2, \"山田太郎\", 1],\n",
        "                         [17, \"佐藤花子\", 4],\n",
        "                         [19, \"阿部陽子\", 3],\n",
        "                         [11, \"森田次郎\", 2]], columns=[\"sts_no\", \"sts_name\", \"circle_no\"])\n",
        "\n",
        "\n",
        "circle_no = pd.DataFrame([[1, \"野球部\"], [2, \"サッカー部\"],[3, \"バドミントン部\"],[4, \"バスケットボール部\"]], columns=[\"circle_no\", \"circle_name\"])\n",
        "\n",
        "# データの結合 SQL風\n",
        "pd.merge(students, circle_no, how=\"left\",on=\"circle_no\")"
      ],
      "execution_count": 29,
      "outputs": [
        {
          "output_type": "execute_result",
          "data": {
            "text/html": [
              "<div>\n",
              "<style scoped>\n",
              "    .dataframe tbody tr th:only-of-type {\n",
              "        vertical-align: middle;\n",
              "    }\n",
              "\n",
              "    .dataframe tbody tr th {\n",
              "        vertical-align: top;\n",
              "    }\n",
              "\n",
              "    .dataframe thead th {\n",
              "        text-align: right;\n",
              "    }\n",
              "</style>\n",
              "<table border=\"1\" class=\"dataframe\">\n",
              "  <thead>\n",
              "    <tr style=\"text-align: right;\">\n",
              "      <th></th>\n",
              "      <th>sts_no</th>\n",
              "      <th>sts_name</th>\n",
              "      <th>circle_no</th>\n",
              "      <th>circle_name</th>\n",
              "    </tr>\n",
              "  </thead>\n",
              "  <tbody>\n",
              "    <tr>\n",
              "      <th>0</th>\n",
              "      <td>2</td>\n",
              "      <td>山田太郎</td>\n",
              "      <td>1</td>\n",
              "      <td>野球部</td>\n",
              "    </tr>\n",
              "    <tr>\n",
              "      <th>1</th>\n",
              "      <td>17</td>\n",
              "      <td>佐藤花子</td>\n",
              "      <td>4</td>\n",
              "      <td>バスケットボール部</td>\n",
              "    </tr>\n",
              "    <tr>\n",
              "      <th>2</th>\n",
              "      <td>19</td>\n",
              "      <td>阿部陽子</td>\n",
              "      <td>3</td>\n",
              "      <td>バドミントン部</td>\n",
              "    </tr>\n",
              "    <tr>\n",
              "      <th>3</th>\n",
              "      <td>11</td>\n",
              "      <td>森田次郎</td>\n",
              "      <td>2</td>\n",
              "      <td>サッカー部</td>\n",
              "    </tr>\n",
              "  </tbody>\n",
              "</table>\n",
              "</div>"
            ],
            "text/plain": [
              "   sts_no sts_name  circle_no circle_name\n",
              "0       2     山田太郎          1         野球部\n",
              "1      17     佐藤花子          4   バスケットボール部\n",
              "2      19     阿部陽子          3     バドミントン部\n",
              "3      11     森田次郎          2       サッカー部"
            ]
          },
          "metadata": {
            "tags": []
          },
          "execution_count": 29
        }
      ]
    },
    {
      "cell_type": "code",
      "metadata": {
        "colab": {
          "base_uri": "https://localhost:8080/",
          "height": 235
        },
        "id": "ph-e55sZ6qj4",
        "outputId": "4de269b8-6ace-4c07-f250-d2a67eb8a217"
      },
      "source": [
        "# データの準備\n",
        "df = pd.DataFrame({\"age\": [25,31,55,48,29,31],\n",
        "                   \"gender\":[\"F\",\"M\",\"M\",\"F\",\"M\", \"F\"],\n",
        "                   \"weight\": [48,67,78,42,59,52]})\n",
        "\n",
        "df"
      ],
      "execution_count": 30,
      "outputs": [
        {
          "output_type": "execute_result",
          "data": {
            "text/html": [
              "<div>\n",
              "<style scoped>\n",
              "    .dataframe tbody tr th:only-of-type {\n",
              "        vertical-align: middle;\n",
              "    }\n",
              "\n",
              "    .dataframe tbody tr th {\n",
              "        vertical-align: top;\n",
              "    }\n",
              "\n",
              "    .dataframe thead th {\n",
              "        text-align: right;\n",
              "    }\n",
              "</style>\n",
              "<table border=\"1\" class=\"dataframe\">\n",
              "  <thead>\n",
              "    <tr style=\"text-align: right;\">\n",
              "      <th></th>\n",
              "      <th>age</th>\n",
              "      <th>gender</th>\n",
              "      <th>weight</th>\n",
              "    </tr>\n",
              "  </thead>\n",
              "  <tbody>\n",
              "    <tr>\n",
              "      <th>0</th>\n",
              "      <td>25</td>\n",
              "      <td>F</td>\n",
              "      <td>48</td>\n",
              "    </tr>\n",
              "    <tr>\n",
              "      <th>1</th>\n",
              "      <td>31</td>\n",
              "      <td>M</td>\n",
              "      <td>67</td>\n",
              "    </tr>\n",
              "    <tr>\n",
              "      <th>2</th>\n",
              "      <td>55</td>\n",
              "      <td>M</td>\n",
              "      <td>78</td>\n",
              "    </tr>\n",
              "    <tr>\n",
              "      <th>3</th>\n",
              "      <td>48</td>\n",
              "      <td>F</td>\n",
              "      <td>42</td>\n",
              "    </tr>\n",
              "    <tr>\n",
              "      <th>4</th>\n",
              "      <td>29</td>\n",
              "      <td>M</td>\n",
              "      <td>59</td>\n",
              "    </tr>\n",
              "    <tr>\n",
              "      <th>5</th>\n",
              "      <td>31</td>\n",
              "      <td>F</td>\n",
              "      <td>52</td>\n",
              "    </tr>\n",
              "  </tbody>\n",
              "</table>\n",
              "</div>"
            ],
            "text/plain": [
              "   age gender  weight\n",
              "0   25      F      48\n",
              "1   31      M      67\n",
              "2   55      M      78\n",
              "3   48      F      42\n",
              "4   29      M      59\n",
              "5   31      F      52"
            ]
          },
          "metadata": {
            "tags": []
          },
          "execution_count": 30
        }
      ]
    },
    {
      "cell_type": "code",
      "metadata": {
        "colab": {
          "base_uri": "https://localhost:8080/",
          "height": 235
        },
        "id": "eLnm2gAC6xAb",
        "outputId": "c2cc1205-d7a4-45b5-c6c7-f7a15810ac88"
      },
      "source": [
        "# one-hotエンコーディング pd.get_dummies()\n",
        "pd.get_dummies(df[\"gender\"])"
      ],
      "execution_count": 31,
      "outputs": [
        {
          "output_type": "execute_result",
          "data": {
            "text/html": [
              "<div>\n",
              "<style scoped>\n",
              "    .dataframe tbody tr th:only-of-type {\n",
              "        vertical-align: middle;\n",
              "    }\n",
              "\n",
              "    .dataframe tbody tr th {\n",
              "        vertical-align: top;\n",
              "    }\n",
              "\n",
              "    .dataframe thead th {\n",
              "        text-align: right;\n",
              "    }\n",
              "</style>\n",
              "<table border=\"1\" class=\"dataframe\">\n",
              "  <thead>\n",
              "    <tr style=\"text-align: right;\">\n",
              "      <th></th>\n",
              "      <th>F</th>\n",
              "      <th>M</th>\n",
              "    </tr>\n",
              "  </thead>\n",
              "  <tbody>\n",
              "    <tr>\n",
              "      <th>0</th>\n",
              "      <td>1</td>\n",
              "      <td>0</td>\n",
              "    </tr>\n",
              "    <tr>\n",
              "      <th>1</th>\n",
              "      <td>0</td>\n",
              "      <td>1</td>\n",
              "    </tr>\n",
              "    <tr>\n",
              "      <th>2</th>\n",
              "      <td>0</td>\n",
              "      <td>1</td>\n",
              "    </tr>\n",
              "    <tr>\n",
              "      <th>3</th>\n",
              "      <td>1</td>\n",
              "      <td>0</td>\n",
              "    </tr>\n",
              "    <tr>\n",
              "      <th>4</th>\n",
              "      <td>0</td>\n",
              "      <td>1</td>\n",
              "    </tr>\n",
              "    <tr>\n",
              "      <th>5</th>\n",
              "      <td>1</td>\n",
              "      <td>0</td>\n",
              "    </tr>\n",
              "  </tbody>\n",
              "</table>\n",
              "</div>"
            ],
            "text/plain": [
              "   F  M\n",
              "0  1  0\n",
              "1  0  1\n",
              "2  0  1\n",
              "3  1  0\n",
              "4  0  1\n",
              "5  1  0"
            ]
          },
          "metadata": {
            "tags": []
          },
          "execution_count": 31
        }
      ]
    },
    {
      "cell_type": "code",
      "metadata": {
        "colab": {
          "base_uri": "https://localhost:8080/",
          "height": 235
        },
        "id": "V5niAzs1674_",
        "outputId": "e24adb45-2d6e-41a7-c642-5443fc9285ef"
      },
      "source": [
        "# 区間設定\n",
        "age_range = [20, 30, 40, 50, 60]\n",
        "\n",
        "# 離散化\n",
        "df[\"年代\"] = pd.cut(df[\"age\"], bins=age_range, right=False)\n",
        "df"
      ],
      "execution_count": 32,
      "outputs": [
        {
          "output_type": "execute_result",
          "data": {
            "text/html": [
              "<div>\n",
              "<style scoped>\n",
              "    .dataframe tbody tr th:only-of-type {\n",
              "        vertical-align: middle;\n",
              "    }\n",
              "\n",
              "    .dataframe tbody tr th {\n",
              "        vertical-align: top;\n",
              "    }\n",
              "\n",
              "    .dataframe thead th {\n",
              "        text-align: right;\n",
              "    }\n",
              "</style>\n",
              "<table border=\"1\" class=\"dataframe\">\n",
              "  <thead>\n",
              "    <tr style=\"text-align: right;\">\n",
              "      <th></th>\n",
              "      <th>age</th>\n",
              "      <th>gender</th>\n",
              "      <th>weight</th>\n",
              "      <th>年代</th>\n",
              "    </tr>\n",
              "  </thead>\n",
              "  <tbody>\n",
              "    <tr>\n",
              "      <th>0</th>\n",
              "      <td>25</td>\n",
              "      <td>F</td>\n",
              "      <td>48</td>\n",
              "      <td>[20, 30)</td>\n",
              "    </tr>\n",
              "    <tr>\n",
              "      <th>1</th>\n",
              "      <td>31</td>\n",
              "      <td>M</td>\n",
              "      <td>67</td>\n",
              "      <td>[30, 40)</td>\n",
              "    </tr>\n",
              "    <tr>\n",
              "      <th>2</th>\n",
              "      <td>55</td>\n",
              "      <td>M</td>\n",
              "      <td>78</td>\n",
              "      <td>[50, 60)</td>\n",
              "    </tr>\n",
              "    <tr>\n",
              "      <th>3</th>\n",
              "      <td>48</td>\n",
              "      <td>F</td>\n",
              "      <td>42</td>\n",
              "      <td>[40, 50)</td>\n",
              "    </tr>\n",
              "    <tr>\n",
              "      <th>4</th>\n",
              "      <td>29</td>\n",
              "      <td>M</td>\n",
              "      <td>59</td>\n",
              "      <td>[20, 30)</td>\n",
              "    </tr>\n",
              "    <tr>\n",
              "      <th>5</th>\n",
              "      <td>31</td>\n",
              "      <td>F</td>\n",
              "      <td>52</td>\n",
              "      <td>[30, 40)</td>\n",
              "    </tr>\n",
              "  </tbody>\n",
              "</table>\n",
              "</div>"
            ],
            "text/plain": [
              "   age gender  weight        年代\n",
              "0   25      F      48  [20, 30)\n",
              "1   31      M      67  [30, 40)\n",
              "2   55      M      78  [50, 60)\n",
              "3   48      F      42  [40, 50)\n",
              "4   29      M      59  [20, 30)\n",
              "5   31      F      52  [30, 40)"
            ]
          },
          "metadata": {
            "tags": []
          },
          "execution_count": 32
        }
      ]
    },
    {
      "cell_type": "code",
      "metadata": {
        "colab": {
          "base_uri": "https://localhost:8080/",
          "height": 235
        },
        "id": "gDfpOKXn7Bon",
        "outputId": "51e65b2e-bd77-42ac-ae87-bb4a03c97583"
      },
      "source": [
        "# データの準備\n",
        "df = pd.DataFrame({\"age\": [19, 36, 62, None, None, 28],\n",
        "                   \"gender\": [\"F\", \"M\", \"M\", \"M\", \"F\", \"F\"]})\n",
        "\n",
        "# 性別がMを男性に置換\n",
        "df.replace(\"M\", \"男性\")"
      ],
      "execution_count": 33,
      "outputs": [
        {
          "output_type": "execute_result",
          "data": {
            "text/html": [
              "<div>\n",
              "<style scoped>\n",
              "    .dataframe tbody tr th:only-of-type {\n",
              "        vertical-align: middle;\n",
              "    }\n",
              "\n",
              "    .dataframe tbody tr th {\n",
              "        vertical-align: top;\n",
              "    }\n",
              "\n",
              "    .dataframe thead th {\n",
              "        text-align: right;\n",
              "    }\n",
              "</style>\n",
              "<table border=\"1\" class=\"dataframe\">\n",
              "  <thead>\n",
              "    <tr style=\"text-align: right;\">\n",
              "      <th></th>\n",
              "      <th>age</th>\n",
              "      <th>gender</th>\n",
              "    </tr>\n",
              "  </thead>\n",
              "  <tbody>\n",
              "    <tr>\n",
              "      <th>0</th>\n",
              "      <td>19.0</td>\n",
              "      <td>F</td>\n",
              "    </tr>\n",
              "    <tr>\n",
              "      <th>1</th>\n",
              "      <td>36.0</td>\n",
              "      <td>男性</td>\n",
              "    </tr>\n",
              "    <tr>\n",
              "      <th>2</th>\n",
              "      <td>62.0</td>\n",
              "      <td>男性</td>\n",
              "    </tr>\n",
              "    <tr>\n",
              "      <th>3</th>\n",
              "      <td>NaN</td>\n",
              "      <td>男性</td>\n",
              "    </tr>\n",
              "    <tr>\n",
              "      <th>4</th>\n",
              "      <td>NaN</td>\n",
              "      <td>F</td>\n",
              "    </tr>\n",
              "    <tr>\n",
              "      <th>5</th>\n",
              "      <td>28.0</td>\n",
              "      <td>F</td>\n",
              "    </tr>\n",
              "  </tbody>\n",
              "</table>\n",
              "</div>"
            ],
            "text/plain": [
              "    age gender\n",
              "0  19.0      F\n",
              "1  36.0     男性\n",
              "2  62.0     男性\n",
              "3   NaN     男性\n",
              "4   NaN      F\n",
              "5  28.0      F"
            ]
          },
          "metadata": {
            "tags": []
          },
          "execution_count": 33
        }
      ]
    },
    {
      "cell_type": "code",
      "metadata": {
        "colab": {
          "base_uri": "https://localhost:8080/",
          "height": 235
        },
        "id": "rVsdAqd17H3h",
        "outputId": "8d738fbe-b267-49c3-eeb6-e4af39c959f4"
      },
      "source": [
        "# 性別がFを女性、Mを男性に置換\n",
        "df.replace({\"F\": \"女性\", \"M\": \"男性\"}, inplace=True)\n",
        "df"
      ],
      "execution_count": 34,
      "outputs": [
        {
          "output_type": "execute_result",
          "data": {
            "text/html": [
              "<div>\n",
              "<style scoped>\n",
              "    .dataframe tbody tr th:only-of-type {\n",
              "        vertical-align: middle;\n",
              "    }\n",
              "\n",
              "    .dataframe tbody tr th {\n",
              "        vertical-align: top;\n",
              "    }\n",
              "\n",
              "    .dataframe thead th {\n",
              "        text-align: right;\n",
              "    }\n",
              "</style>\n",
              "<table border=\"1\" class=\"dataframe\">\n",
              "  <thead>\n",
              "    <tr style=\"text-align: right;\">\n",
              "      <th></th>\n",
              "      <th>age</th>\n",
              "      <th>gender</th>\n",
              "    </tr>\n",
              "  </thead>\n",
              "  <tbody>\n",
              "    <tr>\n",
              "      <th>0</th>\n",
              "      <td>19.0</td>\n",
              "      <td>女性</td>\n",
              "    </tr>\n",
              "    <tr>\n",
              "      <th>1</th>\n",
              "      <td>36.0</td>\n",
              "      <td>男性</td>\n",
              "    </tr>\n",
              "    <tr>\n",
              "      <th>2</th>\n",
              "      <td>62.0</td>\n",
              "      <td>男性</td>\n",
              "    </tr>\n",
              "    <tr>\n",
              "      <th>3</th>\n",
              "      <td>NaN</td>\n",
              "      <td>男性</td>\n",
              "    </tr>\n",
              "    <tr>\n",
              "      <th>4</th>\n",
              "      <td>NaN</td>\n",
              "      <td>女性</td>\n",
              "    </tr>\n",
              "    <tr>\n",
              "      <th>5</th>\n",
              "      <td>28.0</td>\n",
              "      <td>女性</td>\n",
              "    </tr>\n",
              "  </tbody>\n",
              "</table>\n",
              "</div>"
            ],
            "text/plain": [
              "    age gender\n",
              "0  19.0     女性\n",
              "1  36.0     男性\n",
              "2  62.0     男性\n",
              "3   NaN     男性\n",
              "4   NaN     女性\n",
              "5  28.0     女性"
            ]
          },
          "metadata": {
            "tags": []
          },
          "execution_count": 34
        }
      ]
    },
    {
      "cell_type": "code",
      "metadata": {
        "colab": {
          "base_uri": "https://localhost:8080/",
          "height": 235
        },
        "id": "n4GfFdF47Mtp",
        "outputId": "526e7130-e990-4ff7-ad6f-46d47a106bed"
      },
      "source": [
        "# 直前の値で埋める\n",
        "df.replace(None, method=\"ffill\")"
      ],
      "execution_count": 35,
      "outputs": [
        {
          "output_type": "execute_result",
          "data": {
            "text/html": [
              "<div>\n",
              "<style scoped>\n",
              "    .dataframe tbody tr th:only-of-type {\n",
              "        vertical-align: middle;\n",
              "    }\n",
              "\n",
              "    .dataframe tbody tr th {\n",
              "        vertical-align: top;\n",
              "    }\n",
              "\n",
              "    .dataframe thead th {\n",
              "        text-align: right;\n",
              "    }\n",
              "</style>\n",
              "<table border=\"1\" class=\"dataframe\">\n",
              "  <thead>\n",
              "    <tr style=\"text-align: right;\">\n",
              "      <th></th>\n",
              "      <th>age</th>\n",
              "      <th>gender</th>\n",
              "    </tr>\n",
              "  </thead>\n",
              "  <tbody>\n",
              "    <tr>\n",
              "      <th>0</th>\n",
              "      <td>19.0</td>\n",
              "      <td>女性</td>\n",
              "    </tr>\n",
              "    <tr>\n",
              "      <th>1</th>\n",
              "      <td>36.0</td>\n",
              "      <td>男性</td>\n",
              "    </tr>\n",
              "    <tr>\n",
              "      <th>2</th>\n",
              "      <td>62.0</td>\n",
              "      <td>男性</td>\n",
              "    </tr>\n",
              "    <tr>\n",
              "      <th>3</th>\n",
              "      <td>62.0</td>\n",
              "      <td>男性</td>\n",
              "    </tr>\n",
              "    <tr>\n",
              "      <th>4</th>\n",
              "      <td>62.0</td>\n",
              "      <td>女性</td>\n",
              "    </tr>\n",
              "    <tr>\n",
              "      <th>5</th>\n",
              "      <td>28.0</td>\n",
              "      <td>女性</td>\n",
              "    </tr>\n",
              "  </tbody>\n",
              "</table>\n",
              "</div>"
            ],
            "text/plain": [
              "    age gender\n",
              "0  19.0     女性\n",
              "1  36.0     男性\n",
              "2  62.0     男性\n",
              "3  62.0     男性\n",
              "4  62.0     女性\n",
              "5  28.0     女性"
            ]
          },
          "metadata": {
            "tags": []
          },
          "execution_count": 35
        }
      ]
    },
    {
      "cell_type": "code",
      "metadata": {
        "colab": {
          "base_uri": "https://localhost:8080/",
          "height": 235
        },
        "id": "mcxJ3nzO7Scw",
        "outputId": "80eff312-85ad-4ae1-8ad2-dee58aa8c5a0"
      },
      "source": [
        "# データの準備\n",
        "df = pd.DataFrame({\"age\": [18, 11, 61, 38, 24, 85],\n",
        "                   \"gender\": [\"F\", \"F\", \"F\", \"M\", \"F\", \"M\"]})\n",
        "\n",
        "# 66歳以上を65歳に丸める場合\n",
        "df[\"age_mask\"] = df.age.mask(df.age >= 66, 65)\n",
        "\n",
        "df"
      ],
      "execution_count": 36,
      "outputs": [
        {
          "output_type": "execute_result",
          "data": {
            "text/html": [
              "<div>\n",
              "<style scoped>\n",
              "    .dataframe tbody tr th:only-of-type {\n",
              "        vertical-align: middle;\n",
              "    }\n",
              "\n",
              "    .dataframe tbody tr th {\n",
              "        vertical-align: top;\n",
              "    }\n",
              "\n",
              "    .dataframe thead th {\n",
              "        text-align: right;\n",
              "    }\n",
              "</style>\n",
              "<table border=\"1\" class=\"dataframe\">\n",
              "  <thead>\n",
              "    <tr style=\"text-align: right;\">\n",
              "      <th></th>\n",
              "      <th>age</th>\n",
              "      <th>gender</th>\n",
              "      <th>age_mask</th>\n",
              "    </tr>\n",
              "  </thead>\n",
              "  <tbody>\n",
              "    <tr>\n",
              "      <th>0</th>\n",
              "      <td>18</td>\n",
              "      <td>F</td>\n",
              "      <td>18</td>\n",
              "    </tr>\n",
              "    <tr>\n",
              "      <th>1</th>\n",
              "      <td>11</td>\n",
              "      <td>F</td>\n",
              "      <td>11</td>\n",
              "    </tr>\n",
              "    <tr>\n",
              "      <th>2</th>\n",
              "      <td>61</td>\n",
              "      <td>F</td>\n",
              "      <td>61</td>\n",
              "    </tr>\n",
              "    <tr>\n",
              "      <th>3</th>\n",
              "      <td>38</td>\n",
              "      <td>M</td>\n",
              "      <td>38</td>\n",
              "    </tr>\n",
              "    <tr>\n",
              "      <th>4</th>\n",
              "      <td>24</td>\n",
              "      <td>F</td>\n",
              "      <td>24</td>\n",
              "    </tr>\n",
              "    <tr>\n",
              "      <th>5</th>\n",
              "      <td>85</td>\n",
              "      <td>M</td>\n",
              "      <td>65</td>\n",
              "    </tr>\n",
              "  </tbody>\n",
              "</table>\n",
              "</div>"
            ],
            "text/plain": [
              "   age gender  age_mask\n",
              "0   18      F        18\n",
              "1   11      F        11\n",
              "2   61      F        61\n",
              "3   38      M        38\n",
              "4   24      F        24\n",
              "5   85      M        65"
            ]
          },
          "metadata": {
            "tags": []
          },
          "execution_count": 36
        }
      ]
    },
    {
      "cell_type": "code",
      "metadata": {
        "colab": {
          "base_uri": "https://localhost:8080/",
          "height": 235
        },
        "id": "eR7L08W47gPb",
        "outputId": "a8d1bba2-c74a-4c88-bee3-c6cb3d5082df"
      },
      "source": [
        "# 25歳以上を残し、それ以外は25歳に丸める場合\n",
        "df[\"age_where\"] = df.age.where(df.age >= 25, 25)\n",
        "\n",
        "df"
      ],
      "execution_count": 37,
      "outputs": [
        {
          "output_type": "execute_result",
          "data": {
            "text/html": [
              "<div>\n",
              "<style scoped>\n",
              "    .dataframe tbody tr th:only-of-type {\n",
              "        vertical-align: middle;\n",
              "    }\n",
              "\n",
              "    .dataframe tbody tr th {\n",
              "        vertical-align: top;\n",
              "    }\n",
              "\n",
              "    .dataframe thead th {\n",
              "        text-align: right;\n",
              "    }\n",
              "</style>\n",
              "<table border=\"1\" class=\"dataframe\">\n",
              "  <thead>\n",
              "    <tr style=\"text-align: right;\">\n",
              "      <th></th>\n",
              "      <th>age</th>\n",
              "      <th>gender</th>\n",
              "      <th>age_mask</th>\n",
              "      <th>age_where</th>\n",
              "    </tr>\n",
              "  </thead>\n",
              "  <tbody>\n",
              "    <tr>\n",
              "      <th>0</th>\n",
              "      <td>18</td>\n",
              "      <td>F</td>\n",
              "      <td>18</td>\n",
              "      <td>25</td>\n",
              "    </tr>\n",
              "    <tr>\n",
              "      <th>1</th>\n",
              "      <td>11</td>\n",
              "      <td>F</td>\n",
              "      <td>11</td>\n",
              "      <td>25</td>\n",
              "    </tr>\n",
              "    <tr>\n",
              "      <th>2</th>\n",
              "      <td>61</td>\n",
              "      <td>F</td>\n",
              "      <td>61</td>\n",
              "      <td>61</td>\n",
              "    </tr>\n",
              "    <tr>\n",
              "      <th>3</th>\n",
              "      <td>38</td>\n",
              "      <td>M</td>\n",
              "      <td>38</td>\n",
              "      <td>38</td>\n",
              "    </tr>\n",
              "    <tr>\n",
              "      <th>4</th>\n",
              "      <td>24</td>\n",
              "      <td>F</td>\n",
              "      <td>24</td>\n",
              "      <td>25</td>\n",
              "    </tr>\n",
              "    <tr>\n",
              "      <th>5</th>\n",
              "      <td>85</td>\n",
              "      <td>M</td>\n",
              "      <td>65</td>\n",
              "      <td>85</td>\n",
              "    </tr>\n",
              "  </tbody>\n",
              "</table>\n",
              "</div>"
            ],
            "text/plain": [
              "   age gender  age_mask  age_where\n",
              "0   18      F        18         25\n",
              "1   11      F        11         25\n",
              "2   61      F        61         61\n",
              "3   38      M        38         38\n",
              "4   24      F        24         25\n",
              "5   85      M        65         85"
            ]
          },
          "metadata": {
            "tags": []
          },
          "execution_count": 37
        }
      ]
    },
    {
      "cell_type": "code",
      "metadata": {
        "colab": {
          "base_uri": "https://localhost:8080/",
          "height": 142
        },
        "id": "sGwn-kW78YDg",
        "outputId": "74e034bf-6aff-4de6-9366-bb42ef2386b7"
      },
      "source": [
        "# データ準備\n",
        "x = {\"店舗名\": [\"赤坂店\", \"三元茶屋店\", \"明大前店\"],\n",
        "    \"売上\": [1000000, 250000, 800000]\n",
        "    }\n",
        "\n",
        "# データフレーム化\n",
        "df = pd.DataFrame(x)\n",
        "df[\"消費税\"] = df[\"売上\"] * 0.1\n",
        "df"
      ],
      "execution_count": 38,
      "outputs": [
        {
          "output_type": "execute_result",
          "data": {
            "text/html": [
              "<div>\n",
              "<style scoped>\n",
              "    .dataframe tbody tr th:only-of-type {\n",
              "        vertical-align: middle;\n",
              "    }\n",
              "\n",
              "    .dataframe tbody tr th {\n",
              "        vertical-align: top;\n",
              "    }\n",
              "\n",
              "    .dataframe thead th {\n",
              "        text-align: right;\n",
              "    }\n",
              "</style>\n",
              "<table border=\"1\" class=\"dataframe\">\n",
              "  <thead>\n",
              "    <tr style=\"text-align: right;\">\n",
              "      <th></th>\n",
              "      <th>店舗名</th>\n",
              "      <th>売上</th>\n",
              "      <th>消費税</th>\n",
              "    </tr>\n",
              "  </thead>\n",
              "  <tbody>\n",
              "    <tr>\n",
              "      <th>0</th>\n",
              "      <td>赤坂店</td>\n",
              "      <td>1000000</td>\n",
              "      <td>100000.0</td>\n",
              "    </tr>\n",
              "    <tr>\n",
              "      <th>1</th>\n",
              "      <td>三元茶屋店</td>\n",
              "      <td>250000</td>\n",
              "      <td>25000.0</td>\n",
              "    </tr>\n",
              "    <tr>\n",
              "      <th>2</th>\n",
              "      <td>明大前店</td>\n",
              "      <td>800000</td>\n",
              "      <td>80000.0</td>\n",
              "    </tr>\n",
              "  </tbody>\n",
              "</table>\n",
              "</div>"
            ],
            "text/plain": [
              "     店舗名       売上       消費税\n",
              "0    赤坂店  1000000  100000.0\n",
              "1  三元茶屋店   250000   25000.0\n",
              "2   明大前店   800000   80000.0"
            ]
          },
          "metadata": {
            "tags": []
          },
          "execution_count": 38
        }
      ]
    },
    {
      "cell_type": "code",
      "metadata": {
        "colab": {
          "base_uri": "https://localhost:8080/",
          "height": 297
        },
        "id": "LoBsDoY886OI",
        "outputId": "a214cc1e-fc7a-4929-987f-29030ebfd48e"
      },
      "source": [
        "import pandas as pd\n",
        "\n",
        "# データの準備\n",
        "# 辞書データの作成\n",
        "x = {\n",
        "    \"商品\": [\"キャベツ\", \"じゃがいも\", \"白菜\", \"大根\", \"にんじん\", \"ほうれん草\", \"かぼちゃ\", \"ねぎ\"],\n",
        "    \"単価\": [150, 80, 200, 180, 65, 240, 250, 160],\n",
        "    \"仕入れ数\": [100, 300, 1000, 800, 500, 450, 250, 600]\n",
        "    }\n",
        "\n",
        "# データフレームへ変換\n",
        "df = pd.DataFrame(x)\n",
        "df"
      ],
      "execution_count": 39,
      "outputs": [
        {
          "output_type": "execute_result",
          "data": {
            "text/html": [
              "<div>\n",
              "<style scoped>\n",
              "    .dataframe tbody tr th:only-of-type {\n",
              "        vertical-align: middle;\n",
              "    }\n",
              "\n",
              "    .dataframe tbody tr th {\n",
              "        vertical-align: top;\n",
              "    }\n",
              "\n",
              "    .dataframe thead th {\n",
              "        text-align: right;\n",
              "    }\n",
              "</style>\n",
              "<table border=\"1\" class=\"dataframe\">\n",
              "  <thead>\n",
              "    <tr style=\"text-align: right;\">\n",
              "      <th></th>\n",
              "      <th>商品</th>\n",
              "      <th>単価</th>\n",
              "      <th>仕入れ数</th>\n",
              "    </tr>\n",
              "  </thead>\n",
              "  <tbody>\n",
              "    <tr>\n",
              "      <th>0</th>\n",
              "      <td>キャベツ</td>\n",
              "      <td>150</td>\n",
              "      <td>100</td>\n",
              "    </tr>\n",
              "    <tr>\n",
              "      <th>1</th>\n",
              "      <td>じゃがいも</td>\n",
              "      <td>80</td>\n",
              "      <td>300</td>\n",
              "    </tr>\n",
              "    <tr>\n",
              "      <th>2</th>\n",
              "      <td>白菜</td>\n",
              "      <td>200</td>\n",
              "      <td>1000</td>\n",
              "    </tr>\n",
              "    <tr>\n",
              "      <th>3</th>\n",
              "      <td>大根</td>\n",
              "      <td>180</td>\n",
              "      <td>800</td>\n",
              "    </tr>\n",
              "    <tr>\n",
              "      <th>4</th>\n",
              "      <td>にんじん</td>\n",
              "      <td>65</td>\n",
              "      <td>500</td>\n",
              "    </tr>\n",
              "    <tr>\n",
              "      <th>5</th>\n",
              "      <td>ほうれん草</td>\n",
              "      <td>240</td>\n",
              "      <td>450</td>\n",
              "    </tr>\n",
              "    <tr>\n",
              "      <th>6</th>\n",
              "      <td>かぼちゃ</td>\n",
              "      <td>250</td>\n",
              "      <td>250</td>\n",
              "    </tr>\n",
              "    <tr>\n",
              "      <th>7</th>\n",
              "      <td>ねぎ</td>\n",
              "      <td>160</td>\n",
              "      <td>600</td>\n",
              "    </tr>\n",
              "  </tbody>\n",
              "</table>\n",
              "</div>"
            ],
            "text/plain": [
              "      商品   単価  仕入れ数\n",
              "0   キャベツ  150   100\n",
              "1  じゃがいも   80   300\n",
              "2     白菜  200  1000\n",
              "3     大根  180   800\n",
              "4   にんじん   65   500\n",
              "5  ほうれん草  240   450\n",
              "6   かぼちゃ  250   250\n",
              "7     ねぎ  160   600"
            ]
          },
          "metadata": {
            "tags": []
          },
          "execution_count": 39
        }
      ]
    },
    {
      "cell_type": "code",
      "metadata": {
        "colab": {
          "base_uri": "https://localhost:8080/",
          "height": 204
        },
        "id": "yn1KPkD98_up",
        "outputId": "85cc2f9c-a31d-4878-8252-1f72575f50c4"
      },
      "source": [
        "df.head()"
      ],
      "execution_count": 40,
      "outputs": [
        {
          "output_type": "execute_result",
          "data": {
            "text/html": [
              "<div>\n",
              "<style scoped>\n",
              "    .dataframe tbody tr th:only-of-type {\n",
              "        vertical-align: middle;\n",
              "    }\n",
              "\n",
              "    .dataframe tbody tr th {\n",
              "        vertical-align: top;\n",
              "    }\n",
              "\n",
              "    .dataframe thead th {\n",
              "        text-align: right;\n",
              "    }\n",
              "</style>\n",
              "<table border=\"1\" class=\"dataframe\">\n",
              "  <thead>\n",
              "    <tr style=\"text-align: right;\">\n",
              "      <th></th>\n",
              "      <th>商品</th>\n",
              "      <th>単価</th>\n",
              "      <th>仕入れ数</th>\n",
              "    </tr>\n",
              "  </thead>\n",
              "  <tbody>\n",
              "    <tr>\n",
              "      <th>0</th>\n",
              "      <td>キャベツ</td>\n",
              "      <td>150</td>\n",
              "      <td>100</td>\n",
              "    </tr>\n",
              "    <tr>\n",
              "      <th>1</th>\n",
              "      <td>じゃがいも</td>\n",
              "      <td>80</td>\n",
              "      <td>300</td>\n",
              "    </tr>\n",
              "    <tr>\n",
              "      <th>2</th>\n",
              "      <td>白菜</td>\n",
              "      <td>200</td>\n",
              "      <td>1000</td>\n",
              "    </tr>\n",
              "    <tr>\n",
              "      <th>3</th>\n",
              "      <td>大根</td>\n",
              "      <td>180</td>\n",
              "      <td>800</td>\n",
              "    </tr>\n",
              "    <tr>\n",
              "      <th>4</th>\n",
              "      <td>にんじん</td>\n",
              "      <td>65</td>\n",
              "      <td>500</td>\n",
              "    </tr>\n",
              "  </tbody>\n",
              "</table>\n",
              "</div>"
            ],
            "text/plain": [
              "      商品   単価  仕入れ数\n",
              "0   キャベツ  150   100\n",
              "1  じゃがいも   80   300\n",
              "2     白菜  200  1000\n",
              "3     大根  180   800\n",
              "4   にんじん   65   500"
            ]
          },
          "metadata": {
            "tags": []
          },
          "execution_count": 40
        }
      ]
    },
    {
      "cell_type": "code",
      "metadata": {
        "colab": {
          "base_uri": "https://localhost:8080/",
          "height": 204
        },
        "id": "vw9s-Xp89B1v",
        "outputId": "9650b86f-3587-4ce2-bc8e-c078304eaaa4"
      },
      "source": [
        "df.tail()"
      ],
      "execution_count": 41,
      "outputs": [
        {
          "output_type": "execute_result",
          "data": {
            "text/html": [
              "<div>\n",
              "<style scoped>\n",
              "    .dataframe tbody tr th:only-of-type {\n",
              "        vertical-align: middle;\n",
              "    }\n",
              "\n",
              "    .dataframe tbody tr th {\n",
              "        vertical-align: top;\n",
              "    }\n",
              "\n",
              "    .dataframe thead th {\n",
              "        text-align: right;\n",
              "    }\n",
              "</style>\n",
              "<table border=\"1\" class=\"dataframe\">\n",
              "  <thead>\n",
              "    <tr style=\"text-align: right;\">\n",
              "      <th></th>\n",
              "      <th>商品</th>\n",
              "      <th>単価</th>\n",
              "      <th>仕入れ数</th>\n",
              "    </tr>\n",
              "  </thead>\n",
              "  <tbody>\n",
              "    <tr>\n",
              "      <th>3</th>\n",
              "      <td>大根</td>\n",
              "      <td>180</td>\n",
              "      <td>800</td>\n",
              "    </tr>\n",
              "    <tr>\n",
              "      <th>4</th>\n",
              "      <td>にんじん</td>\n",
              "      <td>65</td>\n",
              "      <td>500</td>\n",
              "    </tr>\n",
              "    <tr>\n",
              "      <th>5</th>\n",
              "      <td>ほうれん草</td>\n",
              "      <td>240</td>\n",
              "      <td>450</td>\n",
              "    </tr>\n",
              "    <tr>\n",
              "      <th>6</th>\n",
              "      <td>かぼちゃ</td>\n",
              "      <td>250</td>\n",
              "      <td>250</td>\n",
              "    </tr>\n",
              "    <tr>\n",
              "      <th>7</th>\n",
              "      <td>ねぎ</td>\n",
              "      <td>160</td>\n",
              "      <td>600</td>\n",
              "    </tr>\n",
              "  </tbody>\n",
              "</table>\n",
              "</div>"
            ],
            "text/plain": [
              "      商品   単価  仕入れ数\n",
              "3     大根  180   800\n",
              "4   にんじん   65   500\n",
              "5  ほうれん草  240   450\n",
              "6   かぼちゃ  250   250\n",
              "7     ねぎ  160   600"
            ]
          },
          "metadata": {
            "tags": []
          },
          "execution_count": 41
        }
      ]
    },
    {
      "cell_type": "code",
      "metadata": {
        "colab": {
          "base_uri": "https://localhost:8080/"
        },
        "id": "1PN-T9nL9FA_",
        "outputId": "3c7d8764-45e3-40d3-f158-499f3d8bda8c"
      },
      "source": [
        "df[\"商品\"]"
      ],
      "execution_count": 42,
      "outputs": [
        {
          "output_type": "execute_result",
          "data": {
            "text/plain": [
              "0     キャベツ\n",
              "1    じゃがいも\n",
              "2       白菜\n",
              "3       大根\n",
              "4     にんじん\n",
              "5    ほうれん草\n",
              "6     かぼちゃ\n",
              "7       ねぎ\n",
              "Name: 商品, dtype: object"
            ]
          },
          "metadata": {
            "tags": []
          },
          "execution_count": 42
        }
      ]
    },
    {
      "cell_type": "code",
      "metadata": {
        "colab": {
          "base_uri": "https://localhost:8080/",
          "height": 297
        },
        "id": "eBtNxwje9MHY",
        "outputId": "d4f1d1c9-e9e4-4857-938a-b5305d637fac"
      },
      "source": [
        "df[[\"商品\", \"単価\"]]"
      ],
      "execution_count": 43,
      "outputs": [
        {
          "output_type": "execute_result",
          "data": {
            "text/html": [
              "<div>\n",
              "<style scoped>\n",
              "    .dataframe tbody tr th:only-of-type {\n",
              "        vertical-align: middle;\n",
              "    }\n",
              "\n",
              "    .dataframe tbody tr th {\n",
              "        vertical-align: top;\n",
              "    }\n",
              "\n",
              "    .dataframe thead th {\n",
              "        text-align: right;\n",
              "    }\n",
              "</style>\n",
              "<table border=\"1\" class=\"dataframe\">\n",
              "  <thead>\n",
              "    <tr style=\"text-align: right;\">\n",
              "      <th></th>\n",
              "      <th>商品</th>\n",
              "      <th>単価</th>\n",
              "    </tr>\n",
              "  </thead>\n",
              "  <tbody>\n",
              "    <tr>\n",
              "      <th>0</th>\n",
              "      <td>キャベツ</td>\n",
              "      <td>150</td>\n",
              "    </tr>\n",
              "    <tr>\n",
              "      <th>1</th>\n",
              "      <td>じゃがいも</td>\n",
              "      <td>80</td>\n",
              "    </tr>\n",
              "    <tr>\n",
              "      <th>2</th>\n",
              "      <td>白菜</td>\n",
              "      <td>200</td>\n",
              "    </tr>\n",
              "    <tr>\n",
              "      <th>3</th>\n",
              "      <td>大根</td>\n",
              "      <td>180</td>\n",
              "    </tr>\n",
              "    <tr>\n",
              "      <th>4</th>\n",
              "      <td>にんじん</td>\n",
              "      <td>65</td>\n",
              "    </tr>\n",
              "    <tr>\n",
              "      <th>5</th>\n",
              "      <td>ほうれん草</td>\n",
              "      <td>240</td>\n",
              "    </tr>\n",
              "    <tr>\n",
              "      <th>6</th>\n",
              "      <td>かぼちゃ</td>\n",
              "      <td>250</td>\n",
              "    </tr>\n",
              "    <tr>\n",
              "      <th>7</th>\n",
              "      <td>ねぎ</td>\n",
              "      <td>160</td>\n",
              "    </tr>\n",
              "  </tbody>\n",
              "</table>\n",
              "</div>"
            ],
            "text/plain": [
              "      商品   単価\n",
              "0   キャベツ  150\n",
              "1  じゃがいも   80\n",
              "2     白菜  200\n",
              "3     大根  180\n",
              "4   にんじん   65\n",
              "5  ほうれん草  240\n",
              "6   かぼちゃ  250\n",
              "7     ねぎ  160"
            ]
          },
          "metadata": {
            "tags": []
          },
          "execution_count": 43
        }
      ]
    },
    {
      "cell_type": "code",
      "metadata": {
        "colab": {
          "base_uri": "https://localhost:8080/"
        },
        "id": "4PPg6qyw9QTG",
        "outputId": "d7d994da-8c77-4ced-af8a-25dd166fd2af"
      },
      "source": [
        "df.columns"
      ],
      "execution_count": 44,
      "outputs": [
        {
          "output_type": "execute_result",
          "data": {
            "text/plain": [
              "Index(['商品', '単価', '仕入れ数'], dtype='object')"
            ]
          },
          "metadata": {
            "tags": []
          },
          "execution_count": 44
        }
      ]
    },
    {
      "cell_type": "code",
      "metadata": {
        "colab": {
          "base_uri": "https://localhost:8080/"
        },
        "id": "s-8iAZ7_9Tjf",
        "outputId": "aa4ac950-da9a-4a4e-aec4-7e1a02635728"
      },
      "source": [
        "df.index"
      ],
      "execution_count": 45,
      "outputs": [
        {
          "output_type": "execute_result",
          "data": {
            "text/plain": [
              "RangeIndex(start=0, stop=8, step=1)"
            ]
          },
          "metadata": {
            "tags": []
          },
          "execution_count": 45
        }
      ]
    },
    {
      "cell_type": "code",
      "metadata": {
        "colab": {
          "base_uri": "https://localhost:8080/"
        },
        "id": "kOL61kgr9cAB",
        "outputId": "9da68136-5185-4d18-9c52-dad2f1cae022"
      },
      "source": [
        "df.iloc[3, 1]"
      ],
      "execution_count": 46,
      "outputs": [
        {
          "output_type": "execute_result",
          "data": {
            "text/plain": [
              "180"
            ]
          },
          "metadata": {
            "tags": []
          },
          "execution_count": 46
        }
      ]
    },
    {
      "cell_type": "code",
      "metadata": {
        "colab": {
          "base_uri": "https://localhost:8080/"
        },
        "id": "bU8mCO9b9k-p",
        "outputId": "7304a0d0-bb05-4cc2-f36e-5c089ba69202"
      },
      "source": [
        "df.iloc[1:3, 1]"
      ],
      "execution_count": 47,
      "outputs": [
        {
          "output_type": "execute_result",
          "data": {
            "text/plain": [
              "1     80\n",
              "2    200\n",
              "Name: 単価, dtype: int64"
            ]
          },
          "metadata": {
            "tags": []
          },
          "execution_count": 47
        }
      ]
    },
    {
      "cell_type": "code",
      "metadata": {
        "colab": {
          "base_uri": "https://localhost:8080/"
        },
        "id": "IUa4kFZo9puX",
        "outputId": "da91ebb0-86e4-4d09-b598-9a70170547f2"
      },
      "source": [
        "df.iloc[[2,5],1]"
      ],
      "execution_count": 48,
      "outputs": [
        {
          "output_type": "execute_result",
          "data": {
            "text/plain": [
              "2    200\n",
              "5    240\n",
              "Name: 単価, dtype: int64"
            ]
          },
          "metadata": {
            "tags": []
          },
          "execution_count": 48
        }
      ]
    },
    {
      "cell_type": "code",
      "metadata": {
        "colab": {
          "base_uri": "https://localhost:8080/"
        },
        "id": "1Pwuc-jk9pqQ",
        "outputId": "4b6e2d91-1a79-4dae-d7cd-eae803e6ba76"
      },
      "source": [
        "df.iloc[2, :]"
      ],
      "execution_count": 49,
      "outputs": [
        {
          "output_type": "execute_result",
          "data": {
            "text/plain": [
              "商品        白菜\n",
              "単価       200\n",
              "仕入れ数    1000\n",
              "Name: 2, dtype: object"
            ]
          },
          "metadata": {
            "tags": []
          },
          "execution_count": 49
        }
      ]
    },
    {
      "cell_type": "code",
      "metadata": {
        "colab": {
          "base_uri": "https://localhost:8080/"
        },
        "id": "2qAVPTxh9ymB",
        "outputId": "473758ea-c7fd-4ee6-d1e5-ecdafd54f087"
      },
      "source": [
        "df.iloc[:, 1]"
      ],
      "execution_count": 50,
      "outputs": [
        {
          "output_type": "execute_result",
          "data": {
            "text/plain": [
              "0    150\n",
              "1     80\n",
              "2    200\n",
              "3    180\n",
              "4     65\n",
              "5    240\n",
              "6    250\n",
              "7    160\n",
              "Name: 単価, dtype: int64"
            ]
          },
          "metadata": {
            "tags": []
          },
          "execution_count": 50
        }
      ]
    },
    {
      "cell_type": "code",
      "metadata": {
        "colab": {
          "base_uri": "https://localhost:8080/",
          "height": 297
        },
        "id": "mQiS0kYQ-vJ-",
        "outputId": "389d155f-fbb6-48a1-9e5b-9f80b1c57ee2"
      },
      "source": [
        "df"
      ],
      "execution_count": 51,
      "outputs": [
        {
          "output_type": "execute_result",
          "data": {
            "text/html": [
              "<div>\n",
              "<style scoped>\n",
              "    .dataframe tbody tr th:only-of-type {\n",
              "        vertical-align: middle;\n",
              "    }\n",
              "\n",
              "    .dataframe tbody tr th {\n",
              "        vertical-align: top;\n",
              "    }\n",
              "\n",
              "    .dataframe thead th {\n",
              "        text-align: right;\n",
              "    }\n",
              "</style>\n",
              "<table border=\"1\" class=\"dataframe\">\n",
              "  <thead>\n",
              "    <tr style=\"text-align: right;\">\n",
              "      <th></th>\n",
              "      <th>商品</th>\n",
              "      <th>単価</th>\n",
              "      <th>仕入れ数</th>\n",
              "    </tr>\n",
              "  </thead>\n",
              "  <tbody>\n",
              "    <tr>\n",
              "      <th>0</th>\n",
              "      <td>キャベツ</td>\n",
              "      <td>150</td>\n",
              "      <td>100</td>\n",
              "    </tr>\n",
              "    <tr>\n",
              "      <th>1</th>\n",
              "      <td>じゃがいも</td>\n",
              "      <td>80</td>\n",
              "      <td>300</td>\n",
              "    </tr>\n",
              "    <tr>\n",
              "      <th>2</th>\n",
              "      <td>白菜</td>\n",
              "      <td>200</td>\n",
              "      <td>1000</td>\n",
              "    </tr>\n",
              "    <tr>\n",
              "      <th>3</th>\n",
              "      <td>大根</td>\n",
              "      <td>180</td>\n",
              "      <td>800</td>\n",
              "    </tr>\n",
              "    <tr>\n",
              "      <th>4</th>\n",
              "      <td>にんじん</td>\n",
              "      <td>65</td>\n",
              "      <td>500</td>\n",
              "    </tr>\n",
              "    <tr>\n",
              "      <th>5</th>\n",
              "      <td>ほうれん草</td>\n",
              "      <td>240</td>\n",
              "      <td>450</td>\n",
              "    </tr>\n",
              "    <tr>\n",
              "      <th>6</th>\n",
              "      <td>かぼちゃ</td>\n",
              "      <td>250</td>\n",
              "      <td>250</td>\n",
              "    </tr>\n",
              "    <tr>\n",
              "      <th>7</th>\n",
              "      <td>ねぎ</td>\n",
              "      <td>160</td>\n",
              "      <td>600</td>\n",
              "    </tr>\n",
              "  </tbody>\n",
              "</table>\n",
              "</div>"
            ],
            "text/plain": [
              "      商品   単価  仕入れ数\n",
              "0   キャベツ  150   100\n",
              "1  じゃがいも   80   300\n",
              "2     白菜  200  1000\n",
              "3     大根  180   800\n",
              "4   にんじん   65   500\n",
              "5  ほうれん草  240   450\n",
              "6   かぼちゃ  250   250\n",
              "7     ねぎ  160   600"
            ]
          },
          "metadata": {
            "tags": []
          },
          "execution_count": 51
        }
      ]
    },
    {
      "cell_type": "code",
      "metadata": {
        "colab": {
          "base_uri": "https://localhost:8080/",
          "height": 142
        },
        "id": "5Wmvm098-QAj",
        "outputId": "114dbd00-010b-48f0-fe99-45769caf7a6b"
      },
      "source": [
        "df[[True, False, False, True, True, False, False, False]]"
      ],
      "execution_count": 52,
      "outputs": [
        {
          "output_type": "execute_result",
          "data": {
            "text/html": [
              "<div>\n",
              "<style scoped>\n",
              "    .dataframe tbody tr th:only-of-type {\n",
              "        vertical-align: middle;\n",
              "    }\n",
              "\n",
              "    .dataframe tbody tr th {\n",
              "        vertical-align: top;\n",
              "    }\n",
              "\n",
              "    .dataframe thead th {\n",
              "        text-align: right;\n",
              "    }\n",
              "</style>\n",
              "<table border=\"1\" class=\"dataframe\">\n",
              "  <thead>\n",
              "    <tr style=\"text-align: right;\">\n",
              "      <th></th>\n",
              "      <th>商品</th>\n",
              "      <th>単価</th>\n",
              "      <th>仕入れ数</th>\n",
              "    </tr>\n",
              "  </thead>\n",
              "  <tbody>\n",
              "    <tr>\n",
              "      <th>0</th>\n",
              "      <td>キャベツ</td>\n",
              "      <td>150</td>\n",
              "      <td>100</td>\n",
              "    </tr>\n",
              "    <tr>\n",
              "      <th>3</th>\n",
              "      <td>大根</td>\n",
              "      <td>180</td>\n",
              "      <td>800</td>\n",
              "    </tr>\n",
              "    <tr>\n",
              "      <th>4</th>\n",
              "      <td>にんじん</td>\n",
              "      <td>65</td>\n",
              "      <td>500</td>\n",
              "    </tr>\n",
              "  </tbody>\n",
              "</table>\n",
              "</div>"
            ],
            "text/plain": [
              "     商品   単価  仕入れ数\n",
              "0  キャベツ  150   100\n",
              "3    大根  180   800\n",
              "4  にんじん   65   500"
            ]
          },
          "metadata": {
            "tags": []
          },
          "execution_count": 52
        }
      ]
    },
    {
      "cell_type": "code",
      "metadata": {
        "colab": {
          "base_uri": "https://localhost:8080/"
        },
        "id": "wZGUXNGO-TNH",
        "outputId": "72683f94-72c6-412c-b911-043937e45481"
      },
      "source": [
        "df.単価 >= 150"
      ],
      "execution_count": 53,
      "outputs": [
        {
          "output_type": "execute_result",
          "data": {
            "text/plain": [
              "0     True\n",
              "1    False\n",
              "2     True\n",
              "3     True\n",
              "4    False\n",
              "5     True\n",
              "6     True\n",
              "7     True\n",
              "Name: 単価, dtype: bool"
            ]
          },
          "metadata": {
            "tags": []
          },
          "execution_count": 53
        }
      ]
    },
    {
      "cell_type": "code",
      "metadata": {
        "colab": {
          "base_uri": "https://localhost:8080/"
        },
        "id": "hBjI_HWK_BYo",
        "outputId": "8a77eee1-a6e1-46fc-8ad5-20100ee4d059"
      },
      "source": [
        "df.単価 >= 180"
      ],
      "execution_count": 54,
      "outputs": [
        {
          "output_type": "execute_result",
          "data": {
            "text/plain": [
              "0    False\n",
              "1    False\n",
              "2     True\n",
              "3     True\n",
              "4    False\n",
              "5     True\n",
              "6     True\n",
              "7    False\n",
              "Name: 単価, dtype: bool"
            ]
          },
          "metadata": {
            "tags": []
          },
          "execution_count": 54
        }
      ]
    },
    {
      "cell_type": "code",
      "metadata": {
        "colab": {
          "base_uri": "https://localhost:8080/",
          "height": 80
        },
        "id": "B4u9j2zF_KTT",
        "outputId": "018596f9-1253-45b0-cfe6-55ffbec0de51"
      },
      "source": [
        "# 引数に渡したリストに含まれるかどうか\n",
        "df[df.商品.isin([\"じゃがいも\", \"パセリ\"])]"
      ],
      "execution_count": 55,
      "outputs": [
        {
          "output_type": "execute_result",
          "data": {
            "text/html": [
              "<div>\n",
              "<style scoped>\n",
              "    .dataframe tbody tr th:only-of-type {\n",
              "        vertical-align: middle;\n",
              "    }\n",
              "\n",
              "    .dataframe tbody tr th {\n",
              "        vertical-align: top;\n",
              "    }\n",
              "\n",
              "    .dataframe thead th {\n",
              "        text-align: right;\n",
              "    }\n",
              "</style>\n",
              "<table border=\"1\" class=\"dataframe\">\n",
              "  <thead>\n",
              "    <tr style=\"text-align: right;\">\n",
              "      <th></th>\n",
              "      <th>商品</th>\n",
              "      <th>単価</th>\n",
              "      <th>仕入れ数</th>\n",
              "    </tr>\n",
              "  </thead>\n",
              "  <tbody>\n",
              "    <tr>\n",
              "      <th>1</th>\n",
              "      <td>じゃがいも</td>\n",
              "      <td>80</td>\n",
              "      <td>300</td>\n",
              "    </tr>\n",
              "  </tbody>\n",
              "</table>\n",
              "</div>"
            ],
            "text/plain": [
              "      商品  単価  仕入れ数\n",
              "1  じゃがいも  80   300"
            ]
          },
          "metadata": {
            "tags": []
          },
          "execution_count": 55
        }
      ]
    },
    {
      "cell_type": "code",
      "metadata": {
        "colab": {
          "base_uri": "https://localhost:8080/",
          "height": 142
        },
        "id": "bQq6CM3k_Otj",
        "outputId": "dda2f290-1e06-4b0f-818d-77c1834901ac"
      },
      "source": [
        "df[(df.単価 < 200) & (df.仕入れ数 >= 500)]"
      ],
      "execution_count": 56,
      "outputs": [
        {
          "output_type": "execute_result",
          "data": {
            "text/html": [
              "<div>\n",
              "<style scoped>\n",
              "    .dataframe tbody tr th:only-of-type {\n",
              "        vertical-align: middle;\n",
              "    }\n",
              "\n",
              "    .dataframe tbody tr th {\n",
              "        vertical-align: top;\n",
              "    }\n",
              "\n",
              "    .dataframe thead th {\n",
              "        text-align: right;\n",
              "    }\n",
              "</style>\n",
              "<table border=\"1\" class=\"dataframe\">\n",
              "  <thead>\n",
              "    <tr style=\"text-align: right;\">\n",
              "      <th></th>\n",
              "      <th>商品</th>\n",
              "      <th>単価</th>\n",
              "      <th>仕入れ数</th>\n",
              "    </tr>\n",
              "  </thead>\n",
              "  <tbody>\n",
              "    <tr>\n",
              "      <th>3</th>\n",
              "      <td>大根</td>\n",
              "      <td>180</td>\n",
              "      <td>800</td>\n",
              "    </tr>\n",
              "    <tr>\n",
              "      <th>4</th>\n",
              "      <td>にんじん</td>\n",
              "      <td>65</td>\n",
              "      <td>500</td>\n",
              "    </tr>\n",
              "    <tr>\n",
              "      <th>7</th>\n",
              "      <td>ねぎ</td>\n",
              "      <td>160</td>\n",
              "      <td>600</td>\n",
              "    </tr>\n",
              "  </tbody>\n",
              "</table>\n",
              "</div>"
            ],
            "text/plain": [
              "     商品   単価  仕入れ数\n",
              "3    大根  180   800\n",
              "4  にんじん   65   500\n",
              "7    ねぎ  160   600"
            ]
          },
          "metadata": {
            "tags": []
          },
          "execution_count": 56
        }
      ]
    },
    {
      "cell_type": "code",
      "metadata": {
        "colab": {
          "base_uri": "https://localhost:8080/",
          "height": 297
        },
        "id": "umX-vQWwAzrl",
        "outputId": "f60e873b-c07e-4a44-9a35-0d0f57dac7a1"
      },
      "source": [
        "# 基本統計量を取得\n",
        "df.describe()"
      ],
      "execution_count": 57,
      "outputs": [
        {
          "output_type": "execute_result",
          "data": {
            "text/html": [
              "<div>\n",
              "<style scoped>\n",
              "    .dataframe tbody tr th:only-of-type {\n",
              "        vertical-align: middle;\n",
              "    }\n",
              "\n",
              "    .dataframe tbody tr th {\n",
              "        vertical-align: top;\n",
              "    }\n",
              "\n",
              "    .dataframe thead th {\n",
              "        text-align: right;\n",
              "    }\n",
              "</style>\n",
              "<table border=\"1\" class=\"dataframe\">\n",
              "  <thead>\n",
              "    <tr style=\"text-align: right;\">\n",
              "      <th></th>\n",
              "      <th>単価</th>\n",
              "      <th>仕入れ数</th>\n",
              "    </tr>\n",
              "  </thead>\n",
              "  <tbody>\n",
              "    <tr>\n",
              "      <th>count</th>\n",
              "      <td>8.000000</td>\n",
              "      <td>8.000000</td>\n",
              "    </tr>\n",
              "    <tr>\n",
              "      <th>mean</th>\n",
              "      <td>165.625000</td>\n",
              "      <td>500.000000</td>\n",
              "    </tr>\n",
              "    <tr>\n",
              "      <th>std</th>\n",
              "      <td>67.370908</td>\n",
              "      <td>296.407056</td>\n",
              "    </tr>\n",
              "    <tr>\n",
              "      <th>min</th>\n",
              "      <td>65.000000</td>\n",
              "      <td>100.000000</td>\n",
              "    </tr>\n",
              "    <tr>\n",
              "      <th>25%</th>\n",
              "      <td>132.500000</td>\n",
              "      <td>287.500000</td>\n",
              "    </tr>\n",
              "    <tr>\n",
              "      <th>50%</th>\n",
              "      <td>170.000000</td>\n",
              "      <td>475.000000</td>\n",
              "    </tr>\n",
              "    <tr>\n",
              "      <th>75%</th>\n",
              "      <td>210.000000</td>\n",
              "      <td>650.000000</td>\n",
              "    </tr>\n",
              "    <tr>\n",
              "      <th>max</th>\n",
              "      <td>250.000000</td>\n",
              "      <td>1000.000000</td>\n",
              "    </tr>\n",
              "  </tbody>\n",
              "</table>\n",
              "</div>"
            ],
            "text/plain": [
              "               単価         仕入れ数\n",
              "count    8.000000     8.000000\n",
              "mean   165.625000   500.000000\n",
              "std     67.370908   296.407056\n",
              "min     65.000000   100.000000\n",
              "25%    132.500000   287.500000\n",
              "50%    170.000000   475.000000\n",
              "75%    210.000000   650.000000\n",
              "max    250.000000  1000.000000"
            ]
          },
          "metadata": {
            "tags": []
          },
          "execution_count": 57
        }
      ]
    },
    {
      "cell_type": "code",
      "metadata": {
        "colab": {
          "base_uri": "https://localhost:8080/"
        },
        "id": "8FxSY1iWA2r9",
        "outputId": "b5e3d46e-706e-43dc-bb14-437dd629ac0d"
      },
      "source": [
        "# 平均値\n",
        "df.mean()"
      ],
      "execution_count": 58,
      "outputs": [
        {
          "output_type": "execute_result",
          "data": {
            "text/plain": [
              "単価      165.625\n",
              "仕入れ数    500.000\n",
              "dtype: float64"
            ]
          },
          "metadata": {
            "tags": []
          },
          "execution_count": 58
        }
      ]
    },
    {
      "cell_type": "code",
      "metadata": {
        "id": "KKLCeCzyDO4A"
      },
      "source": [
        "import pandas as pd\n",
        "\n",
        "url = \"http://www.data.jma.go.jp/obd/stats/etrn/view/rankall.php?prec_no=44&block_no=47662&year=2018&month=1&day=1&view=\"\n",
        "dflist = pd.read_html(url, header=[0,1])\n",
        "df = dflist[3]"
      ],
      "execution_count": 59,
      "outputs": []
    },
    {
      "cell_type": "code",
      "metadata": {
        "colab": {
          "base_uri": "https://localhost:8080/",
          "height": 235
        },
        "id": "It3pmYDZDVEg",
        "outputId": "d689ca71-171c-407c-d118-b9aa79ea585a"
      },
      "source": [
        "df.head()"
      ],
      "execution_count": 60,
      "outputs": [
        {
          "output_type": "execute_result",
          "data": {
            "text/html": [
              "<div>\n",
              "<style scoped>\n",
              "    .dataframe tbody tr th:only-of-type {\n",
              "        vertical-align: middle;\n",
              "    }\n",
              "\n",
              "    .dataframe tbody tr th {\n",
              "        vertical-align: top;\n",
              "    }\n",
              "\n",
              "    .dataframe thead tr th {\n",
              "        text-align: left;\n",
              "    }\n",
              "</style>\n",
              "<table border=\"1\" class=\"dataframe\">\n",
              "  <thead>\n",
              "    <tr>\n",
              "      <th></th>\n",
              "      <th>順位</th>\n",
              "      <th>都道府県</th>\n",
              "      <th>地点</th>\n",
              "      <th colspan=\"2\" halign=\"left\">観測値</th>\n",
              "      <th>現在観測を実施</th>\n",
              "    </tr>\n",
              "    <tr>\n",
              "      <th></th>\n",
              "      <th>順位</th>\n",
              "      <th>都道府県</th>\n",
              "      <th>地点</th>\n",
              "      <th>℃</th>\n",
              "      <th>起日</th>\n",
              "      <th>現在観測を実施</th>\n",
              "    </tr>\n",
              "  </thead>\n",
              "  <tbody>\n",
              "    <tr>\n",
              "      <th>0</th>\n",
              "      <td>1</td>\n",
              "      <td>新潟県</td>\n",
              "      <td>糸魚川</td>\n",
              "      <td>31.3</td>\n",
              "      <td>2019年8月15日</td>\n",
              "      <td>○</td>\n",
              "    </tr>\n",
              "    <tr>\n",
              "      <th>1</th>\n",
              "      <td>2</td>\n",
              "      <td>新潟県</td>\n",
              "      <td>相川 *</td>\n",
              "      <td>30.8</td>\n",
              "      <td>2019年8月15日</td>\n",
              "      <td>○</td>\n",
              "    </tr>\n",
              "    <tr>\n",
              "      <th>2</th>\n",
              "      <td>3</td>\n",
              "      <td>福岡県</td>\n",
              "      <td>福岡 *</td>\n",
              "      <td>30.5</td>\n",
              "      <td>2018年8月22日</td>\n",
              "      <td>○</td>\n",
              "    </tr>\n",
              "    <tr>\n",
              "      <th>3</th>\n",
              "      <td>4</td>\n",
              "      <td>東京都</td>\n",
              "      <td>東京 *</td>\n",
              "      <td>30.4</td>\n",
              "      <td>2013年8月11日</td>\n",
              "      <td>○</td>\n",
              "    </tr>\n",
              "    <tr>\n",
              "      <th>4</th>\n",
              "      <td>5</td>\n",
              "      <td>新潟県</td>\n",
              "      <td>高田 *</td>\n",
              "      <td>30.3</td>\n",
              "      <td>2019年8月15日</td>\n",
              "      <td>○</td>\n",
              "    </tr>\n",
              "  </tbody>\n",
              "</table>\n",
              "</div>"
            ],
            "text/plain": [
              "  順位 都道府県    地点   観測値             現在観測を実施\n",
              "  順位 都道府県    地点     ℃          起日 現在観測を実施\n",
              "0  1  新潟県   糸魚川  31.3  2019年8月15日       ○\n",
              "1  2  新潟県  相川 *  30.8  2019年8月15日       ○\n",
              "2  3  福岡県  福岡 *  30.5  2018年8月22日       ○\n",
              "3  4  東京都  東京 *  30.4  2013年8月11日       ○\n",
              "4  5  新潟県  高田 *  30.3  2019年8月15日       ○"
            ]
          },
          "metadata": {
            "tags": []
          },
          "execution_count": 60
        }
      ]
    },
    {
      "cell_type": "code",
      "metadata": {
        "colab": {
          "base_uri": "https://localhost:8080/"
        },
        "id": "nmT7fPC_iUlC",
        "outputId": "ca0d992c-924c-47d7-d620-d6b1b0b2a089"
      },
      "source": [
        "df.columns[0]"
      ],
      "execution_count": 61,
      "outputs": [
        {
          "output_type": "execute_result",
          "data": {
            "text/plain": [
              "('順位', '順位')"
            ]
          },
          "metadata": {
            "tags": []
          },
          "execution_count": 61
        }
      ]
    },
    {
      "cell_type": "code",
      "metadata": {
        "id": "6rrknMY9csfV"
      },
      "source": [
        "df = df.set_axis(['順位', '都道府県', '地点', '℃', '起日', '現在観測を実施'], axis=1)"
      ],
      "execution_count": 62,
      "outputs": []
    },
    {
      "cell_type": "code",
      "metadata": {
        "colab": {
          "base_uri": "https://localhost:8080/",
          "height": 204
        },
        "id": "UuKwb_S9gLRt",
        "outputId": "9dff4957-c742-419d-ce23-4a3f268df67f"
      },
      "source": [
        "df.head(5)"
      ],
      "execution_count": 63,
      "outputs": [
        {
          "output_type": "execute_result",
          "data": {
            "text/html": [
              "<div>\n",
              "<style scoped>\n",
              "    .dataframe tbody tr th:only-of-type {\n",
              "        vertical-align: middle;\n",
              "    }\n",
              "\n",
              "    .dataframe tbody tr th {\n",
              "        vertical-align: top;\n",
              "    }\n",
              "\n",
              "    .dataframe thead th {\n",
              "        text-align: right;\n",
              "    }\n",
              "</style>\n",
              "<table border=\"1\" class=\"dataframe\">\n",
              "  <thead>\n",
              "    <tr style=\"text-align: right;\">\n",
              "      <th></th>\n",
              "      <th>順位</th>\n",
              "      <th>都道府県</th>\n",
              "      <th>地点</th>\n",
              "      <th>℃</th>\n",
              "      <th>起日</th>\n",
              "      <th>現在観測を実施</th>\n",
              "    </tr>\n",
              "  </thead>\n",
              "  <tbody>\n",
              "    <tr>\n",
              "      <th>0</th>\n",
              "      <td>1</td>\n",
              "      <td>新潟県</td>\n",
              "      <td>糸魚川</td>\n",
              "      <td>31.3</td>\n",
              "      <td>2019年8月15日</td>\n",
              "      <td>○</td>\n",
              "    </tr>\n",
              "    <tr>\n",
              "      <th>1</th>\n",
              "      <td>2</td>\n",
              "      <td>新潟県</td>\n",
              "      <td>相川 *</td>\n",
              "      <td>30.8</td>\n",
              "      <td>2019年8月15日</td>\n",
              "      <td>○</td>\n",
              "    </tr>\n",
              "    <tr>\n",
              "      <th>2</th>\n",
              "      <td>3</td>\n",
              "      <td>福岡県</td>\n",
              "      <td>福岡 *</td>\n",
              "      <td>30.5</td>\n",
              "      <td>2018年8月22日</td>\n",
              "      <td>○</td>\n",
              "    </tr>\n",
              "    <tr>\n",
              "      <th>3</th>\n",
              "      <td>4</td>\n",
              "      <td>東京都</td>\n",
              "      <td>東京 *</td>\n",
              "      <td>30.4</td>\n",
              "      <td>2013年8月11日</td>\n",
              "      <td>○</td>\n",
              "    </tr>\n",
              "    <tr>\n",
              "      <th>4</th>\n",
              "      <td>5</td>\n",
              "      <td>新潟県</td>\n",
              "      <td>高田 *</td>\n",
              "      <td>30.3</td>\n",
              "      <td>2019年8月15日</td>\n",
              "      <td>○</td>\n",
              "    </tr>\n",
              "  </tbody>\n",
              "</table>\n",
              "</div>"
            ],
            "text/plain": [
              "  順位 都道府県    地点     ℃          起日 現在観測を実施\n",
              "0  1  新潟県   糸魚川  31.3  2019年8月15日       ○\n",
              "1  2  新潟県  相川 *  30.8  2019年8月15日       ○\n",
              "2  3  福岡県  福岡 *  30.5  2018年8月22日       ○\n",
              "3  4  東京都  東京 *  30.4  2013年8月11日       ○\n",
              "4  5  新潟県  高田 *  30.3  2019年8月15日       ○"
            ]
          },
          "metadata": {
            "tags": []
          },
          "execution_count": 63
        }
      ]
    },
    {
      "cell_type": "code",
      "metadata": {
        "id": "jb9RIddtA8X_",
        "colab": {
          "base_uri": "https://localhost:8080/",
          "height": 452
        },
        "outputId": "2ce6cfc9-9a3d-4657-f8e3-4f39acef6de9"
      },
      "source": [
        "# 都道府県ごとに平均値を算出\n",
        "df.groupby(\"都道府県\", as_index=False)[\"℃\"].mean()"
      ],
      "execution_count": 64,
      "outputs": [
        {
          "output_type": "execute_result",
          "data": {
            "text/html": [
              "<div>\n",
              "<style scoped>\n",
              "    .dataframe tbody tr th:only-of-type {\n",
              "        vertical-align: middle;\n",
              "    }\n",
              "\n",
              "    .dataframe tbody tr th {\n",
              "        vertical-align: top;\n",
              "    }\n",
              "\n",
              "    .dataframe thead th {\n",
              "        text-align: right;\n",
              "    }\n",
              "</style>\n",
              "<table border=\"1\" class=\"dataframe\">\n",
              "  <thead>\n",
              "    <tr style=\"text-align: right;\">\n",
              "      <th></th>\n",
              "      <th>都道府県</th>\n",
              "      <th>℃</th>\n",
              "    </tr>\n",
              "  </thead>\n",
              "  <tbody>\n",
              "    <tr>\n",
              "      <th>0</th>\n",
              "      <td>大阪府</td>\n",
              "      <td>29.700000</td>\n",
              "    </tr>\n",
              "    <tr>\n",
              "      <th>1</th>\n",
              "      <td>富山県</td>\n",
              "      <td>30.150000</td>\n",
              "    </tr>\n",
              "    <tr>\n",
              "      <th>2</th>\n",
              "      <td>山口県</td>\n",
              "      <td>29.700000</td>\n",
              "    </tr>\n",
              "    <tr>\n",
              "      <th>3</th>\n",
              "      <td>島根県</td>\n",
              "      <td>29.700000</td>\n",
              "    </tr>\n",
              "    <tr>\n",
              "      <th>4</th>\n",
              "      <td>愛媛県</td>\n",
              "      <td>29.700000</td>\n",
              "    </tr>\n",
              "    <tr>\n",
              "      <th>5</th>\n",
              "      <td>新潟県</td>\n",
              "      <td>30.366667</td>\n",
              "    </tr>\n",
              "    <tr>\n",
              "      <th>6</th>\n",
              "      <td>東京都</td>\n",
              "      <td>30.400000</td>\n",
              "    </tr>\n",
              "    <tr>\n",
              "      <th>7</th>\n",
              "      <td>沖縄県</td>\n",
              "      <td>29.714286</td>\n",
              "    </tr>\n",
              "    <tr>\n",
              "      <th>8</th>\n",
              "      <td>石川県</td>\n",
              "      <td>30.000000</td>\n",
              "    </tr>\n",
              "    <tr>\n",
              "      <th>9</th>\n",
              "      <td>福井県</td>\n",
              "      <td>30.000000</td>\n",
              "    </tr>\n",
              "    <tr>\n",
              "      <th>10</th>\n",
              "      <td>福岡県</td>\n",
              "      <td>30.500000</td>\n",
              "    </tr>\n",
              "    <tr>\n",
              "      <th>11</th>\n",
              "      <td>長崎県</td>\n",
              "      <td>30.000000</td>\n",
              "    </tr>\n",
              "    <tr>\n",
              "      <th>12</th>\n",
              "      <td>鳥取県</td>\n",
              "      <td>29.700000</td>\n",
              "    </tr>\n",
              "  </tbody>\n",
              "</table>\n",
              "</div>"
            ],
            "text/plain": [
              "   都道府県          ℃\n",
              "0   大阪府  29.700000\n",
              "1   富山県  30.150000\n",
              "2   山口県  29.700000\n",
              "3   島根県  29.700000\n",
              "4   愛媛県  29.700000\n",
              "5   新潟県  30.366667\n",
              "6   東京都  30.400000\n",
              "7   沖縄県  29.714286\n",
              "8   石川県  30.000000\n",
              "9   福井県  30.000000\n",
              "10  福岡県  30.500000\n",
              "11  長崎県  30.000000\n",
              "12  鳥取県  29.700000"
            ]
          },
          "metadata": {
            "tags": []
          },
          "execution_count": 64
        }
      ]
    },
    {
      "cell_type": "code",
      "metadata": {
        "id": "zkS8QgYMBCpt",
        "colab": {
          "base_uri": "https://localhost:8080/"
        },
        "outputId": "61f295e3-3ce5-44d6-ac0d-454ff15128f3"
      },
      "source": [
        "df[\"都道府県\"].value_counts()"
      ],
      "execution_count": 65,
      "outputs": [
        {
          "output_type": "execute_result",
          "data": {
            "text/plain": [
              "沖縄県    7\n",
              "新潟県    6\n",
              "富山県    2\n",
              "鳥取県    2\n",
              "石川県    2\n",
              "島根県    1\n",
              "山口県    1\n",
              "長崎県    1\n",
              "東京都    1\n",
              "大阪府    1\n",
              "愛媛県    1\n",
              "福井県    1\n",
              "福岡県    1\n",
              "Name: 都道府県, dtype: int64"
            ]
          },
          "metadata": {
            "tags": []
          },
          "execution_count": 65
        }
      ]
    },
    {
      "cell_type": "code",
      "metadata": {
        "colab": {
          "base_uri": "https://localhost:8080/",
          "height": 142
        },
        "id": "BIJKn-6iBUYK",
        "outputId": "2e6871cd-7ffd-44d2-a3d5-ea981f9eea99"
      },
      "source": [
        "import pandas as pd\n",
        "\n",
        "# 元データ準備\n",
        "df = pd.DataFrame({\"datetime\": [\"2021/3/1 17:52:00\", \"2017/5/10 11:22:16\", \"2019/9/24 6:5:17\"],\n",
        "                   \"dammy\": [150, 300, 500]})\n",
        "\n",
        "# datetimeへ型変換\n",
        "df[\"datetime\"] = pd.to_datetime(df.datetime, format=\"%Y/%m/%d %H:%M:%S\")\n",
        "df"
      ],
      "execution_count": 66,
      "outputs": [
        {
          "output_type": "execute_result",
          "data": {
            "text/html": [
              "<div>\n",
              "<style scoped>\n",
              "    .dataframe tbody tr th:only-of-type {\n",
              "        vertical-align: middle;\n",
              "    }\n",
              "\n",
              "    .dataframe tbody tr th {\n",
              "        vertical-align: top;\n",
              "    }\n",
              "\n",
              "    .dataframe thead th {\n",
              "        text-align: right;\n",
              "    }\n",
              "</style>\n",
              "<table border=\"1\" class=\"dataframe\">\n",
              "  <thead>\n",
              "    <tr style=\"text-align: right;\">\n",
              "      <th></th>\n",
              "      <th>datetime</th>\n",
              "      <th>dammy</th>\n",
              "    </tr>\n",
              "  </thead>\n",
              "  <tbody>\n",
              "    <tr>\n",
              "      <th>0</th>\n",
              "      <td>2021-03-01 17:52:00</td>\n",
              "      <td>150</td>\n",
              "    </tr>\n",
              "    <tr>\n",
              "      <th>1</th>\n",
              "      <td>2017-05-10 11:22:16</td>\n",
              "      <td>300</td>\n",
              "    </tr>\n",
              "    <tr>\n",
              "      <th>2</th>\n",
              "      <td>2019-09-24 06:05:17</td>\n",
              "      <td>500</td>\n",
              "    </tr>\n",
              "  </tbody>\n",
              "</table>\n",
              "</div>"
            ],
            "text/plain": [
              "             datetime  dammy\n",
              "0 2021-03-01 17:52:00    150\n",
              "1 2017-05-10 11:22:16    300\n",
              "2 2019-09-24 06:05:17    500"
            ]
          },
          "metadata": {
            "tags": []
          },
          "execution_count": 66
        }
      ]
    },
    {
      "cell_type": "code",
      "metadata": {
        "colab": {
          "base_uri": "https://localhost:8080/",
          "height": 142
        },
        "id": "ohNfZC6lBvM9",
        "outputId": "c3aea92d-5433-4cc4-a3e5-d3c80e0f548b"
      },
      "source": [
        "# dtで年月日、曜日などを抽出　strftime()で任意のフォーマットの文字列に変換\n",
        "df[\"date\"] = df.datetime.dt.strftime(\"%Y/%m/%d\")\n",
        "df"
      ],
      "execution_count": 67,
      "outputs": [
        {
          "output_type": "execute_result",
          "data": {
            "text/html": [
              "<div>\n",
              "<style scoped>\n",
              "    .dataframe tbody tr th:only-of-type {\n",
              "        vertical-align: middle;\n",
              "    }\n",
              "\n",
              "    .dataframe tbody tr th {\n",
              "        vertical-align: top;\n",
              "    }\n",
              "\n",
              "    .dataframe thead th {\n",
              "        text-align: right;\n",
              "    }\n",
              "</style>\n",
              "<table border=\"1\" class=\"dataframe\">\n",
              "  <thead>\n",
              "    <tr style=\"text-align: right;\">\n",
              "      <th></th>\n",
              "      <th>datetime</th>\n",
              "      <th>dammy</th>\n",
              "      <th>date</th>\n",
              "    </tr>\n",
              "  </thead>\n",
              "  <tbody>\n",
              "    <tr>\n",
              "      <th>0</th>\n",
              "      <td>2021-03-01 17:52:00</td>\n",
              "      <td>150</td>\n",
              "      <td>2021/03/01</td>\n",
              "    </tr>\n",
              "    <tr>\n",
              "      <th>1</th>\n",
              "      <td>2017-05-10 11:22:16</td>\n",
              "      <td>300</td>\n",
              "      <td>2017/05/10</td>\n",
              "    </tr>\n",
              "    <tr>\n",
              "      <th>2</th>\n",
              "      <td>2019-09-24 06:05:17</td>\n",
              "      <td>500</td>\n",
              "      <td>2019/09/24</td>\n",
              "    </tr>\n",
              "  </tbody>\n",
              "</table>\n",
              "</div>"
            ],
            "text/plain": [
              "             datetime  dammy        date\n",
              "0 2021-03-01 17:52:00    150  2021/03/01\n",
              "1 2017-05-10 11:22:16    300  2017/05/10\n",
              "2 2019-09-24 06:05:17    500  2019/09/24"
            ]
          },
          "metadata": {
            "tags": []
          },
          "execution_count": 67
        }
      ]
    },
    {
      "cell_type": "code",
      "metadata": {
        "colab": {
          "base_uri": "https://localhost:8080/"
        },
        "id": "6nPZkQbXBzca",
        "outputId": "9be40103-f954-4caf-eacd-f94cbc4a433d"
      },
      "source": [
        "df.datetime.dt.month"
      ],
      "execution_count": 68,
      "outputs": [
        {
          "output_type": "execute_result",
          "data": {
            "text/plain": [
              "0    3\n",
              "1    5\n",
              "2    9\n",
              "Name: datetime, dtype: int64"
            ]
          },
          "metadata": {
            "tags": []
          },
          "execution_count": 68
        }
      ]
    },
    {
      "cell_type": "code",
      "metadata": {
        "colab": {
          "base_uri": "https://localhost:8080/",
          "height": 111
        },
        "id": "zWB_Q-KGCkQl",
        "outputId": "786080ec-1722-4ad5-9d5a-7cba2231f247"
      },
      "source": [
        "df[df.datetime.dt.month >= 4]"
      ],
      "execution_count": 69,
      "outputs": [
        {
          "output_type": "execute_result",
          "data": {
            "text/html": [
              "<div>\n",
              "<style scoped>\n",
              "    .dataframe tbody tr th:only-of-type {\n",
              "        vertical-align: middle;\n",
              "    }\n",
              "\n",
              "    .dataframe tbody tr th {\n",
              "        vertical-align: top;\n",
              "    }\n",
              "\n",
              "    .dataframe thead th {\n",
              "        text-align: right;\n",
              "    }\n",
              "</style>\n",
              "<table border=\"1\" class=\"dataframe\">\n",
              "  <thead>\n",
              "    <tr style=\"text-align: right;\">\n",
              "      <th></th>\n",
              "      <th>datetime</th>\n",
              "      <th>dammy</th>\n",
              "      <th>date</th>\n",
              "    </tr>\n",
              "  </thead>\n",
              "  <tbody>\n",
              "    <tr>\n",
              "      <th>1</th>\n",
              "      <td>2017-05-10 11:22:16</td>\n",
              "      <td>300</td>\n",
              "      <td>2017/05/10</td>\n",
              "    </tr>\n",
              "    <tr>\n",
              "      <th>2</th>\n",
              "      <td>2019-09-24 06:05:17</td>\n",
              "      <td>500</td>\n",
              "      <td>2019/09/24</td>\n",
              "    </tr>\n",
              "  </tbody>\n",
              "</table>\n",
              "</div>"
            ],
            "text/plain": [
              "             datetime  dammy        date\n",
              "1 2017-05-10 11:22:16    300  2017/05/10\n",
              "2 2019-09-24 06:05:17    500  2019/09/24"
            ]
          },
          "metadata": {
            "tags": []
          },
          "execution_count": 69
        }
      ]
    },
    {
      "cell_type": "code",
      "metadata": {
        "colab": {
          "base_uri": "https://localhost:8080/",
          "height": 142
        },
        "id": "zygBJ1MRCwGj",
        "outputId": "da7b6047-8947-40eb-d7e2-e5bfb9bc13e7"
      },
      "source": [
        "# offsetsオブジェクトは時間を遅らせたり進めたりできる\n",
        "df.datetime += pd.offsets.Hour(6)\n",
        "df"
      ],
      "execution_count": 70,
      "outputs": [
        {
          "output_type": "execute_result",
          "data": {
            "text/html": [
              "<div>\n",
              "<style scoped>\n",
              "    .dataframe tbody tr th:only-of-type {\n",
              "        vertical-align: middle;\n",
              "    }\n",
              "\n",
              "    .dataframe tbody tr th {\n",
              "        vertical-align: top;\n",
              "    }\n",
              "\n",
              "    .dataframe thead th {\n",
              "        text-align: right;\n",
              "    }\n",
              "</style>\n",
              "<table border=\"1\" class=\"dataframe\">\n",
              "  <thead>\n",
              "    <tr style=\"text-align: right;\">\n",
              "      <th></th>\n",
              "      <th>datetime</th>\n",
              "      <th>dammy</th>\n",
              "      <th>date</th>\n",
              "    </tr>\n",
              "  </thead>\n",
              "  <tbody>\n",
              "    <tr>\n",
              "      <th>0</th>\n",
              "      <td>2021-03-01 23:52:00</td>\n",
              "      <td>150</td>\n",
              "      <td>2021/03/01</td>\n",
              "    </tr>\n",
              "    <tr>\n",
              "      <th>1</th>\n",
              "      <td>2017-05-10 17:22:16</td>\n",
              "      <td>300</td>\n",
              "      <td>2017/05/10</td>\n",
              "    </tr>\n",
              "    <tr>\n",
              "      <th>2</th>\n",
              "      <td>2019-09-24 12:05:17</td>\n",
              "      <td>500</td>\n",
              "      <td>2019/09/24</td>\n",
              "    </tr>\n",
              "  </tbody>\n",
              "</table>\n",
              "</div>"
            ],
            "text/plain": [
              "             datetime  dammy        date\n",
              "0 2021-03-01 23:52:00    150  2021/03/01\n",
              "1 2017-05-10 17:22:16    300  2017/05/10\n",
              "2 2019-09-24 12:05:17    500  2019/09/24"
            ]
          },
          "metadata": {
            "tags": []
          },
          "execution_count": 70
        }
      ]
    },
    {
      "cell_type": "code",
      "metadata": {
        "colab": {
          "base_uri": "https://localhost:8080/",
          "height": 450
        },
        "id": "CB3yH1F2C8st",
        "outputId": "1725c903-6c09-45ca-cb73-e174a326093a"
      },
      "source": [
        "# データの準備\n",
        "df = pd.DataFrame({\"datetime\": [\"2020/11/13\", \"2017/4/2\", \"2018/3/7\", \"2018/2/9\", \"2020/12/11\", \"2019/2/14\"],\n",
        "                   \"data\": [0, 10, 20, -10, -5, 10]})\n",
        "\n",
        "# datetimeへ型変換\n",
        "df[\"datetime\"] = pd.to_datetime(df.datetime, format=\"%Y/%m/%d\")\n",
        "\n",
        "# リサンプリング\n",
        "df.resample(\"W\", on=\"datetime\").last()"
      ],
      "execution_count": 71,
      "outputs": [
        {
          "output_type": "execute_result",
          "data": {
            "text/html": [
              "<div>\n",
              "<style scoped>\n",
              "    .dataframe tbody tr th:only-of-type {\n",
              "        vertical-align: middle;\n",
              "    }\n",
              "\n",
              "    .dataframe tbody tr th {\n",
              "        vertical-align: top;\n",
              "    }\n",
              "\n",
              "    .dataframe thead th {\n",
              "        text-align: right;\n",
              "    }\n",
              "</style>\n",
              "<table border=\"1\" class=\"dataframe\">\n",
              "  <thead>\n",
              "    <tr style=\"text-align: right;\">\n",
              "      <th></th>\n",
              "      <th>datetime</th>\n",
              "      <th>data</th>\n",
              "    </tr>\n",
              "    <tr>\n",
              "      <th>datetime</th>\n",
              "      <th></th>\n",
              "      <th></th>\n",
              "    </tr>\n",
              "  </thead>\n",
              "  <tbody>\n",
              "    <tr>\n",
              "      <th>2017-04-02</th>\n",
              "      <td>2017-04-02</td>\n",
              "      <td>10.0</td>\n",
              "    </tr>\n",
              "    <tr>\n",
              "      <th>2017-04-09</th>\n",
              "      <td>NaT</td>\n",
              "      <td>NaN</td>\n",
              "    </tr>\n",
              "    <tr>\n",
              "      <th>2017-04-16</th>\n",
              "      <td>NaT</td>\n",
              "      <td>NaN</td>\n",
              "    </tr>\n",
              "    <tr>\n",
              "      <th>2017-04-23</th>\n",
              "      <td>NaT</td>\n",
              "      <td>NaN</td>\n",
              "    </tr>\n",
              "    <tr>\n",
              "      <th>2017-04-30</th>\n",
              "      <td>NaT</td>\n",
              "      <td>NaN</td>\n",
              "    </tr>\n",
              "    <tr>\n",
              "      <th>...</th>\n",
              "      <td>...</td>\n",
              "      <td>...</td>\n",
              "    </tr>\n",
              "    <tr>\n",
              "      <th>2020-11-15</th>\n",
              "      <td>2020-11-13</td>\n",
              "      <td>0.0</td>\n",
              "    </tr>\n",
              "    <tr>\n",
              "      <th>2020-11-22</th>\n",
              "      <td>NaT</td>\n",
              "      <td>NaN</td>\n",
              "    </tr>\n",
              "    <tr>\n",
              "      <th>2020-11-29</th>\n",
              "      <td>NaT</td>\n",
              "      <td>NaN</td>\n",
              "    </tr>\n",
              "    <tr>\n",
              "      <th>2020-12-06</th>\n",
              "      <td>NaT</td>\n",
              "      <td>NaN</td>\n",
              "    </tr>\n",
              "    <tr>\n",
              "      <th>2020-12-13</th>\n",
              "      <td>2020-12-11</td>\n",
              "      <td>-5.0</td>\n",
              "    </tr>\n",
              "  </tbody>\n",
              "</table>\n",
              "<p>194 rows × 2 columns</p>\n",
              "</div>"
            ],
            "text/plain": [
              "             datetime  data\n",
              "datetime                   \n",
              "2017-04-02 2017-04-02  10.0\n",
              "2017-04-09        NaT   NaN\n",
              "2017-04-16        NaT   NaN\n",
              "2017-04-23        NaT   NaN\n",
              "2017-04-30        NaT   NaN\n",
              "...               ...   ...\n",
              "2020-11-15 2020-11-13   0.0\n",
              "2020-11-22        NaT   NaN\n",
              "2020-11-29        NaT   NaN\n",
              "2020-12-06        NaT   NaN\n",
              "2020-12-13 2020-12-11  -5.0\n",
              "\n",
              "[194 rows x 2 columns]"
            ]
          },
          "metadata": {
            "tags": []
          },
          "execution_count": 71
        }
      ]
    },
    {
      "cell_type": "code",
      "metadata": {
        "colab": {
          "base_uri": "https://localhost:8080/",
          "height": 450
        },
        "id": "_IzvnPIiDCzA",
        "outputId": "87954970-9080-4d55-c64c-b9f0423e9226"
      },
      "source": [
        "# データの準備\n",
        "df = pd.DataFrame({\"datetime\": [\"2018/1/1\", \"2018/1/2\", \"2018/1/4\", \"2018/1/7\"],\n",
        "                   \"data\": [0, 10, 20, -10]})\n",
        "\n",
        "# datetimeへ型変換\n",
        "df[\"datetime\"] = pd.to_datetime(df.datetime, format=\"%Y/%m/%d\")\n",
        "\n",
        "# datetime列をindex列に設定\n",
        "df.set_index(\"datetime\", inplace=True)\n",
        "\n",
        "# 1時間ごとにリサンプリングし、欠損値は直前のサンプリング点の値で埋める\n",
        "df.resample(\"H\").ffill()"
      ],
      "execution_count": 72,
      "outputs": [
        {
          "output_type": "execute_result",
          "data": {
            "text/html": [
              "<div>\n",
              "<style scoped>\n",
              "    .dataframe tbody tr th:only-of-type {\n",
              "        vertical-align: middle;\n",
              "    }\n",
              "\n",
              "    .dataframe tbody tr th {\n",
              "        vertical-align: top;\n",
              "    }\n",
              "\n",
              "    .dataframe thead th {\n",
              "        text-align: right;\n",
              "    }\n",
              "</style>\n",
              "<table border=\"1\" class=\"dataframe\">\n",
              "  <thead>\n",
              "    <tr style=\"text-align: right;\">\n",
              "      <th></th>\n",
              "      <th>data</th>\n",
              "    </tr>\n",
              "    <tr>\n",
              "      <th>datetime</th>\n",
              "      <th></th>\n",
              "    </tr>\n",
              "  </thead>\n",
              "  <tbody>\n",
              "    <tr>\n",
              "      <th>2018-01-01 00:00:00</th>\n",
              "      <td>0</td>\n",
              "    </tr>\n",
              "    <tr>\n",
              "      <th>2018-01-01 01:00:00</th>\n",
              "      <td>0</td>\n",
              "    </tr>\n",
              "    <tr>\n",
              "      <th>2018-01-01 02:00:00</th>\n",
              "      <td>0</td>\n",
              "    </tr>\n",
              "    <tr>\n",
              "      <th>2018-01-01 03:00:00</th>\n",
              "      <td>0</td>\n",
              "    </tr>\n",
              "    <tr>\n",
              "      <th>2018-01-01 04:00:00</th>\n",
              "      <td>0</td>\n",
              "    </tr>\n",
              "    <tr>\n",
              "      <th>...</th>\n",
              "      <td>...</td>\n",
              "    </tr>\n",
              "    <tr>\n",
              "      <th>2018-01-06 20:00:00</th>\n",
              "      <td>20</td>\n",
              "    </tr>\n",
              "    <tr>\n",
              "      <th>2018-01-06 21:00:00</th>\n",
              "      <td>20</td>\n",
              "    </tr>\n",
              "    <tr>\n",
              "      <th>2018-01-06 22:00:00</th>\n",
              "      <td>20</td>\n",
              "    </tr>\n",
              "    <tr>\n",
              "      <th>2018-01-06 23:00:00</th>\n",
              "      <td>20</td>\n",
              "    </tr>\n",
              "    <tr>\n",
              "      <th>2018-01-07 00:00:00</th>\n",
              "      <td>-10</td>\n",
              "    </tr>\n",
              "  </tbody>\n",
              "</table>\n",
              "<p>145 rows × 1 columns</p>\n",
              "</div>"
            ],
            "text/plain": [
              "                     data\n",
              "datetime                 \n",
              "2018-01-01 00:00:00     0\n",
              "2018-01-01 01:00:00     0\n",
              "2018-01-01 02:00:00     0\n",
              "2018-01-01 03:00:00     0\n",
              "2018-01-01 04:00:00     0\n",
              "...                   ...\n",
              "2018-01-06 20:00:00    20\n",
              "2018-01-06 21:00:00    20\n",
              "2018-01-06 22:00:00    20\n",
              "2018-01-06 23:00:00    20\n",
              "2018-01-07 00:00:00   -10\n",
              "\n",
              "[145 rows x 1 columns]"
            ]
          },
          "metadata": {
            "tags": []
          },
          "execution_count": 72
        }
      ]
    },
    {
      "cell_type": "code",
      "metadata": {
        "colab": {
          "base_uri": "https://localhost:8080/",
          "height": 450
        },
        "id": "DyAW8U6BDGjU",
        "outputId": "71092cd2-87f0-4f9e-8f88-7fc1838fbe41"
      },
      "source": [
        "# データの準備\n",
        "df = pd.DataFrame({\"datetime\": [\"2018/1/1\", \"2018/1/2\", \"2018/1/4\", \"2018/1/7\"],\n",
        "                   \"data\": [0, 10, 20, -10]})\n",
        "\n",
        "# datetimeへ型変換\n",
        "df[\"datetime\"] = pd.to_datetime(df.datetime, format=\"%Y/%m/%d\")\n",
        "\n",
        "# datetime列をindex列に設定\n",
        "df.set_index(\"datetime\", inplace=True)\n",
        "\n",
        "# 1時間ごとに2次スプライン補間でリサンプリング\n",
        "df.resample(\"H\").interpolate(method=\"quadratic\")"
      ],
      "execution_count": 73,
      "outputs": [
        {
          "output_type": "execute_result",
          "data": {
            "text/html": [
              "<div>\n",
              "<style scoped>\n",
              "    .dataframe tbody tr th:only-of-type {\n",
              "        vertical-align: middle;\n",
              "    }\n",
              "\n",
              "    .dataframe tbody tr th {\n",
              "        vertical-align: top;\n",
              "    }\n",
              "\n",
              "    .dataframe thead th {\n",
              "        text-align: right;\n",
              "    }\n",
              "</style>\n",
              "<table border=\"1\" class=\"dataframe\">\n",
              "  <thead>\n",
              "    <tr style=\"text-align: right;\">\n",
              "      <th></th>\n",
              "      <th>data</th>\n",
              "    </tr>\n",
              "    <tr>\n",
              "      <th>datetime</th>\n",
              "      <th></th>\n",
              "    </tr>\n",
              "  </thead>\n",
              "  <tbody>\n",
              "    <tr>\n",
              "      <th>2018-01-01 00:00:00</th>\n",
              "      <td>0.000000</td>\n",
              "    </tr>\n",
              "    <tr>\n",
              "      <th>2018-01-01 01:00:00</th>\n",
              "      <td>0.471117</td>\n",
              "    </tr>\n",
              "    <tr>\n",
              "      <th>2018-01-01 02:00:00</th>\n",
              "      <td>0.937500</td>\n",
              "    </tr>\n",
              "    <tr>\n",
              "      <th>2018-01-01 03:00:00</th>\n",
              "      <td>1.399148</td>\n",
              "    </tr>\n",
              "    <tr>\n",
              "      <th>2018-01-01 04:00:00</th>\n",
              "      <td>1.856061</td>\n",
              "    </tr>\n",
              "    <tr>\n",
              "      <th>...</th>\n",
              "      <td>...</td>\n",
              "    </tr>\n",
              "    <tr>\n",
              "      <th>2018-01-06 20:00:00</th>\n",
              "      <td>-6.830808</td>\n",
              "    </tr>\n",
              "    <tr>\n",
              "      <th>2018-01-06 21:00:00</th>\n",
              "      <td>-7.606534</td>\n",
              "    </tr>\n",
              "    <tr>\n",
              "      <th>2018-01-06 22:00:00</th>\n",
              "      <td>-8.393308</td>\n",
              "    </tr>\n",
              "    <tr>\n",
              "      <th>2018-01-06 23:00:00</th>\n",
              "      <td>-9.191130</td>\n",
              "    </tr>\n",
              "    <tr>\n",
              "      <th>2018-01-07 00:00:00</th>\n",
              "      <td>-10.000000</td>\n",
              "    </tr>\n",
              "  </tbody>\n",
              "</table>\n",
              "<p>145 rows × 1 columns</p>\n",
              "</div>"
            ],
            "text/plain": [
              "                          data\n",
              "datetime                      \n",
              "2018-01-01 00:00:00   0.000000\n",
              "2018-01-01 01:00:00   0.471117\n",
              "2018-01-01 02:00:00   0.937500\n",
              "2018-01-01 03:00:00   1.399148\n",
              "2018-01-01 04:00:00   1.856061\n",
              "...                        ...\n",
              "2018-01-06 20:00:00  -6.830808\n",
              "2018-01-06 21:00:00  -7.606534\n",
              "2018-01-06 22:00:00  -8.393308\n",
              "2018-01-06 23:00:00  -9.191130\n",
              "2018-01-07 00:00:00 -10.000000\n",
              "\n",
              "[145 rows x 1 columns]"
            ]
          },
          "metadata": {
            "tags": []
          },
          "execution_count": 73
        }
      ]
    },
    {
      "cell_type": "code",
      "metadata": {
        "colab": {
          "base_uri": "https://localhost:8080/",
          "height": 235
        },
        "id": "a51jiIKDDf0e",
        "outputId": "09798ed7-d9f2-4335-9ea0-24f457eb8dd7"
      },
      "source": [
        "df = dflist[0]\n",
        "df.head()"
      ],
      "execution_count": 74,
      "outputs": [
        {
          "output_type": "execute_result",
          "data": {
            "text/html": [
              "<div>\n",
              "<style scoped>\n",
              "    .dataframe tbody tr th:only-of-type {\n",
              "        vertical-align: middle;\n",
              "    }\n",
              "\n",
              "    .dataframe tbody tr th {\n",
              "        vertical-align: top;\n",
              "    }\n",
              "\n",
              "    .dataframe thead tr th {\n",
              "        text-align: left;\n",
              "    }\n",
              "</style>\n",
              "<table border=\"1\" class=\"dataframe\">\n",
              "  <thead>\n",
              "    <tr>\n",
              "      <th></th>\n",
              "      <th>順位</th>\n",
              "      <th>都道府県</th>\n",
              "      <th>地点</th>\n",
              "      <th colspan=\"2\" halign=\"left\">観測値</th>\n",
              "      <th>現在観測を実施</th>\n",
              "    </tr>\n",
              "    <tr>\n",
              "      <th></th>\n",
              "      <th>順位</th>\n",
              "      <th>都道府県</th>\n",
              "      <th>地点</th>\n",
              "      <th>℃</th>\n",
              "      <th>起日</th>\n",
              "      <th>現在観測を実施</th>\n",
              "    </tr>\n",
              "  </thead>\n",
              "  <tbody>\n",
              "    <tr>\n",
              "      <th>0</th>\n",
              "      <td>1</td>\n",
              "      <td>静岡県</td>\n",
              "      <td>浜松 *</td>\n",
              "      <td>41.1</td>\n",
              "      <td>2020年8月17日</td>\n",
              "      <td>○</td>\n",
              "    </tr>\n",
              "    <tr>\n",
              "      <th>1</th>\n",
              "      <td>〃</td>\n",
              "      <td>埼玉県</td>\n",
              "      <td>熊谷 *</td>\n",
              "      <td>41.1</td>\n",
              "      <td>2018年7月23日</td>\n",
              "      <td>○</td>\n",
              "    </tr>\n",
              "    <tr>\n",
              "      <th>2</th>\n",
              "      <td>3</td>\n",
              "      <td>岐阜県</td>\n",
              "      <td>美濃</td>\n",
              "      <td>41.0</td>\n",
              "      <td>2018年8月8日</td>\n",
              "      <td>○</td>\n",
              "    </tr>\n",
              "    <tr>\n",
              "      <th>3</th>\n",
              "      <td>〃</td>\n",
              "      <td>岐阜県</td>\n",
              "      <td>金山</td>\n",
              "      <td>41.0</td>\n",
              "      <td>2018年8月6日</td>\n",
              "      <td>○</td>\n",
              "    </tr>\n",
              "    <tr>\n",
              "      <th>4</th>\n",
              "      <td>〃</td>\n",
              "      <td>高知県</td>\n",
              "      <td>江川崎</td>\n",
              "      <td>41.0</td>\n",
              "      <td>2013年8月12日</td>\n",
              "      <td>○</td>\n",
              "    </tr>\n",
              "  </tbody>\n",
              "</table>\n",
              "</div>"
            ],
            "text/plain": [
              "  順位 都道府県    地点   観測値             現在観測を実施\n",
              "  順位 都道府県    地点     ℃          起日 現在観測を実施\n",
              "0  1  静岡県  浜松 *  41.1  2020年8月17日       ○\n",
              "1  〃  埼玉県  熊谷 *  41.1  2018年7月23日       ○\n",
              "2  3  岐阜県    美濃  41.0   2018年8月8日       ○\n",
              "3  〃  岐阜県    金山  41.0   2018年8月6日       ○\n",
              "4  〃  高知県   江川崎  41.0  2013年8月12日       ○"
            ]
          },
          "metadata": {
            "tags": []
          },
          "execution_count": 74
        }
      ]
    },
    {
      "cell_type": "markdown",
      "metadata": {
        "id": "NOGtSRuUFMVi"
      },
      "source": [
        "### Python 基礎文法"
      ]
    },
    {
      "cell_type": "code",
      "metadata": {
        "colab": {
          "base_uri": "https://localhost:8080/"
        },
        "id": "8IDzbE9JG7F1",
        "outputId": "49e3427d-da9c-4eed-ce6f-ca7156a681be"
      },
      "source": [
        "def set_tax(rate):\n",
        "    def get_tax_price(price):\n",
        "        return int (price+price*rate*0.01)\n",
        "    return get_tax_price\n",
        "\n",
        "tax_eight = set_tax(8)\n",
        "\n",
        "tax_ten = set_tax(10)\n",
        "\n",
        "print(tax_eight(100))\n",
        "\n",
        "print(tax_ten(100))"
      ],
      "execution_count": 75,
      "outputs": [
        {
          "output_type": "stream",
          "text": [
            "108\n",
            "110\n"
          ],
          "name": "stdout"
        }
      ]
    },
    {
      "cell_type": "code",
      "metadata": {
        "colab": {
          "base_uri": "https://localhost:8080/"
        },
        "id": "qSwLK4-mG3G9",
        "outputId": "7f772d2b-6087-45b0-c52f-fbbdaf26ad50"
      },
      "source": [
        "#lambdaを使わない場合\n",
        "def func(price,tax):\n",
        "    return price + (price * tax)\n",
        "\n",
        "payment1 = func(100,0.08)\n",
        "print(payment1)\n",
        "\n",
        "#lambdaを使う場合\n",
        "print((lambda price,tax:price + (price*tax))(100,0.08))"
      ],
      "execution_count": 76,
      "outputs": [
        {
          "output_type": "stream",
          "text": [
            "108.0\n",
            "108.0\n"
          ],
          "name": "stdout"
        }
      ]
    },
    {
      "cell_type": "code",
      "metadata": {
        "colab": {
          "base_uri": "https://localhost:8080/"
        },
        "id": "7Ejp49GTHEeo",
        "outputId": "89bbef4d-a5e9-4085-b237-d59619305026"
      },
      "source": [
        "#実践的なlambda式 (for)\n",
        "#testの値を40以上なのか判定する\n",
        "test = [100,80,30,60,40,35]\n",
        "\n",
        "#map関数は第一引数に処理内容、第二引数に処理対象のリストを指定\n",
        "red = list(map(lambda point:point > 40,test))\n",
        "\n",
        "print(red)"
      ],
      "execution_count": 77,
      "outputs": [
        {
          "output_type": "stream",
          "text": [
            "[True, True, False, True, False, False]\n"
          ],
          "name": "stdout"
        }
      ]
    },
    {
      "cell_type": "code",
      "metadata": {
        "colab": {
          "base_uri": "https://localhost:8080/"
        },
        "id": "Gb8ty1rWHMvx",
        "outputId": "83c8378b-93be-4434-de4d-5fa2a1970647"
      },
      "source": [
        "#実践的なlambda式 (if)\n",
        "#testの値を40以下の値を抽出する\n",
        "test = [100,80,30,60,40,35]\n",
        "\n",
        "#filter関数は第二引数に指定された配列の各要素に対して、第一引数の関数処理を実施し、Trueとなるものだけを抽出する処理を行う\n",
        "redlist = list(filter(lambda point:point < 40,test))\n",
        "\n",
        "print(redlist)"
      ],
      "execution_count": 78,
      "outputs": [
        {
          "output_type": "stream",
          "text": [
            "[30, 35]\n"
          ],
          "name": "stdout"
        }
      ]
    },
    {
      "cell_type": "code",
      "metadata": {
        "colab": {
          "base_uri": "https://localhost:8080/"
        },
        "id": "fvQUM2feHfnk",
        "outputId": "b0c8dcd9-98cb-44a4-c200-2704c46ed328"
      },
      "source": [
        "def outer(some_fn):\n",
        "    def inner():\n",
        "        print('Start')\n",
        "        fn = some_fn()#1\n",
        "        return fn + 1\n",
        "    return inner\n",
        "\n",
        "def helo():\n",
        "    return 1\n",
        "\n",
        "#2\n",
        "decorated = outer(helo)\n",
        "decorated()"
      ],
      "execution_count": 79,
      "outputs": [
        {
          "output_type": "stream",
          "text": [
            "Start\n"
          ],
          "name": "stdout"
        },
        {
          "output_type": "execute_result",
          "data": {
            "text/plain": [
              "2"
            ]
          },
          "metadata": {
            "tags": []
          },
          "execution_count": 79
        }
      ]
    },
    {
      "cell_type": "code",
      "metadata": {
        "colab": {
          "base_uri": "https://localhost:8080/"
        },
        "id": "1EmJGw7AHveq",
        "outputId": "f976cc60-5332-4967-8a9b-7db7fd8d9e75"
      },
      "source": [
        "def calc(func):\n",
        "    def display(*args):\n",
        "        print('start')\n",
        "        print(func(*args))\n",
        "        print('end')\n",
        "    return display\n",
        "\n",
        "def plus(x,y):\n",
        "    return x + y\n",
        "\n",
        "def minus(x,y):\n",
        "    return x - y\n",
        "\n",
        "calc(plus)(1,2)\n",
        "calc(minus)(1,2)"
      ],
      "execution_count": 80,
      "outputs": [
        {
          "output_type": "stream",
          "text": [
            "start\n",
            "3\n",
            "end\n",
            "start\n",
            "-1\n",
            "end\n"
          ],
          "name": "stdout"
        }
      ]
    },
    {
      "cell_type": "code",
      "metadata": {
        "colab": {
          "base_uri": "https://localhost:8080/"
        },
        "id": "Rnv2Z0-lHza-",
        "outputId": "dc5328e4-5097-470c-8f33-4a81ac0bbd64"
      },
      "source": [
        "#@ シンボルを使う場合\n",
        "def calc(func):\n",
        "    def display(*args):\n",
        "        print('start')\n",
        "        print(func(*args))\n",
        "        print('end')\n",
        "    return display\n",
        "\n",
        "@calc\n",
        "def plus(x,y):\n",
        "    return x + y\n",
        "@calc\n",
        "def minus(x,y):\n",
        "    return x - y\n",
        "\n",
        "plus(1,2)\n",
        "minus(1,2)"
      ],
      "execution_count": 81,
      "outputs": [
        {
          "output_type": "stream",
          "text": [
            "start\n",
            "3\n",
            "end\n",
            "start\n",
            "-1\n",
            "end\n"
          ],
          "name": "stdout"
        }
      ]
    },
    {
      "cell_type": "code",
      "metadata": {
        "id": "QEGzEM2QH-BG"
      },
      "source": [
        "#属性を定義してNoneで初期化\n",
        "class Soldier:\n",
        "#コンストラクタ\n",
        "    def __init__(self):\n",
        "        self.name=None\n",
        "        self.hp=None\n",
        "        self.ap=None\n",
        "        self.dp=None"
      ],
      "execution_count": 82,
      "outputs": []
    },
    {
      "cell_type": "code",
      "metadata": {
        "id": "8gfGQd9WIHt-"
      },
      "source": [
        "#属性を定義して引数の値で設定\n",
        "class Soldier:\n",
        "#コンストラクタ\n",
        "    def __init__(self,name,hp,ap,dp):\n",
        "        self.name=name\n",
        "        self.hp=hp\n",
        "        self.ap=ap\n",
        "        self.dp=dp"
      ],
      "execution_count": 83,
      "outputs": []
    },
    {
      "cell_type": "code",
      "metadata": {
        "id": "tYotf6RFILsB"
      },
      "source": [
        "#属性を定義して引数の値を設定、省略時はNoneを設定\n",
        "class Soldier:\n",
        "#コンストラクタ\n",
        "    def __init__(self,name=None,hp=None,ap=None,dp=None):\n",
        "        self.name=name\n",
        "        self.hp=hp\n",
        "        self.ap=ap\n",
        "        self.dp=dp"
      ],
      "execution_count": 84,
      "outputs": []
    },
    {
      "cell_type": "code",
      "metadata": {
        "id": "MdtVv5ebIRHr"
      },
      "source": [
        "#属性を定義して引数の値で設定\n",
        "class Soldier:\n",
        "#コンストラクタ\n",
        "    def __init__(self,name,hp,ap,dp):\n",
        "        self.name=name\n",
        "        self.hp=hp\n",
        "        self.ap=ap\n",
        "        self.dp=dp\n",
        "#攻撃する        \n",
        "    def attack(self):\n",
        "        return self.ap\n",
        "#傷つく   \n",
        "    def hurt(self,attacked):\n",
        "        self.hp = self.hp - (attacked - self.dp)"
      ],
      "execution_count": 85,
      "outputs": []
    },
    {
      "cell_type": "code",
      "metadata": {
        "colab": {
          "base_uri": "https://localhost:8080/"
        },
        "id": "4KC9vq0sIZYs",
        "outputId": "7eddd15b-7e9a-488a-da8a-58e5f9e8d2ec"
      },
      "source": [
        "#属性を定義して引数の値で設定\n",
        "class Soldier:\n",
        "#コンストラクタ\n",
        "    def __init__(self,name,hp,ap,dp):\n",
        "        self.name=name\n",
        "        self.hp=hp\n",
        "        self.ap=ap\n",
        "        self.dp=dp\n",
        "#攻撃する        \n",
        "    def attack(self):\n",
        "        return self.ap\n",
        "#傷つく   \n",
        "    def hurt(self,attacked):\n",
        "        self.hp = self.hp - (attacked - self.dp)\n",
        "        \n",
        "    @classmethod\n",
        "    def ns(cls,name,hp,ap,dp):\n",
        "        cls.name = name + \"クラスメソッド\"\n",
        "        cls.hp = hp\n",
        "        cls.ap = ap\n",
        "        cls.dp = dp\n",
        "        return cls\n",
        "        \n",
        "#インスタンスの生成\n",
        "sol1= Soldier('山口　秀吉 ',120,100,80)\n",
        "\n",
        "#インスタンスの参照\n",
        "print('---------参照--------')\n",
        "print(sol1.name)\n",
        "print(sol1.hp)\n",
        "print(sol1.ap)\n",
        "print(sol1.dp)\n",
        "print('---------代入--------')\n",
        "#インスタンスの代入\n",
        "sol1.name = '北山　健'\n",
        "print(sol1.name)\n",
        "print('---------メソッド呼び出し--------')\n",
        "print(sol1.attack())\n",
        "sol1.hurt(100)#これでHPが20減った(受けた攻撃100-防御80)\n",
        "print(sol1.hp)\n",
        "\n",
        "s1 = Soldier.ns('ss',1,1,1)\n",
        "print(s1.name)"
      ],
      "execution_count": 86,
      "outputs": [
        {
          "output_type": "stream",
          "text": [
            "---------参照--------\n",
            "山口　秀吉 \n",
            "120\n",
            "100\n",
            "80\n",
            "---------代入--------\n",
            "北山　健\n",
            "---------メソッド呼び出し--------\n",
            "100\n",
            "100\n",
            "ssクラスメソッド\n"
          ],
          "name": "stdout"
        }
      ]
    },
    {
      "cell_type": "code",
      "metadata": {
        "colab": {
          "base_uri": "https://localhost:8080/"
        },
        "id": "oqJ1dzKAIfO7",
        "outputId": "a580901c-1c72-4878-efdd-73b0106a5a6b"
      },
      "source": [
        "# クラスメソッド\n",
        "class Tax:\n",
        "#クラス属性\n",
        "    rate = 0.08\n",
        "    #クラス属性の作成\n",
        "    @classmethod\n",
        "    def calcTax(cls,price):\n",
        "        return int(price + (price * cls.rate))\n",
        "#  クラスメソッドの呼び出し\n",
        "print(Tax.calcTax(100))"
      ],
      "execution_count": 87,
      "outputs": [
        {
          "output_type": "stream",
          "text": [
            "108\n"
          ],
          "name": "stdout"
        }
      ]
    },
    {
      "cell_type": "code",
      "metadata": {
        "id": "UI2HS_XkIjM6",
        "colab": {
          "base_uri": "https://localhost:8080/"
        },
        "outputId": "e047bac6-0425-4e8e-bd09-ac8509615547"
      },
      "source": [
        "class Math:\n",
        "    a = 2\n",
        "    #スタティックメソッド作成\n",
        "    @staticmethod\n",
        "    def plus(x,y):\n",
        "        return x+y\n",
        "    #スタティックメソッド作成\n",
        "    @staticmethod\n",
        "    def minus(x,y):\n",
        "        return x-y\n",
        "    \n",
        "    @staticmethod\n",
        "    def abcd(x):\n",
        "        a = x\n",
        "    \n",
        "print(Math.plus(1,2))\n",
        "print(Math.minus(1,2))\n"
      ],
      "execution_count": 88,
      "outputs": [
        {
          "output_type": "stream",
          "text": [
            "3\n",
            "-1\n"
          ],
          "name": "stdout"
        }
      ]
    }
  ]
}