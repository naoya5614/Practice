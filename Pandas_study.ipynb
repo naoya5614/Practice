{
  "nbformat": 4,
  "nbformat_minor": 0,
  "metadata": {
    "colab": {
      "name": "Pandas_study.ipynb",
      "provenance": [],
      "collapsed_sections": [
        "UCuDM6_IGL14",
        "ObCEgqCjv4Xe",
        "P5LY8cbDx9kM",
        "o8mZecMqv4U5",
        "_HhguwQ4vwKn",
        "pBnWCFfdv4Zu",
        "UDE2EKBUv4cK",
        "nBeLGcUHv4l2",
        "DnQnEaz1v4oK",
        "wvcVyOIhv4qe"
      ],
      "toc_visible": true,
      "authorship_tag": "ABX9TyO2AD4MniBubZqXXrM0R/jt"
    },
    "kernelspec": {
      "name": "python3",
      "display_name": "Python 3"
    },
    "language_info": {
      "name": "python"
    }
  },
  "cells": [
    {
      "cell_type": "markdown",
      "metadata": {
        "id": "ZcQMpaJ5vAYt"
      },
      "source": [
        "# Pandasデータ分析"
      ]
    },
    {
      "cell_type": "markdown",
      "metadata": {
        "id": "VPS_O250y3Ld"
      },
      "source": [
        "## 1.初めてのpandas"
      ]
    },
    {
      "cell_type": "markdown",
      "metadata": {
        "id": "UCuDM6_IGL14"
      },
      "source": [
        "### DataFrame作成「pd.DataFrame」\n",
        "<P>df = pd.DataFrame({'カラム名1': ['値1','値2','値3'],\n",
        "<P>                     'カラム名2': ['値1','値2','値3'],\n",
        "<p>                     'カラム名3':['値1','値2','値3'],})"
      ]
    },
    {
      "cell_type": "markdown",
      "metadata": {
        "id": "ObCEgqCjv4Xe"
      },
      "source": [
        "### pandasを使ったデータ読み込み「pd.read_csv()」\n",
        "1. データ読み込み\n",
        "<p>pd.read_csv('データ名.csv')\n",
        "2. 全ての列を同一のデータ型で読み込む\n",
        "<p>df1 = pd.read_csv('hoikuen.csv',encoding='shift_jis', dtype='str')\n",
        "3. 特定の列をインデックスとして読み込む\n",
        "<p>hoikuen = pd.read_csv('hoikuen.csv',encoding='shift_jis',index_col='No.')\n",
        "4. 列名を絞って読み込む\n",
        "<p>df2 = pd.read_csv('hoikuen.csv', encoding='shift_jis',usecols=['施設名','0歳児定員','2歳児定員'])"
      ]
    },
    {
      "cell_type": "markdown",
      "metadata": {
        "id": "P5LY8cbDx9kM"
      },
      "source": [
        "### データの表示「<p>head() tail() unique() value_counts()」\n",
        "1. 先頭n行を参照する\n",
        "<p>head()\n",
        "2. 末尾n行を参照する\n",
        "<p>tail()\n",
        "3. 各列のユニークな要素のリストを表示する\n",
        "<p>unique()\n",
        "4. ユニークな要素の値とその出現回数を表示する\n",
        "<p>value_counts()\n",
        "5. 出現回数を正規化し、割合として表示する\n",
        "<p>value_counts(normalize=True)"
      ]
    },
    {
      "cell_type": "markdown",
      "metadata": {
        "id": "7stA3KGTzMBp"
      },
      "source": [
        "## 2.pandasを使ったデータ確認"
      ]
    },
    {
      "cell_type": "markdown",
      "metadata": {
        "id": "o8mZecMqv4U5"
      },
      "source": [
        "### データの基本統計量確認「len() .size .columns .shape」\n",
        "1. 読み込んだデータの行数を確認するには、len()\n",
        "<P>print(len(hoikuen.columns))\n",
        "2. 読み込んだデータの要素数を確認するには、.size\n",
        "<p>hoikuen.size\n",
        "3. 読み込んだデータの列名を取得するには、.columns\n",
        "<P>cols_list = list(hoikuen.columns)\n",
        "4. データの大きさを確認する\n",
        "<p>hoikuen.shape\n"
      ]
    },
    {
      "cell_type": "markdown",
      "metadata": {
        "id": "_HhguwQ4vwKn"
      },
      "source": [
        "### データの並び替え「sort_values() reset_index()」\n",
        "1. データの要素の値に応じてソートする\n",
        "<p>sort_values()\n",
        "2. 降順はascending=False\n",
        "<P>hoikuen.sort_values(by='4・5歳児定員',ascending=False).head(1)\n",
        "3. ソート順で新たにインデックスを振り直す　reset_index()\n",
        "<p>hoikuen.sort_values(by='合計園児定員', ascending=False).reset_index().head(3)\n",
        "<p>※drop=Trueで元々のインデックスが不要\n",
        "4. 欠損値が含まれるレコードを先頭に集約し、ソートする　na_position='first'\n",
        "<p>hoikuen.sort_values(by='0歳児定員', ascending=False,na_position='first').reset_index(drop=True).head(3)\n",
        "5. カラムを2つ選ぶ場合\n",
        "<P>hoikuen.sort_values(by=['公私区分', '合計園児定員'],ascending=[False,False]).head(1)"
      ]
    },
    {
      "cell_type": "markdown",
      "metadata": {
        "id": "pBnWCFfdv4Zu"
      },
      "source": [
        "### データの選択を行う1「df[''] type() iloc[] loc[]」\n",
        "1. 特定の列のみ取り出す\n",
        "<p>df['カラム名']\n",
        "2. 複数の列を取り出す\n",
        "<p>df[['カラム名', 'カラム名']]\n",
        "3. データの型や変数の型を取得\n",
        "<p>type(変数名)\n",
        "<p>type(df['カラム名'])\n",
        "4. 特定の行のみを位置番号を用いて、取り出す\n",
        "<p>df.iloc[行]\n",
        "5. 複数行を取り出す\n",
        "<p>df.iloc[[行１,行2]]\n",
        "6. 行の位置番号だけではなく、列の位置番号も指定する\n",
        "<p>df.iloc[[行１,行２],[列１,列２]]\n",
        "7. 特定行を列名やインデックス名を用いて取り出す\n",
        "<p>.df.loc[行]\n"
      ]
    },
    {
      "cell_type": "markdown",
      "metadata": {
        "id": "UDE2EKBUv4cK"
      },
      "source": [
        "### データの選択を行う2「df[df[''] >= ] str.contains()」\n",
        "1. 条件を指定する\n",
        "<P>df[df['カラム名'] >= 条件]\n",
        "2. 複数条件を指定する\n",
        "<p>df[(df['カラム名'] >= 条件1) & (df['カラム名'] >= 条件2)]\n",
        "3. 検索したい列に対して、ある文字列を含むデータを抽出する\n",
        "<p>df[df['カラム名'].str.contains('文字列')]"
      ]
    },
    {
      "cell_type": "markdown",
      "metadata": {
        "id": "VgnDoyLCv4ep"
      },
      "source": [
        "### データの集約の確認「groupby() agg()」\n",
        "1. 指定したカラムの値に基づいてグループ化する\n",
        "<p>df.groupby('カラム名')\n",
        "２. 複数の列に対してグループ化を行い、列の合計を取得\n",
        "<p>df.groupby(['カラム名1','カラム名2']).sum()\n",
        "3. グルーム化を行い、あるカラムの合計値や平均値を一括に算出する\n",
        "df.groupby(['カラム名1','カラム名2']).agg(['count','max', 'min', 'sum'])['統計量を出したいカラム名']"
      ]
    },
    {
      "cell_type": "markdown",
      "metadata": {
        "id": "CmdQMYwBMRNz"
      },
      "source": [
        "**【GroupByオブジェクトに対しての操作詳細】**\n",
        "<p>特定カラムの平均:groupBy(列名1).mean()\n",
        "<p>複数カラムの平均:groupBy(列名1,列名2,...).mean()\n",
        "<p>特定カラムの総和:groupBy(列名1).sum(列名1)\n",
        "<p>複数カラムの総和:groupBy(列名1,列名2,...).sum()\n",
        "<p>特定カラムの最大値:groupBy(列名1).max(列名1)\n",
        "<p>複数カラムの最大値:groupBy(列名1,列名2,...).max()\n",
        "<p>特定カラムの最小値:groupBy(列名1).min(列名1)\n",
        "<p>複数カラムの最小値:groupBy(列名1,列名2,...).min()"
      ]
    },
    {
      "cell_type": "markdown",
      "metadata": {
        "id": "zNp3YFSSv4hE"
      },
      "source": [
        "### データの要約統計量の確認「describe()」\n",
        "1. 各列ごとに平均や標準偏差、最大値、最小値、最頻値などの要約統計量を取得\n",
        "<p>df.describe()\n",
        "2. 全ての列に対して、要約統計量を算出\n",
        "<P>df.describe(include='all')\n",
        "3. 算出した要約統計量の行にアクセスする\n",
        "<p>df.describe().loc['要約統計量']\n",
        "4. 算出した要約統計量の行の要素にアクセスする\n",
        "<p>df.describe().loc['要約統計量']['要素']"
      ]
    },
    {
      "cell_type": "markdown",
      "metadata": {
        "id": "eLTdQn0ov4jd"
      },
      "source": [
        "## 3.pandasを使ったデータ操作"
      ]
    },
    {
      "cell_type": "markdown",
      "metadata": {
        "id": "nBeLGcUHv4l2"
      },
      "source": [
        "### 新しい列、行の追加「df[''] = '' loc[] = 値」\n",
        "1. スカラーの追加\n",
        "<p>df['新しいカラム名'] = '値'\n",
        "<p>df['新しいカラム名'] = ['値1','値2','値3',...]\n",
        "<p>df['新しいカラム名'] = df['カラム名１'] - df['カラム名2'] ※欠損値に気をつける\n",
        "<p>df = df.assign(新しいカラム名='値')\n",
        "2. 新規で行を追加\n",
        "<p>df.loc[新しい行] = 値\n",
        "<p>df.loc[新しい行] = [値1, '値2', '値3',...]"
      ]
    },
    {
      "cell_type": "markdown",
      "metadata": {
        "id": "DnQnEaz1v4oK"
      },
      "source": [
        "### 既存の列、行の削除とデータの修正「drop() copy()」\n",
        "1. 削除したい列名を指定し列を削除\n",
        "<P>df.drop(columns='カラム名')\n",
        "2. 元のDataFrameをコピーする\n",
        "<P>df_copy = df.copy()\n",
        "3. 削除したい列名以外のデータを作成\n",
        "<p>df_copy = df[df['カラム名']!='削除したいカラム']\n",
        "4. 列の名前を変更する\n",
        "<p>df_copy = df.rename(columns={'元のカラム名': '変更後のカラム名'})\n",
        "5. 行の削除\n",
        "<p>df_copy = df.drop(削除したい行数, axis=0)\n",
        "\n",
        "<p>※df_copy = df[[col for col in df.columns if '削除したいカラム名' not in col]]"
      ]
    },
    {
      "cell_type": "markdown",
      "metadata": {
        "id": "wvcVyOIhv4qe"
      },
      "source": [
        "### データのクレンジング「isnull() info() dropna() any() fillna() .dtypes astype()」\n",
        "1. データの欠損確認(True or False)\n",
        "<p> df.isnull()\n",
        "2. データの欠損値の合計値を取得\n",
        "<p> df.isnull().sum()\n",
        "3. データの要約を表示する(欠損値も確認可能)\n",
        "<p> df.info()\n",
        "4. 欠損値を持つレコードを削除する\n",
        "<p>df.dropna()\n",
        "5. 欠損値を持つ列が一つでもあるレコードを抽出\n",
        "<p>df.isnull().any(axis=1)\n",
        "6. 欠損値を持っているレコードの先頭５行を表示\n",
        "<p>df[df.isnull().any(axis=1)].head(5)\n",
        "7. 欠損値補完を行う\n",
        "<p>df.fillna(値)\n",
        "8. 各列のデータ型を確認\n",
        "<P>df.dtypes\n",
        "9. データ型の変更\n",
        "<p>df = df.astype({'カラム名1': 変更後のデータ型 ,\n",
        "<p>                ’カラム名2': 変更後のデータ型 ,\n",
        "<p>                ’カラム名３': 変更後のデータ型 })"
      ]
    },
    {
      "cell_type": "markdown",
      "metadata": {
        "id": "L9wakguRF5ED"
      },
      "source": [
        "### データの結合「merge() concat()」\n",
        "1. df1とdf2を、キーをキーとして内部結合\n",
        "<p>pd.merge(df1, df2, on='キー', how='inner')\n",
        "2. df1とdf3を左外部結合する\n",
        "<p>pd.merge(df1, df3, on='キー', how='left')\n",
        "3. データdf1とdf２を縦方法に連結\n",
        "<P>pd.concat([df1,df2])\n",
        "4. データdf1とdf２とdf3を縦方法に連結\n",
        "<p>pd.concat([df1,df2,df3])\n",
        "5. データdf1とdf2を横方向に結合\n",
        "<P>pd.concat([df1,df2],axis=1)"
      ]
    },
    {
      "cell_type": "markdown",
      "metadata": {
        "id": "FJtI15orMLy3"
      },
      "source": [
        "**結合の方法(how)**\n",
        "<p>inner: 内部結合。両方のデータに含まれるキーだけを残す。\n",
        "<p>left: 左外部結合。１つ目のデータのキーをすべて残す。\n",
        "<p>right: 右外部結合。2つ目のデータのキーをすべて残す。\n",
        "<p>outer: 完全外部結合。すべてのキーを残す。"
      ]
    },
    {
      "cell_type": "markdown",
      "metadata": {
        "id": "5u--FapVInpZ"
      },
      "source": [
        "## 4.pandasを使ったデータ可視化"
      ]
    },
    {
      "cell_type": "markdown",
      "metadata": {
        "id": "S8Wdx2mSItaL"
      },
      "source": [
        "### pandasでのデータ可視化「plot()」\n",
        "<p>df.plot()\n",
        "<p>plt.show()\n"
      ]
    },
    {
      "cell_type": "markdown",
      "metadata": {
        "id": "14K7wPSyMCCw"
      },
      "source": [
        "【plot()でよく使う引数】\n",
        "<p>引数y: y軸の変数指定\n",
        "<p>引数x: x軸の変数指定\n",
        "<p>引数figsize: サイズ（tuple型で指定）\n",
        "<p>引数subplots: サブプロットをするかどうか（True もしくはFalse）\n",
        "<p>引数layout: サブプロットの行数、列数の指定\n",
        "<p>引数sharex: x軸の範囲の共有可否（True もしくはFalse）\n",
        "<p>引数sharey: y軸の範囲の共有可否（True もしくはFalse）\n",
        "<p>引数title: グラフタイトル\n",
        "<p>引数grid: グリッドの有無（True もしくはFalse）\n",
        "<p>引数colormap: 色（色の名前もしくはカラーコードを指定）\n",
        "<p>引数legend: 凡例の有無（True もしくはFalse）\n",
        "<p>引数alpha: 透過率（0〜1で1が濃く、0が薄い）"
      ]
    },
    {
      "cell_type": "markdown",
      "metadata": {
        "id": "bXV4A7d2KlUF"
      },
      "source": [
        "### pandasを使ってのヒストグラム作成「hist()」\n",
        "1. ヒストグラムを表示\n",
        "<p>df.hist()\n",
        "<p>plt.show()\n",
        "2. グラフの重なりがないようにヒストグラムを表示\n",
        "<P>df.hist()\n",
        "<p>plt.tight_layout()\n",
        "<p>plt.show()\n",
        "\n"
      ]
    },
    {
      "cell_type": "markdown",
      "metadata": {
        "id": "qP2T7760L5DK"
      },
      "source": [
        "**【plt.でよく使うグラフ装飾方法】**\n",
        "<p>plt.title('グラフタイトル'):グラフタイトルの追加\n",
        "<p>plt.xlabel('X軸ラベル'): X軸ラベルの追加\n",
        "<p>plt.ylabel('Y軸ラベル'): Y軸ラベルの追加\n",
        "<p>plt.xlim(Xの最小値, Xの最大値): X軸の表示範囲\n",
        "<p>plt.ylim(Yの最小値, Yの最大値): Y軸の表示範囲\n",
        "<p>plt.grid(): 罫線の追加（True もしくはFalse）\n",
        "<p>plt.legend(): 凡例の追加\n",
        "<p>plt.tight_layout(): グラフの重なりがないようなプロット"
      ]
    },
    {
      "cell_type": "markdown",
      "metadata": {
        "id": "FU06BysVKlYA"
      },
      "source": [
        "**【.histでよく使う引数】**\n",
        "<p>引数ax: 複数のデータフレームから生成したヒストグラムを重ねて作画する\n",
        "<p>引数by: ラベルを元にヒストグラムを作成する\n",
        "<p>引数grid: グリッドの有無（True もしくはFalse）\n",
        "<p>引数xlabelsize: x軸ラベルの文字サイズ\n",
        "<p>引数xrot: x軸ラベルの傾き具合（xrot=90は、時計回りに90度回転したxラベルを表示します）\n",
        "<p>引数ylabelsize: y軸ラベルの文字サイズ\n",
        "<p>引数yrot: y軸ラベルの傾き具合（yrot=90は、時計回りに90度回転したyラベルを表示します）\n",
        "<p>引数sharex: x軸の範囲の共有可否（True もしくはFalse）\n",
        "<p>引数sharey: y軸の範囲の共有可否（True もしくはFalse）\n",
        "<p>引数figsize: グラフのサイズ(tuple型で指定)\n",
        "<p>引数bins: 基数の数(デフォルトは10)\n",
        "<p>引数layout: 複数のヒストグラムのレイアウトを指定\n",
        "<p>引数edgecolor: 枠線の色（色の名前もしくはカラーコードを指定）"
      ]
    },
    {
      "cell_type": "markdown",
      "metadata": {
        "id": "o1b0nfj3Klct"
      },
      "source": [
        "### pandasを使っての棒グラフ作成「plot.bar() plot.barh」\n",
        "1. 垂直棒グラフ\n",
        "<P>plot.bar()\n",
        "<p>plt.show()\n",
        "2. 水平棒グラフ\n",
        "<p>plot.barh()\n",
        "<p>plt.show()"
      ]
    },
    {
      "cell_type": "markdown",
      "metadata": {
        "id": "nTmHNObYTSBn"
      },
      "source": [
        "## 5.その他\n",
        "\n",
        "```\n",
        "# カラム内の特定の値を表示し、それ以外の場合はNaNを返す\n",
        "df['カラム名'].where(df['カラム名'] == '値')\n",
        "\n",
        "# カラム内に特定の値がない行を指定の値に置き換える\n",
        "df['カラム名'].where((df['カラム名'] % 2 == 0) & (df['カラム名'] < 0), df['カラム名'] * 100, inplace=True)\n",
        "\n",
        "# whereの反対に特定の値以外を表示し、特定の値はNaNを返す\n",
        "df['カラム名'].mask(df['カラム名'] == '値')\n",
        "\n",
        "# カラム内に特定の値がある行を指定の値に置き換える\n",
        "df['カラム名'].mask(df['カラム名'] % 2 != 0, df['カラム名'] * 10, inplace=True)\n",
        "\n",
        "# dfにdf2を横軸に追加(行数はそのまま)\n",
        "df.append(df2, ignore_index=True,)\n",
        "\n",
        "# 重複チェックし、重複している場合は最初の行を残す\n",
        "df_fillna = df_fillna.drop_duplicates()\n",
        "\n",
        "# one-hotエンコーディング\n",
        "pd.get_dummies(df[\"カラム名\"])\n",
        "\n",
        "# 離散化\n",
        "df[\"カラム名\"] = pd.cut(df[\"カラム名\"], bins=区切る数, right=False)\n",
        "\n",
        "# 性別がFを女性、Mを男性に置換\n",
        "df.replace({\"F\": \"女性\", \"M\": \"男性\"}, inplace=True)\n",
        "\n",
        "# 直前の値で埋める\n",
        "df.replace(None, method=\"ffill\")\n",
        "\n",
        "# 66歳以上を65歳に丸める場合\n",
        "df[\"age_mask\"] = df.age.mask(df.age >= 66, 65)\n",
        "\n",
        "# 25歳以上を残し、それ以外は25歳に丸める場合\n",
        "df[\"age_where\"] = df.age.where(df.age >= 25, 25)\n",
        "\n",
        "# データフレーム化\n",
        "df = pd.DataFrame(x)\n",
        "\n",
        "df.index\n",
        "\n",
        "df.単価 >= 150\n",
        "\n",
        "# 引数に渡したリストに含まれるかどうか\n",
        "df[df.商品.isin([\"じゃがいも\", \"パセリ\"])]\n",
        "\n",
        "# datetimeへ型変換\n",
        "df[\"datetime\"] = pd.to_datetime(df.datetime, format=\"%Y/%m/%d %H:%M:%S\")\n",
        "\n",
        "# dtで年月日、曜日などを抽出　strftime()で任意のフォーマットの文字列に変換\n",
        "df[\"date\"] = df.datetime.dt.strftime(\"%Y/%m/%d\")\n",
        "\n",
        "df.datetime.dt.month\n",
        "\n",
        "# offsetsオブジェクトは時間を遅らせたり進めたりできる\n",
        "df.datetime += pd.offsets.Hour(6)\n",
        "\n",
        "# リサンプリング\n",
        "df.resample(\"W\", on=\"datetime\").last()\n",
        "\n",
        "# datetime列をindex列に設定\n",
        "df.set_index(\"datetime\", inplace=True)\n",
        "\n",
        "# 1時間ごとにリサンプリングし、欠損値は直前のサンプリング点の値で埋める\n",
        "df.resample(\"H\").ffill()\n",
        "\n",
        "# 1時間ごとに2次スプライン補間でリサンプリング\n",
        "df.resample(\"H\").interpolate(method=\"quadratic\")\n",
        "```"
      ]
    }
  ]
}