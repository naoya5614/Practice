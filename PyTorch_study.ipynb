{
  "nbformat": 4,
  "nbformat_minor": 0,
  "metadata": {
    "colab": {
      "name": "PyTorch_study.ipynb",
      "provenance": [],
      "toc_visible": true,
      "authorship_tag": "ABX9TyOMt42GbOi9iJgNmxCL8ah0"
    },
    "kernelspec": {
      "name": "python3",
      "display_name": "Python 3"
    },
    "language_info": {
      "name": "python"
    }
  },
  "cells": [
    {
      "cell_type": "markdown",
      "metadata": {
        "id": "wCt1TRCaDwRf"
      },
      "source": [
        "# PYTorch基礎"
      ]
    },
    {
      "cell_type": "markdown",
      "metadata": {
        "id": "HYDrXSmND432"
      },
      "source": [
        "## 1.Tensor(テンソル)"
      ]
    },
    {
      "cell_type": "markdown",
      "metadata": {
        "id": "q-IoNF6IEbbo"
      },
      "source": [
        "### (1) Tensorの生成と変換"
      ]
    },
    {
      "cell_type": "markdown",
      "metadata": {
        "id": "IGcOUSA7FN15"
      },
      "source": [
        "\n",
        "\n",
        "```\n",
        "# ライブラリをインポート\n",
        "import torch\n",
        "```\n",
        "\n",
        "```\n",
        "# データ型を指定してテンソルを作成\n",
        "data = [1, 2, 3]\n",
        "ts_data = torch.tensor(data,dtype=torch.float64)\n",
        "```\n",
        "\n",
        "\n",
        "```\n",
        "# 0から9の1次元テンソルの生成\n",
        "ts_x = torch.arange(0, 10)\n",
        "# テンソルをndarrayに変換\n",
        "np_x = ts_x.numpy()  \n",
        "```\n",
        "\n",
        "```\n",
        "# 0から9の1次元ndarrayの生成\n",
        "np_x = np.arange(0, 10)\n",
        "# ndarrayをテンソルに変換\n",
        "ts_x = torch.from_numpy(np_x)\n",
        "```\n",
        "\n",
        "\n",
        "\n",
        "\n"
      ]
    },
    {
      "cell_type": "code",
      "metadata": {
        "colab": {
          "base_uri": "https://localhost:8080/"
        },
        "id": "Xf--GrXZEPp1",
        "outputId": "1e729dcb-566e-41b7-a07a-ba3afe180a25"
      },
      "source": [
        "# ライブラリの読み込み\n",
        "import torch\n",
        "import numpy as np\n",
        "\n",
        "np_y = np.ones([5,3])\n",
        "\n",
        "# テンソル化\n",
        "ts_y = torch.tensor(np_y)\n",
        "\n",
        "# Q1\n",
        "print(ts_y)"
      ],
      "execution_count": null,
      "outputs": [
        {
          "output_type": "stream",
          "text": [
            "tensor([[1., 1., 1.],\n",
            "        [1., 1., 1.],\n",
            "        [1., 1., 1.],\n",
            "        [1., 1., 1.],\n",
            "        [1., 1., 1.]], dtype=torch.float64)\n"
          ],
          "name": "stdout"
        }
      ]
    },
    {
      "cell_type": "markdown",
      "metadata": {
        "id": "4q2-w29vGgY_"
      },
      "source": [
        "### (2)Tensorの操作"
      ]
    },
    {
      "cell_type": "markdown",
      "metadata": {
        "id": "Pp9uL4ipGmsW"
      },
      "source": [
        "```\n",
        "# テンソルのサイズを確認\n",
        "ts.size()\n",
        "```\n",
        "\n",
        "```\n",
        "# 単一の値（=スカラー値）を取り出す\n",
        "ts[0][0].item()\n",
        "```\n",
        "\n",
        "\n"
      ]
    },
    {
      "cell_type": "code",
      "metadata": {
        "colab": {
          "base_uri": "https://localhost:8080/"
        },
        "id": "n8I0FB9cHbZo",
        "outputId": "02b26167-6d8d-425f-8a83-7f32ac5e3414"
      },
      "source": [
        "# ライブラリの読み込み\n",
        "import torch\n",
        "\n",
        "data = [[[1, 2, 3],[4, 5, 6]],[[7, 8, 9],[10, 11, 12]]]\n",
        "\n",
        "# テンソル化\n",
        "ts_data = torch.tensor(data)\n",
        "\n",
        "# Q1\n",
        "print(ts_data.size())"
      ],
      "execution_count": null,
      "outputs": [
        {
          "output_type": "stream",
          "text": [
            "torch.Size([2, 2, 3])\n"
          ],
          "name": "stdout"
        }
      ]
    },
    {
      "cell_type": "markdown",
      "metadata": {
        "id": "SQsQif5kHjhu"
      },
      "source": [
        "### (3)Tensorの演算処理【四則演算】"
      ]
    },
    {
      "cell_type": "markdown",
      "metadata": {
        "id": "fCGVVXZbHnLN"
      },
      "source": [
        "演算処理を行う時の注意\n",
        "\n",
        "```\n",
        "1. 四則演算はTensor同士かTensorとPythonのスカラーの数値との間でのみ可能であること\n",
        "2. Tensor同士の演算処理は同じ型である必要があること\n",
        "```\n",
        "\n",
        "\n",
        "```\n",
        "# 四則演算\n",
        "data*10\n",
        "data１*data2\n",
        "```\n",
        "\n",
        "\n",
        "\n"
      ]
    },
    {
      "cell_type": "code",
      "metadata": {
        "colab": {
          "base_uri": "https://localhost:8080/"
        },
        "id": "zKEjRXyvEPtX",
        "outputId": "235f8432-8731-401e-b3f8-b8b666678843"
      },
      "source": [
        "# ライブラリの読み込み\n",
        "import torch\n",
        "\n",
        "ts_data = torch.tensor([[1, 2, 3],[4, 5, 6]])\n",
        "ts_data1 = torch.tensor([[10, 20, 30],[40, 50, 60]]) \n",
        "\n",
        "# テンソル同士の引き算\n",
        "ts_x = ts_data - ts_data1\n",
        "\n",
        "# Q1\n",
        "print(ts_x)"
      ],
      "execution_count": null,
      "outputs": [
        {
          "output_type": "stream",
          "text": [
            "tensor([[ -9, -18, -27],\n",
            "        [-36, -45, -54]])\n"
          ],
          "name": "stdout"
        }
      ]
    },
    {
      "cell_type": "markdown",
      "metadata": {
        "id": "63E6RMwfIcOG"
      },
      "source": [
        "### (4)Tensorの演算処理【数学関数】"
      ]
    },
    {
      "cell_type": "markdown",
      "metadata": {
        "id": "0LwRftLOIsrv"
      },
      "source": [
        "\n",
        "\n",
        "```\n",
        "torch.abs()\t#絶対値\n",
        "torch.mean()\t#平均値\n",
        "torch.std()\t#標準偏差\n",
        "```\n",
        "\n",
        "\n",
        "\n",
        "```\n",
        "# 次元の変更 2×3→3×2\n",
        "data.view(3, 2)\n",
        "```\n",
        "\n",
        "```\n",
        "# 1次元に変更する\n",
        "data.view(-1)\n",
        "```\n",
        "\n",
        "\n"
      ]
    },
    {
      "cell_type": "code",
      "metadata": {
        "colab": {
          "base_uri": "https://localhost:8080/"
        },
        "id": "Yhqkkd-TEPwW",
        "outputId": "2dd6782e-4c60-4d76-942f-6bc8966add89"
      },
      "source": [
        "# ライブラリのインポート\n",
        "import torch\n",
        "\n",
        "# テンソルの生成\n",
        "ts_sample = torch.tensor([[1,2,3],[-4,-5,-6]],dtype=float)\n",
        "\n",
        "# Q1\n",
        "print(torch.abs(ts_sample))\n",
        "\n",
        "# Q2\n",
        "print(torch.std(ts_sample))"
      ],
      "execution_count": null,
      "outputs": [
        {
          "output_type": "stream",
          "text": [
            "tensor([[1., 2., 3.],\n",
            "        [4., 5., 6.]], dtype=torch.float64)\n",
            "tensor(3.9370, dtype=torch.float64)\n"
          ],
          "name": "stdout"
        }
      ]
    },
    {
      "cell_type": "markdown",
      "metadata": {
        "id": "Ux443YvlJyae"
      },
      "source": [
        "### (5)GPUの利用"
      ]
    },
    {
      "cell_type": "markdown",
      "metadata": {
        "id": "3b1Oqt6rJ1JL"
      },
      "source": [
        "\n",
        "\n",
        "```\n",
        "# PU使用可能環境であるかの確認\n",
        "import torch\n",
        "print(torch.cuda.is_available())\n",
        "```\n",
        "\n",
        "```\n",
        "#計算デバイスを使い分ける(下記の関数の引数)\n",
        "CPUのみしか計算デバイスがない場合は、device = 'CPU'\n",
        "GPU1台目に計算をさせたい場合は、device = 'cuda:0'\n",
        "GPU2台を並列で計算をさせたい場合は、device = 'cuda:0' もしくは、device = 'cuda:1' を使い分け\n",
        "```\n",
        "\n",
        "```\n",
        "# GPU1台目にテンソルの計算をさせる例\n",
        "torch.tensor([[1, 2], [3, 4.]], device=\"cuda:0\")\n",
        "```\n",
        "\n",
        "\n",
        "\n",
        "\n",
        "\n"
      ]
    },
    {
      "cell_type": "markdown",
      "metadata": {
        "id": "4DkNXDVTD47O"
      },
      "source": [
        "## 2.Autograd(自動微分)"
      ]
    },
    {
      "cell_type": "markdown",
      "metadata": {
        "id": "Tyg9zNmNK98s"
      },
      "source": [
        "### (1)自動微分の基本的概念"
      ]
    },
    {
      "cell_type": "markdown",
      "metadata": {
        "id": "KnE_7n2SLEM5"
      },
      "source": [
        "【回帰問題や分類問題を解く流れ】\n",
        "\n",
        "```\n",
        "1.予測器となる関数をモデル化（DNN、CNN、RNN、etc...）\n",
        "2.予測結果を評価するための損失関数を定義（BCE、MSE、CE、etc...）\n",
        "3.勾配法によって損失を最小化\n",
        "    ・ 勾配を計算（backpropagation）\n",
        "    ・ パラメータを更新（SGD、Adamなど）\n",
        "```\n",
        "\n"
      ]
    },
    {
      "cell_type": "markdown",
      "metadata": {
        "id": "D4ySfnHyLion"
      },
      "source": [
        "### (2)自動微分の実施新しいセクション"
      ]
    },
    {
      "cell_type": "markdown",
      "metadata": {
        "id": "pYsxE_pjL0gD"
      },
      "source": [
        "\n",
        "\n",
        "```\n",
        "# 自動微分を可能にする(requires_grad=True)\n",
        "data = torch.tensor(1.0, requires_grad=True ,dtype=float)\n",
        "```\n",
        "勾配計算\n",
        "\n",
        "```\n",
        "# テンソルをrequires_grad=Trueで生成\n",
        "x = torch.tensor(2.0, requires_grad=True,dtype=float)\n",
        "# 計算グラフを定義\n",
        "y = x ** 3\n",
        "# 勾配を計算\n",
        "y.backward()\n",
        "# 勾配を表示\n",
        "print(x.grad)\n",
        "```\n",
        "勾配計算(三角関数)\n",
        "```\n",
        "# テンソルをrequires_grad=Trueで生成\n",
        "x = torch.tensor(np.pi, requires_grad=True,dtype=float)\n",
        "# 計算グラフを定義\n",
        "y = torch.sin(x)\n",
        "# 勾配を計算\n",
        "y.backward()\n",
        "# 勾配を表示\n",
        "print(x.grad)\n",
        "```\n",
        "勾配計算(偏微分)\n",
        "\n",
        "\n",
        "```\n",
        "# テンソルをrequires_grad=Trueで生成\n",
        "x = torch.tensor(1.0, requires_grad=True,dtype=float)\n",
        "y = torch.tensor(2.0, requires_grad=True,dtype=float)\n",
        "# 計算グラフを定義\n",
        "z = (x + 5 * y) ** 2\n",
        "# 勾配を計算\n",
        "z.backward()\n",
        "# 勾配を表示\n",
        "print(x.grad)\n",
        "print(y.grad)\n",
        "```\n",
        "\n",
        "\n",
        "\n",
        "\n",
        "\n"
      ]
    },
    {
      "cell_type": "code",
      "metadata": {
        "colab": {
          "base_uri": "https://localhost:8080/"
        },
        "id": "nkjP9u6WEQRZ",
        "outputId": "3931ce7b-2b99-48a4-8e11-09c931b5e1a5"
      },
      "source": [
        "# ライブラリの読み込み\n",
        "import torch\n",
        "\n",
        "# テンソルをrequires_grad=Trueで生成\n",
        "x = torch.tensor(1.0, requires_grad=True, dtype=float)\n",
        "y = torch.tensor(2.0, requires_grad=True, dtype=float)\n",
        "\n",
        "# 計算グラフを定義\n",
        "z = (5 * x + y) ** 3\n",
        "\n",
        "# 勾配を計算\n",
        "z.backward()\n",
        "\n",
        "# yの勾配を表示\n",
        "print(y.grad)"
      ],
      "execution_count": null,
      "outputs": [
        {
          "output_type": "stream",
          "text": [
            "tensor(147., dtype=torch.float64)\n"
          ],
          "name": "stdout"
        }
      ]
    },
    {
      "cell_type": "markdown",
      "metadata": {
        "id": "dU_pv4pjD4-N"
      },
      "source": [
        "## 3.ニューラルネットの作成(IrisNet)"
      ]
    },
    {
      "cell_type": "markdown",
      "metadata": {
        "id": "NNsstTKaOm9-"
      },
      "source": [
        "### (1)データセットについて"
      ]
    },
    {
      "cell_type": "markdown",
      "metadata": {
        "id": "2-8FPCDdOqxs"
      },
      "source": [
        "Irisデータの読み込み\n",
        "```\n",
        "import pandas as pd\n",
        "from sklearn.datasets import load_iris\n",
        "iris = load_iris()\n",
        "df_iris = pd.DataFrame(iris.data, columns=iris.feature_names)\n",
        "df_iris['target'] = iris.target\n",
        "df_iris.loc[df_iris['target'] == 0, 'target'] = \"setosa\"\n",
        "df_iris.loc[df_iris['target'] == 1, 'target'] = \"versicolor\"\n",
        "df_iris.loc[df_iris['target'] == 2, 'target'] = \"virginica\"\n",
        "```\n",
        "**Irisのデータセット詳細**\n",
        "```\n",
        "全データ:150行、5列\n",
        "sepal length (cm):がく片の長さ\n",
        "sepal width (cm):幅の長さ\n",
        "petal length (cm):花弁の長さ\n",
        "petal width (cm):幅の長さ\n",
        "target:花の種類（setosa,versicolor,virginica）\n",
        "```\n",
        "\n",
        "\n",
        "\n"
      ]
    },
    {
      "cell_type": "code",
      "metadata": {
        "colab": {
          "base_uri": "https://localhost:8080/"
        },
        "id": "O1PVASRlOnGt",
        "outputId": "e13b85ec-84bb-4f91-cb1c-e2d641620a76"
      },
      "source": [
        "# ライブラリのインポート\n",
        "import pandas as pd\n",
        "from sklearn.datasets import load_iris\n",
        "\n",
        "# データのロード\n",
        "iris = load_iris()\n",
        "df_iris = pd.DataFrame(iris.data, columns=iris.feature_names)\n",
        "\n",
        "# 花の種類（target）のカラムを作成\n",
        "df_iris['target'] = iris.target\n",
        "df_iris.loc[df_iris['target'] == 0, 'target'] = \"setosa\"\n",
        "df_iris.loc[df_iris['target'] == 1, 'target'] = \"versicolor\"\n",
        "df_iris.loc[df_iris['target'] == 2, 'target'] = \"virginica\"\n",
        "\n",
        "df_iris"
      ],
      "execution_count": null,
      "outputs": [
        {
          "output_type": "execute_result",
          "data": {
            "text/html": [
              "<div>\n",
              "<style scoped>\n",
              "    .dataframe tbody tr th:only-of-type {\n",
              "        vertical-align: middle;\n",
              "    }\n",
              "\n",
              "    .dataframe tbody tr th {\n",
              "        vertical-align: top;\n",
              "    }\n",
              "\n",
              "    .dataframe thead th {\n",
              "        text-align: right;\n",
              "    }\n",
              "</style>\n",
              "<table border=\"1\" class=\"dataframe\">\n",
              "  <thead>\n",
              "    <tr style=\"text-align: right;\">\n",
              "      <th></th>\n",
              "      <th>sepal length (cm)</th>\n",
              "      <th>sepal width (cm)</th>\n",
              "      <th>petal length (cm)</th>\n",
              "      <th>petal width (cm)</th>\n",
              "      <th>target</th>\n",
              "    </tr>\n",
              "  </thead>\n",
              "  <tbody>\n",
              "    <tr>\n",
              "      <th>0</th>\n",
              "      <td>5.1</td>\n",
              "      <td>3.5</td>\n",
              "      <td>1.4</td>\n",
              "      <td>0.2</td>\n",
              "      <td>setosa</td>\n",
              "    </tr>\n",
              "    <tr>\n",
              "      <th>1</th>\n",
              "      <td>4.9</td>\n",
              "      <td>3.0</td>\n",
              "      <td>1.4</td>\n",
              "      <td>0.2</td>\n",
              "      <td>setosa</td>\n",
              "    </tr>\n",
              "    <tr>\n",
              "      <th>2</th>\n",
              "      <td>4.7</td>\n",
              "      <td>3.2</td>\n",
              "      <td>1.3</td>\n",
              "      <td>0.2</td>\n",
              "      <td>setosa</td>\n",
              "    </tr>\n",
              "    <tr>\n",
              "      <th>3</th>\n",
              "      <td>4.6</td>\n",
              "      <td>3.1</td>\n",
              "      <td>1.5</td>\n",
              "      <td>0.2</td>\n",
              "      <td>setosa</td>\n",
              "    </tr>\n",
              "    <tr>\n",
              "      <th>4</th>\n",
              "      <td>5.0</td>\n",
              "      <td>3.6</td>\n",
              "      <td>1.4</td>\n",
              "      <td>0.2</td>\n",
              "      <td>setosa</td>\n",
              "    </tr>\n",
              "    <tr>\n",
              "      <th>...</th>\n",
              "      <td>...</td>\n",
              "      <td>...</td>\n",
              "      <td>...</td>\n",
              "      <td>...</td>\n",
              "      <td>...</td>\n",
              "    </tr>\n",
              "    <tr>\n",
              "      <th>145</th>\n",
              "      <td>6.7</td>\n",
              "      <td>3.0</td>\n",
              "      <td>5.2</td>\n",
              "      <td>2.3</td>\n",
              "      <td>virginica</td>\n",
              "    </tr>\n",
              "    <tr>\n",
              "      <th>146</th>\n",
              "      <td>6.3</td>\n",
              "      <td>2.5</td>\n",
              "      <td>5.0</td>\n",
              "      <td>1.9</td>\n",
              "      <td>virginica</td>\n",
              "    </tr>\n",
              "    <tr>\n",
              "      <th>147</th>\n",
              "      <td>6.5</td>\n",
              "      <td>3.0</td>\n",
              "      <td>5.2</td>\n",
              "      <td>2.0</td>\n",
              "      <td>virginica</td>\n",
              "    </tr>\n",
              "    <tr>\n",
              "      <th>148</th>\n",
              "      <td>6.2</td>\n",
              "      <td>3.4</td>\n",
              "      <td>5.4</td>\n",
              "      <td>2.3</td>\n",
              "      <td>virginica</td>\n",
              "    </tr>\n",
              "    <tr>\n",
              "      <th>149</th>\n",
              "      <td>5.9</td>\n",
              "      <td>3.0</td>\n",
              "      <td>5.1</td>\n",
              "      <td>1.8</td>\n",
              "      <td>virginica</td>\n",
              "    </tr>\n",
              "  </tbody>\n",
              "</table>\n",
              "<p>150 rows × 5 columns</p>\n",
              "</div>"
            ],
            "text/plain": [
              "     sepal length (cm)  sepal width (cm)  ...  petal width (cm)     target\n",
              "0                  5.1               3.5  ...               0.2     setosa\n",
              "1                  4.9               3.0  ...               0.2     setosa\n",
              "2                  4.7               3.2  ...               0.2     setosa\n",
              "3                  4.6               3.1  ...               0.2     setosa\n",
              "4                  5.0               3.6  ...               0.2     setosa\n",
              "..                 ...               ...  ...               ...        ...\n",
              "145                6.7               3.0  ...               2.3  virginica\n",
              "146                6.3               2.5  ...               1.9  virginica\n",
              "147                6.5               3.0  ...               2.0  virginica\n",
              "148                6.2               3.4  ...               2.3  virginica\n",
              "149                5.9               3.0  ...               1.8  virginica\n",
              "\n",
              "[150 rows x 5 columns]"
            ]
          },
          "metadata": {
            "tags": []
          },
          "execution_count": 8
        }
      ]
    },
    {
      "cell_type": "markdown",
      "metadata": {
        "id": "0A2AOySyPsoO"
      },
      "source": [
        "### (2)ネットワークの定義1"
      ]
    },
    {
      "cell_type": "markdown",
      "metadata": {
        "id": "tQ6ODJmvP4es"
      },
      "source": [
        "\n",
        "**【ネットワーク詳細】**\n",
        "```\n",
        "input:4種\n",
        "隠れ層1のノード:12個\n",
        "隠れ層2のノード:8個\n",
        "output:3種\n",
        "```\n",
        "**【上記のネットワークのプログラム】**\n",
        "```\n",
        "#0\n",
        "import torch.nn as nn\n",
        "import torch.nn.functional as F\n",
        "\n",
        "#1\n",
        "class Net(nn.Module):\n",
        "    #2\n",
        "    def __init__(self):\n",
        "        super(Net, self).__init__()\n",
        "        self.fc1 = nn.Linear(4, 12)\n",
        "        self.fc2 = nn.Linear(12, 8)\n",
        "        self.fc3 = nn.Linear(8, 3)\n",
        "\n",
        "    #3\n",
        "    def forward(self, x):\n",
        "        x = F.relu(self.fc1(x))\n",
        "        x = F.relu(self.fc2(x))\n",
        "        x = self.fc3(x)\n",
        "        return x\n",
        "```\n",
        "\n",
        "\n",
        "\n"
      ]
    },
    {
      "cell_type": "code",
      "metadata": {
        "id": "tvGgajTOERzL"
      },
      "source": [
        "#0\n",
        "import torch.nn as nn\n",
        "import torch.nn.functional as F\n",
        "\n",
        "#1\n",
        "class Net(nn.Module):\n",
        "    #2\n",
        "    def __init__(self):\n",
        "        super(Net, self).__init__()\n",
        "        self.fc1 = nn.Linear(4, 12)\n",
        "        self.fc2 = nn.Linear(12, 8)\n",
        "        self.fc3 = nn.Linear(8, 3)\n",
        "\n",
        "    #3\n",
        "    def forward(self, x):\n",
        "        x = F.relu(self.fc1(x))\n",
        "        x = F.relu(self.fc2(x))\n",
        "        x = self.fc3(x)\n",
        "        return x"
      ],
      "execution_count": null,
      "outputs": []
    },
    {
      "cell_type": "markdown",
      "metadata": {
        "id": "xJuxBbq6Q0DY"
      },
      "source": [
        "### (3)ネットワークの定義2"
      ]
    },
    {
      "cell_type": "markdown",
      "metadata": {
        "id": "gcMSqMJ6Q0IY"
      },
      "source": [
        "**【PyTorchを使ったニューラルネットの定義方法】**\n",
        "```\n",
        "1.ライブラリのインポート\n",
        "2.classとしてネットワークを作成\n",
        "3.init関数の定義\n",
        "4.forward関数の定義\n",
        "```\n",
        "**【1.ライブラリのインポート】**\n",
        "```\n",
        "torch.nn.Moduleがすべてのニューラルネットワークモジュールの基本クラス\n",
        "torch.nn.functionalがニューラルネットワーク構成のための関数群\n",
        "```\n",
        "**【2.classとしてネットワークを作成】**\n",
        "```\n",
        "ネットワークをクラスとして設計し、そのクラス内でinit関数の定義とforward関数の定義の2種類を定義\n",
        "モデルのクラス作成時には、nn.Moduleを継承することでnn.Module内のメソッドも使うことが可能\n",
        "```\n",
        "**【3.init関数の定義】**\n",
        "```\n",
        "IrisNetのinit関数にhello iris1と表示するプログラムと、クラス内の変数testに文字列hello iris2を格納\n",
        "```\n",
        "**【4.forward関数の定義】**\n",
        "```\n",
        "線形結合はnn.Linearで表現され、nn.Linear(4,12)と書けば、4次元の入力を受け取り、12次元の出力を得る\n",
        "```\n",
        "\n",
        "\n",
        "\n"
      ]
    },
    {
      "cell_type": "code",
      "metadata": {
        "colab": {
          "base_uri": "https://localhost:8080/"
        },
        "id": "WZrvZqG2ER2D",
        "outputId": "878f4eab-598f-4c7d-f898-0f3ec582c9cd"
      },
      "source": [
        "import torch\n",
        "import torch.nn as nn\n",
        "import torch.nn.functional as F\n",
        "\n",
        "#1\n",
        "class IrisNet(nn.Module):\n",
        "\n",
        "    #2\n",
        "    def __init__(self):\n",
        "        super(IrisNet, self).__init__()\n",
        "        self.fc1 = nn.Linear(4, 12)\n",
        "        self.fc2 = nn.Linear(12, 8)\n",
        "        self.fc3 = nn.Linear(8, 4)\n",
        "        self.fc4 = nn.Linear(4, 3)\n",
        "\n",
        "\n",
        "    #3\n",
        "    def forward(self, x):\n",
        "        x = F.relu(self.fc1(x))\n",
        "        x = F.relu(self.fc2(x))\n",
        "        x = F.relu(self.fc3(x))\n",
        "        x = self.fc4(x)\n",
        "        return x\n",
        "\n",
        "# モデルのインスタンス作成\n",
        "net = IrisNet()\n",
        "\n",
        "# サンプルデータ（torch.tensor([[5.1000, 3.5000, 1.4000, 0.2000]])）を入力し、アウトプット確認\n",
        "print(net(torch.tensor([[5.1000, 3.5000, 1.4000, 0.2000]])))\n"
      ],
      "execution_count": null,
      "outputs": [
        {
          "output_type": "stream",
          "text": [
            "tensor([[ 0.0530, -0.0682, -0.0506]], grad_fn=<AddmmBackward>)\n"
          ],
          "name": "stdout"
        }
      ]
    },
    {
      "cell_type": "markdown",
      "metadata": {
        "id": "MApdNVXCUTls"
      },
      "source": [
        "### (4)ネットワークの学習準備【交差検証】"
      ]
    },
    {
      "cell_type": "markdown",
      "metadata": {
        "id": "xvOnKK8SUTtD"
      },
      "source": [
        "**【学習準備】**\n",
        "```\n",
        "1.データの検証法選定\n",
        "2.最適化手法選定\n",
        "3.loss関数の選定\n",
        "```\n",
        "**【1.データの検証法選定(今回は交差検証)】**\n",
        "```\n",
        "1. データを分割\n",
        "2. 一部のデータを使って学習\n",
        "3. 残ったデータで分析手法の精度を評価する\n",
        "4. 一部のデータの分け方を変化させ、２と３を繰り返す\n",
        "5. 複数回行ったテスト結果をもとに、分析手法の精度を評価する\n",
        "```\n",
        "**【K-分割交差検証 実装】**\n",
        "```\n",
        "from sklearn.model_selection import KFold\n",
        "\n",
        "kf = KFold(n_splits=3,shuffle=True,random_state=1993)\n",
        "for fold,(train_index, test_index) in enumerate(kf.split(iris.data, iris.target)):\n",
        "    print(\"Fold：{}\".format(fold),\"len(train_index)：{}\".format(len(train_index)), \"len(test_index)：{}\".format(len(test_index)))\n",
        "```\n",
        "\n",
        "**【K-分割交差検証 引数】**\n",
        "```\n",
        "引数n_split: データの分割数、デフォルトは3\n",
        "引数shuffle: 連続する数字のグループ分けとするか（True もしくはFalse）\n",
        "引数random_state: 乱数の設定\n",
        "```\n",
        "\n",
        "\n",
        "\n",
        "\n",
        "\n",
        "\n"
      ]
    },
    {
      "cell_type": "code",
      "metadata": {
        "colab": {
          "base_uri": "https://localhost:8080/"
        },
        "id": "ePI4MVXzUT2Y",
        "outputId": "4a4e330f-0d65-48ba-9ef1-78e5d00b5bd3"
      },
      "source": [
        "# ライブラリのインポート\n",
        "import pandas as pd\n",
        "from sklearn.model_selection import KFold\n",
        "from sklearn.datasets import load_iris\n",
        "\n",
        "# アイリスのデータのロード\n",
        "iris = load_iris()\n",
        "df_iris = pd.DataFrame(iris.data, columns=iris.feature_names)\n",
        "df_iris['target'] = iris.target\n",
        "df_iris.loc[df_iris['target'] == 0, 'target'] = \"setosa\"\n",
        "df_iris.loc[df_iris['target'] == 1, 'target'] = \"versicolor\"\n",
        "df_iris.loc[df_iris['target'] == 2, 'target'] = \"virginica\"\n",
        "\n",
        "# 交差検証（fold=3）\n",
        "kf = KFold(n_splits=3,shuffle=True,random_state=1993)\n",
        "for fold,(train_index, test_index) in enumerate(kf.split(iris.data, iris.target)):\n",
        "    print(\"Fold：{}\".format(fold),\"len(train_index)：{}\".format(len(train_index)), \"len(test_index)：{}\".format(len(test_index)))"
      ],
      "execution_count": null,
      "outputs": [
        {
          "output_type": "stream",
          "text": [
            "Fold：0 len(train_index)：100 len(test_index)：50\n",
            "Fold：1 len(train_index)：100 len(test_index)：50\n",
            "Fold：2 len(train_index)：100 len(test_index)：50\n"
          ],
          "name": "stdout"
        }
      ]
    },
    {
      "cell_type": "markdown",
      "metadata": {
        "id": "O3S3ZNalWJNL"
      },
      "source": [
        "### (5)ネットワークの学習準備【最適化手法選定】"
      ]
    },
    {
      "cell_type": "markdown",
      "metadata": {
        "id": "UumAhjoaWJQh"
      },
      "source": [
        "**【確率的勾配降下法(SGD)】**\n",
        "```\n",
        "ライブンラリのインポート\n",
        "import torch.optim as optim\n",
        "```\n",
        "**【確率的勾配降下法(SGD) 引数】**\n",
        "```\n",
        "引数params: 最適化するパラメーター\n",
        "引数lr: 学習率（float）\n",
        "引数momentum: モーメンタム（float）\n",
        "引数dampening: モーメンタムの勢い（float）\n",
        "引数weight_decay: L2ノルムの強さ（float）\n",
        "引数nesterov: momentumをモーメンタムとして適用するか\n",
        "```\n",
        "\n",
        "```\n",
        "# optimizerの勾配の初期化を行う\n",
        "optimizer.zero_grad()\n",
        "# ネットワークのパラメータの更新\n",
        "optimizer.step()\n",
        "# 学習率を0.01\n",
        "optimizer = optim.SGD(net.parameters(), lr=0.01)\n",
        "```\n",
        "\n",
        "\n"
      ]
    },
    {
      "cell_type": "code",
      "metadata": {
        "id": "aVFTHkeDWJin"
      },
      "source": [
        "# ライブラリのインポート\n",
        "import torch\n",
        "import torch.nn as nn\n",
        "import torch.nn.functional as F\n",
        "import torch.optim as optim\n",
        "\n",
        "#1\n",
        "class IrisNet(nn.Module):\n",
        "    #2\n",
        "    def __init__(self):\n",
        "        super(IrisNet, self).__init__()\n",
        "        self.fc1 = nn.Linear(4, 12)\n",
        "        self.fc2 = nn.Linear(12, 8)\n",
        "        self.fc3 = nn.Linear(8, 4)\n",
        "        self.fc4 = nn.Linear(4, 3)\n",
        "    #3\n",
        "    def forward(self, x):\n",
        "        x = F.relu(self.fc1(x))\n",
        "        x = F.relu(self.fc2(x))\n",
        "        x = F.relu(self.fc3(x))\n",
        "        x = self.fc4(x)\n",
        "        return x\n",
        "\n",
        "# モデルのインスタンス作成\n",
        "net = IrisNet()\n",
        "\n",
        "# optimizerの設定\n",
        "optimizer = optim.SGD(net.parameters(), lr=0.01)"
      ],
      "execution_count": null,
      "outputs": []
    },
    {
      "cell_type": "markdown",
      "metadata": {
        "id": "Qc6PhfjYHvdt"
      },
      "source": [
        "### (6)ネットワークの学習準備【loss関数選定】"
      ]
    },
    {
      "cell_type": "markdown",
      "metadata": {
        "id": "qTpJbduKHvaS"
      },
      "source": [
        "**代表的な損失関数**\n",
        "\n",
        "```\n",
        "1.平均二乗和誤差(Mean Squared Error: MSE)\n",
        "  回帰分析のように連続的な値をとるときには最もオーソドックスなMSEを用います\n",
        "2.交差エントロピー誤差(CrossEntropy: CE)\n",
        "  分類問題のような元々決まっているラベルに対して推測を行う際にはCEを用います\n",
        "```\n",
        "\n"
      ]
    },
    {
      "cell_type": "markdown",
      "metadata": {
        "id": "boGB8zflH816"
      },
      "source": [
        "**交差エントロピー誤差 実装**\n",
        "\n",
        "```\n",
        "import torch.nn as nn\n",
        "criterion = nn.CrossEntropyLoss()\n",
        "```\n",
        "\n"
      ]
    },
    {
      "cell_type": "markdown",
      "metadata": {
        "id": "udZnJUHrItaN"
      },
      "source": [
        "### (7)ニューラルネットワークの学習1"
      ]
    },
    {
      "cell_type": "markdown",
      "metadata": {
        "id": "OfnDox5tItkL"
      },
      "source": [
        "**定数定義**\n",
        "\n",
        "\n",
        "```\n",
        "FOLD = 3\n",
        "IS_SHUFFLE = True\n",
        "SEED = 1234\n",
        "EPOCH = 10\n",
        "LEARNING_LATE = 0.01\n",
        "```\n",
        "\n"
      ]
    },
    {
      "cell_type": "markdown",
      "metadata": {
        "id": "l4URu2jkIt_n"
      },
      "source": [
        "**データの準備**\n",
        "\n",
        "\n",
        "```\n",
        "#  アイリスデータロード\n",
        "iris = datasets.load_iris()\n",
        "\n",
        "X_train = iris.data\n",
        "y_train = iris.target\n",
        "x = torch.tensor(X_train,dtype = torch.float)\n",
        "y = torch.tensor(y_train)\n",
        "net = IrisNet()\n",
        "```\n",
        "\n"
      ]
    },
    {
      "cell_type": "markdown",
      "metadata": {
        "id": "-B55-MTeKAgC"
      },
      "source": [
        "**学習**\n",
        "\n",
        "\n",
        "```\n",
        "for i in range(EPOCH):\n",
        "    # 勾配初期化\n",
        "    optimizer.zero_grad()\n",
        "    output = net(x)\n",
        "\n",
        "    # loss算出\n",
        "    loss = criterion(output, y)\n",
        "    loss.backward()\n",
        "    optimizer.step()\n",
        "    print('epoch: {},'.format(i) + 'loss: {:.10f}'.format(loss))\n",
        "```\n",
        "\n"
      ]
    },
    {
      "cell_type": "code",
      "metadata": {
        "colab": {
          "base_uri": "https://localhost:8080/"
        },
        "id": "TT93e6AVKhDe",
        "outputId": "536d244d-edd1-44f8-8c12-924e0eeefb2a"
      },
      "source": [
        "# ライブラリのインポート\n",
        "import torch\n",
        "import torch.nn as nn\n",
        "import torch.nn.functional as F\n",
        "import torch.optim as optim\n",
        "import numpy as np\n",
        "from sklearn import datasets\n",
        "\n",
        "# ネットワークの定義\n",
        "class IrisNet(nn.Module):\n",
        "\n",
        "    def __init__(self):\n",
        "        super(IrisNet, self).__init__()\n",
        "        self.fc1 = nn.Linear(4, 12)\n",
        "        self.fc2 = nn.Linear(12, 8)\n",
        "        self.fc3 = nn.Linear(8, 3)\n",
        "\n",
        "    def forward(self, x):\n",
        "        x = F.relu(self.fc1(x))\n",
        "        x = F.relu(self.fc2(x))\n",
        "        x = self.fc3(x)\n",
        "        return x\n",
        "\n",
        "    \n",
        "#  定数定義\n",
        "FOLD = 3\n",
        "IS_SHUFFLE = True\n",
        "SEED = 1234\n",
        "EPOCH = 10\n",
        "LEARNING_LATE = 0.01\n",
        "\n",
        "#  アイリスデータロード\n",
        "iris = datasets.load_iris()\n",
        "\n",
        "X_train = iris.data\n",
        "y_train = iris.target\n",
        "x = torch.tensor(X_train,dtype = torch.float)\n",
        "y = torch.tensor(y_train)\n",
        "net = IrisNet()\n",
        "\n",
        "# optimezer定義\n",
        "optimizer = optim.SGD(net.parameters(), lr=LEARNING_LATE)\n",
        "\n",
        "# loss関数定義\n",
        "criterion = nn.CrossEntropyLoss()\n",
        "\n",
        "for i in range(EPOCH):\n",
        "    # 勾配初期化\n",
        "    optimizer.zero_grad()\n",
        "    output = net(x)\n",
        "\n",
        "    # loss算出\n",
        "    loss = criterion(output, y)\n",
        "    loss.backward()\n",
        "    optimizer.step()\n",
        "    print('epoch: {},'.format(i) + 'loss: {:.10f}'.format(loss))"
      ],
      "execution_count": 1,
      "outputs": [
        {
          "output_type": "stream",
          "text": [
            "epoch: 0,loss: 1.1565742493\n",
            "epoch: 1,loss: 1.1507802010\n",
            "epoch: 2,loss: 1.1454604864\n",
            "epoch: 3,loss: 1.1405483484\n",
            "epoch: 4,loss: 1.1360044479\n",
            "epoch: 5,loss: 1.1317890882\n",
            "epoch: 6,loss: 1.1278642416\n",
            "epoch: 7,loss: 1.1241998672\n",
            "epoch: 8,loss: 1.1207684278\n",
            "epoch: 9,loss: 1.1175469160\n"
          ],
          "name": "stdout"
        }
      ]
    },
    {
      "cell_type": "markdown",
      "metadata": {
        "id": "AIiOb9s2Kl5-"
      },
      "source": [
        "### (8)ニューラルネットワークの学習2"
      ]
    },
    {
      "cell_type": "markdown",
      "metadata": {
        "id": "ayYGxqCiKmig"
      },
      "source": [
        "**交差検証**\n",
        "\n",
        "\n",
        "```\n",
        "for fold,(train_index, test_index) in enumerate(kf.split(iris.data, iris.target)):\n",
        "\n",
        "    print(\"Fold：{}\".format(fold),\"len(train_index)：{}\".format(len(train_index)), \"len(test_index)：{}\".format(len(test_index)))\n",
        "    X_train = iris.data[train_index]\n",
        "    X_test  = iris.data[test_index]\n",
        "    y_train = iris.target[train_index]\n",
        "    y_test  = iris.target[test_index]\n",
        "```\n",
        "**精度計算**\n",
        "\n",
        "\n",
        "```\n",
        "outputs = net(torch.tensor(X_test, dtype = torch.float))\n",
        "_, y_predicted = torch.max(outputs.data, 1)\n",
        "accuracy = 100 * np.sum(y_predicted.numpy() == y_test) / len(y_predicted)\n",
        "print('accuracy: {:.1f}%'.format(accuracy))\n",
        "```\n",
        "\n"
      ]
    },
    {
      "cell_type": "code",
      "metadata": {
        "colab": {
          "base_uri": "https://localhost:8080/"
        },
        "id": "w3c7wkjqLXvr",
        "outputId": "30383c90-b308-4898-d273-9efefe34d31d"
      },
      "source": [
        "# ライブラリのインポート\n",
        "import torch\n",
        "import torch.nn as nn\n",
        "import torch.nn.functional as F\n",
        "import torch.optim as optim\n",
        "import numpy as np\n",
        "from sklearn import datasets\n",
        "from sklearn.model_selection import KFold\n",
        "\n",
        "\n",
        "# ネットワークの定義\n",
        "class IrisNet(nn.Module):\n",
        "\n",
        "    def __init__(self):\n",
        "        super(IrisNet, self).__init__()\n",
        "        self.fc1 = nn.Linear(4, 12)\n",
        "        self.fc2 = nn.Linear(12, 8)\n",
        "        self.fc3 = nn.Linear(8, 3)\n",
        "\n",
        "    def forward(self, x):\n",
        "        x = F.relu(self.fc1(x))\n",
        "        x = F.relu(self.fc2(x))\n",
        "        x = self.fc3(x)\n",
        "        return x\n",
        "\n",
        "    \n",
        "#  定数定義\n",
        "FOLD = 3\n",
        "IS_SHUFFLE = True\n",
        "SEED = 1234\n",
        "EPOCH = 5\n",
        "LEARNING_LATE = 0.01\n",
        "\n",
        "#  アイリスデータロード\n",
        "iris = datasets.load_iris()\n",
        "\n",
        "#  K分割交差検証\n",
        "kf = KFold(n_splits=FOLD,shuffle=IS_SHUFFLE,random_state=SEED)\n",
        "\n",
        "for fold,(train_index, test_index) in enumerate(kf.split(iris.data, iris.target)):\n",
        "    \n",
        "    print(\"Fold：{}\".format(fold),\"len(train_index)：{}\".format(len(train_index)), \"len(test_index)：{}\".format(len(test_index)))\n",
        "    X_train = iris.data[train_index]\n",
        "    X_test  = iris.data[test_index]\n",
        "    y_train = iris.target[train_index]\n",
        "    y_test  = iris.target[test_index]\n",
        "    \n",
        "    x = torch.tensor(X_train,dtype = torch.float)\n",
        "    y = torch.tensor(y_train)\n",
        "    net = IrisNet()\n",
        "    \n",
        "    # optimezer定義\n",
        "    optimizer = optim.SGD(net.parameters(), lr=LEARNING_LATE)\n",
        "    \n",
        "    # loss関数定義\n",
        "    criterion = nn.CrossEntropyLoss()\n",
        "\n",
        "    \n",
        "    for i in range(EPOCH):\n",
        "        # 勾配初期化\n",
        "        optimizer.zero_grad()\n",
        "        output = net(x)\n",
        "        \n",
        "        # loss算出\n",
        "        loss = criterion(output, y)\n",
        "        loss.backward()\n",
        "        optimizer.step()\n",
        "        print('epoch: {},'.format(i) + 'loss: {:.10f}'.format(loss))\n",
        "        \n",
        "\n",
        "    # 精度計算\n",
        "    outputs = net(torch.tensor(X_test, dtype = torch.float))\n",
        "    _, y_predicted = torch.max(outputs.data, 1)\n",
        "    accuracy = 100 * np.sum(y_predicted.numpy() == y_test) / len(y_predicted)\n",
        "    print('accuracy: {:.1f}%'.format(accuracy))"
      ],
      "execution_count": 2,
      "outputs": [
        {
          "output_type": "stream",
          "text": [
            "Fold：0 len(train_index)：100 len(test_index)：50\n",
            "epoch: 0,loss: 1.0942015648\n",
            "epoch: 1,loss: 1.0888361931\n",
            "epoch: 2,loss: 1.0835262537\n",
            "epoch: 3,loss: 1.0783267021\n",
            "epoch: 4,loss: 1.0732574463\n",
            "accuracy: 50.0%\n",
            "Fold：1 len(train_index)：100 len(test_index)：50\n",
            "epoch: 0,loss: 1.1317970753\n",
            "epoch: 1,loss: 1.1304142475\n",
            "epoch: 2,loss: 1.1290374994\n",
            "epoch: 3,loss: 1.1276578903\n",
            "epoch: 4,loss: 1.1262704134\n",
            "accuracy: 24.0%\n",
            "Fold：2 len(train_index)：100 len(test_index)：50\n",
            "epoch: 0,loss: 1.1079429388\n",
            "epoch: 1,loss: 1.1065307856\n",
            "epoch: 2,loss: 1.1051388979\n",
            "epoch: 3,loss: 1.1037675142\n",
            "epoch: 4,loss: 1.1024180651\n",
            "accuracy: 30.0%\n"
          ],
          "name": "stdout"
        }
      ]
    },
    {
      "cell_type": "markdown",
      "metadata": {
        "id": "EG0ekJoOLpqb"
      },
      "source": [
        "### (9)学習済みモデルの保存"
      ]
    },
    {
      "cell_type": "markdown",
      "metadata": {
        "id": "vUktRTzmLpvC"
      },
      "source": [
        "**モデルの実装**\n",
        "\n",
        "\n",
        "```\n",
        "import torch\n",
        "torch.save(net.state_dict(), './XXXX.pth')\n",
        "```\n",
        "\n"
      ]
    },
    {
      "cell_type": "markdown",
      "metadata": {
        "id": "CMaXazdkMWw3"
      },
      "source": [
        "### (10)学習済みモデルのロード"
      ]
    },
    {
      "cell_type": "markdown",
      "metadata": {
        "id": "dyX65hfgMa5n"
      },
      "source": [
        "**モデルのインスタンスの準備**\n",
        "\n",
        "\n",
        "```\n",
        "import torch.nn as nn\n",
        "      \n",
        "class IrisNet(nn.Module):\n",
        "def __init__(self):\n",
        "    super(IrisNet, self).__init__()\n",
        "    self.fc1 = nn.Linear(4, 12)\n",
        "    self.fc2 = nn.Linear(12, 8)\n",
        "    self.fc3 = nn.Linear(8, 3)\n",
        "\n",
        "def forward(self, x):\n",
        "    x = F.relu(self.fc1(x))\n",
        "    x = F.relu(self.fc2(x))\n",
        "    x = self.fc3(x)\n",
        "    return x\n",
        "        \n",
        "loaded_mooel = IrisNet()\n",
        "print(loaded_model)\n",
        "```\n",
        "\n"
      ]
    },
    {
      "cell_type": "markdown",
      "metadata": {
        "id": "10jbGswFNXA7"
      },
      "source": [
        "**学習済みであるモデルの読み込み**\n",
        "\n",
        "\n",
        "```\n",
        "import torch.nn as nn\n",
        "import torch\n",
        "\n",
        "loaded_model.load_state_dict(torch.load('./iris_model_2fold_500epoch.pth', map_location=lambda storage, loc: storage), strict=True)\n",
        "```\n",
        "\n"
      ]
    },
    {
      "cell_type": "code",
      "metadata": {
        "id": "tiSgPhKdNtHA"
      },
      "source": [
        "# ライブラリのインポート\n",
        "import torch\n",
        "import torch.nn as nn\n",
        "\n",
        "# IrisNetの定義\n",
        "class IrisNet(nn.Module):\n",
        "        \n",
        "        def __init__(self):\n",
        "            super(IrisNet, self).__init__()\n",
        "            self.fc1 = nn.Linear(4, 12)\n",
        "            self.fc2 = nn.Linear(12, 8)\n",
        "            self.fc3 = nn.Linear(8, 3)\n",
        "\n",
        "        def forward(self, x):\n",
        "            x = F.relu(self.fc1(x))\n",
        "            x = F.relu(self.fc2(x))\n",
        "            x = self.fc3(x)\n",
        "            return x\n",
        "\n",
        "# モデルのインスタンス作成\n",
        "loaded_model = IrisNet()\n",
        "\n",
        "# 学習済みモデルのロード\n",
        "loaded_model.load_state_dict(torch.load('./iris_model_2fold_500epoch.pth', map_location=lambda storage, loc: storage), strict=True)"
      ],
      "execution_count": null,
      "outputs": []
    }
  ]
}