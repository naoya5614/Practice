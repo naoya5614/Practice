{
  "nbformat": 4,
  "nbformat_minor": 0,
  "metadata": {
    "colab": {
      "name": "Pca.ipynb",
      "provenance": [],
      "authorship_tag": "ABX9TyNFfxLdC4Jbm+PLG4dkJM2H"
    },
    "kernelspec": {
      "name": "python3",
      "display_name": "Python 3"
    },
    "language_info": {
      "name": "python"
    }
  },
  "cells": [
    {
      "cell_type": "markdown",
      "metadata": {
        "id": "tyHROZAL_X7m"
      },
      "source": [
        "# 主成分分析"
      ]
    },
    {
      "cell_type": "code",
      "metadata": {
        "id": "CK_uFny2_XOP"
      },
      "source": [
        "#　モジュールの読み込み\n",
        "%matplotlib inline\n",
        "import numpy as np\n",
        "import matplotlib.pyplot as plt\n",
        "import seaborn as sns\n",
        "\n",
        "# seabornのスタイルに適用\n",
        "sns.set()\n",
        "sns.set_style('whitegrid')"
      ],
      "execution_count": 13,
      "outputs": []
    },
    {
      "cell_type": "markdown",
      "metadata": {
        "id": "XJvTc-DIB5Et"
      },
      "source": [
        "## サンプルデータ生成"
      ]
    },
    {
      "cell_type": "code",
      "metadata": {
        "id": "kpvr_nAf_dMF"
      },
      "source": [
        "#サンプル生成\n",
        "n_sample = 100\n",
        "\n",
        "def gene_data(n_sample):\n",
        "    mean = [0, 0]\n",
        "    cov = [[2, 0.7], [0.7, 1]]\n",
        "    # np.random.multivariate_normal() 指定された平均と共分散行列に沿ったランダムな値を生成してくれる関数\n",
        "    return np.random.multivariate_normal(mean, cov, n_sample)\n",
        "\n",
        "def plot_data(X):\n",
        "    plt.scatter(X[:, 0], X[:, 1])\n",
        "    plt.xlim(-5, 5)\n",
        "    plt.ylim(-5, 5)"
      ],
      "execution_count": 31,
      "outputs": []
    },
    {
      "cell_type": "code",
      "metadata": {
        "colab": {
          "base_uri": "https://localhost:8080/",
          "height": 268
        },
        "id": "meqnRqfRCJbn",
        "outputId": "7bc9361b-15a9-447a-8609-5b81ab5f3eca"
      },
      "source": [
        "# データ可視化\n",
        "X = gene_data(n_sample)\n",
        "plot_data(X)"
      ],
      "execution_count": 32,
      "outputs": [
        {
          "output_type": "display_data",
          "data": {
            "image/png": "[encoded data removed]",
            "text/plain": [
              "<Figure size 432x288 with 1 Axes>"
            ]
          },
          "metadata": {
            "tags": []
          }
        }
      ]
    },
    {
      "cell_type": "markdown",
      "metadata": {
        "id": "xLOnnsVVCzZI"
      },
      "source": [
        "## 学習"
      ]
    },
    {
      "cell_type": "code",
      "metadata": {
        "id": "XF4OO9mSCPvd"
      },
      "source": [
        "n_components=2\n",
        "\n",
        "def get_moments(X):\n",
        "    mean = X.mean(axis=0)\n",
        "    stan_cov = np.dot((X - mean).T, X - mean) / (len(X) - 1)\n",
        "    return mean, stan_cov\n",
        "    \n",
        "def get_components(eigenvectors, n_components):\n",
        "    # スライス[,::-1]は後ろから1置きに数字を取り出す。\n",
        "    W = eigenvectors[:, ::-1][:, :n_components]\n",
        "    return W.T\n",
        "\n",
        "def plt_result(X, first, second):\n",
        "    plt.scatter(X[:, 0], X[:, 1])\n",
        "    plt.xlim(-5, 5)\n",
        "    plt.ylim(-5, 5)\n",
        "    \n",
        "    \n",
        "    # 第１主成分\n",
        "    # quiver(X, Y, U, V, [C])  X, Yはベクトルの開始点、U, Vはベクトルの成分、Cはベクトルの大きさに応じたカラーマップ上の色をつけるための配列\n",
        "    plt.quiver(0, 0, first[0], first[1], width=0.01, scale=6, color='magenta')\n",
        "    # 第２主成分\n",
        "    plt.quiver(0, 0, second[0], second[1], width=0.01, scale=6, color='chartreuse')"
      ],
      "execution_count": 33,
      "outputs": []
    },
    {
      "cell_type": "code",
      "metadata": {
        "colab": {
          "base_uri": "https://localhost:8080/",
          "height": 268
        },
        "id": "EfGH7nJfDCbg",
        "outputId": "e76906e2-0346-4caf-d296-9b521fd0eb90"
      },
      "source": [
        "#分散共分散行列を標準化\n",
        "meean, stan_cov = get_moments(X)\n",
        "#固有値と固有ベクトルを計算\n",
        "eigenvalues, eigenvectors = np.linalg.eigh(stan_cov)\n",
        "components = get_components(eigenvectors, n_components)\n",
        "\n",
        "plt_result(X, eigenvectors[0, :], eigenvectors[1, :])"
      ],
      "execution_count": 34,
      "outputs": [
        {
          "output_type": "display_data",
          "data": {
            "image/png": "[encoded data removed]",
            "text/plain": [
              "<Figure size 432x288 with 1 Axes>"
            ]
          },
          "metadata": {
            "tags": []
          }
        }
      ]
    },
    {
      "cell_type": "markdown",
      "metadata": {
        "id": "hxKNuvfOEgr3"
      },
      "source": [
        "## 射影"
      ]
    },
    {
      "cell_type": "code",
      "metadata": {
        "id": "C3mRkoGkDGD5"
      },
      "source": [
        "def transform_by_pca(X, pca):\n",
        "    mean = X.mean(axis=0)\n",
        "    return np.dot(X-mean, components)"
      ],
      "execution_count": 35,
      "outputs": []
    },
    {
      "cell_type": "code",
      "metadata": {
        "colab": {
          "base_uri": "https://localhost:8080/",
          "height": 285
        },
        "id": "lLFvPMlsFNCO",
        "outputId": "52443486-2cac-4761-bc5d-10411f8e3190"
      },
      "source": [
        "Z = transform_by_pca(X, components.T)\n",
        "plt.scatter(Z[:, 0], Z[:, 1])\n",
        "plt.xlim(-5, 5)\n",
        "plt.ylim(-5, 5)"
      ],
      "execution_count": 36,
      "outputs": [
        {
          "output_type": "execute_result",
          "data": {
            "text/plain": [
              "(-5.0, 5.0)"
            ]
          },
          "metadata": {
            "tags": []
          },
          "execution_count": 36
        },
        {
          "output_type": "display_data",
          "data": {
            "image/png": "[encoded data removed]",
            "text/plain": [
              "<Figure size 432x288 with 1 Axes>"
            ]
          },
          "metadata": {
            "tags": []
          }
        }
      ]
    },
    {
      "cell_type": "markdown",
      "metadata": {
        "id": "AByc8TunFYXY"
      },
      "source": [
        "## 逆変換"
      ]
    },
    {
      "cell_type": "code",
      "metadata": {
        "id": "3Q0Zst6fFTFa"
      },
      "source": [
        "mean = X.mean(axis=0)\n",
        "X_ = np.dot(Z, components.T) + mean"
      ],
      "execution_count": 37,
      "outputs": []
    },
    {
      "cell_type": "code",
      "metadata": {
        "colab": {
          "base_uri": "https://localhost:8080/",
          "height": 285
        },
        "id": "bsLP-UqpFaWa",
        "outputId": "947ab72d-9487-4326-8ee3-4e9e53c82763"
      },
      "source": [
        "plt.scatter(X_[:, 0], X_[:, 1])\n",
        "plt.xlim(-5, 5)\n",
        "plt.ylim(-5, 5)"
      ],
      "execution_count": 38,
      "outputs": [
        {
          "output_type": "execute_result",
          "data": {
            "text/plain": [
              "(-5.0, 5.0)"
            ]
          },
          "metadata": {
            "tags": []
          },
          "execution_count": 38
        },
        {
          "output_type": "display_data",
          "data": {
            "image/png": "[encoded data removed]",
            "text/plain": [
              "<Figure size 432x288 with 1 Axes>"
            ]
          },
          "metadata": {
            "tags": []
          }
        }
      ]
    },
    {
      "cell_type": "code",
      "metadata": {
        "colab": {
          "base_uri": "https://localhost:8080/"
        },
        "id": "me5m5px4Fh0H",
        "outputId": "ed155b72-0e84-4799-da74-788383effabe"
      },
      "source": [
        "from sklearn.decomposition import PCA\n",
        "pca = PCA(n_components=2)\n",
        "pca.fit(X)"
      ],
      "execution_count": 39,
      "outputs": [
        {
          "output_type": "execute_result",
          "data": {
            "text/plain": [
              "PCA(copy=True, iterated_power='auto', n_components=2, random_state=None,\n",
              "    svd_solver='auto', tol=0.0, whiten=False)"
            ]
          },
          "metadata": {
            "tags": []
          },
          "execution_count": 39
        }
      ]
    },
    {
      "cell_type": "code",
      "metadata": {
        "colab": {
          "base_uri": "https://localhost:8080/"
        },
        "id": "t1Uzmx-uFpNM",
        "outputId": "b1d8dc31-a67f-4399-887b-81747fbd5d94"
      },
      "source": [
        "print('components: {}'.format(pca.components_))\n",
        "print('mean: {}'.format(pca.mean_))\n",
        "print('covariance: {}'.format(pca.get_covariance())) "
      ],
      "execution_count": 40,
      "outputs": [
        {
          "output_type": "stream",
          "text": [
            "components: [[-0.9495491 -0.3136184]\n",
            " [-0.3136184  0.9495491]]\n",
            "mean: [0.05533279 0.02736413]\n",
            "covariance: [[1.64333091 0.36214007]\n",
            " [0.36214007 0.66647986]]\n"
          ],
          "name": "stdout"
        }
      ]
    },
    {
      "cell_type": "code",
      "metadata": {
        "colab": {
          "base_uri": "https://localhost:8080/",
          "height": 268
        },
        "id": "Qmg0p4RMFuO3",
        "outputId": "92f9a4fe-2611-46aa-8367-e036f286f40c"
      },
      "source": [
        "plt_result(X, pca.components_[0, :], pca.components_[1, :])"
      ],
      "execution_count": 41,
      "outputs": [
        {
          "output_type": "display_data",
          "data": {
            "image/png": "[encoded data removed]",
            "text/plain": [
              "<Figure size 432x288 with 1 Axes>"
            ]
          },
          "metadata": {
            "tags": []
          }
        }
      ]
    },
    {
      "cell_type": "code",
      "metadata": {
        "colab": {
          "base_uri": "https://localhost:8080/",
          "height": 353
        },
        "id": "6fVabSXsFxp8",
        "outputId": "a75a44ba-52fe-460a-8695-a56fa5bf17e4"
      },
      "source": [
        "from sklearn.decomposition import PCA\n",
        "pca = PCA(n_components=2)\n",
        "pca.fit(X)\n",
        "plt_result(X, pca.components_[0, :], pca.components_[1, :])\n",
        "\n",
        "print('components: {}'.format(pca.components_))\n",
        "print('mean: {}'.format(pca.mean_))\n",
        "print('covariance: {}'.format(pca.get_covariance()))"
      ],
      "execution_count": 42,
      "outputs": [
        {
          "output_type": "stream",
          "text": [
            "components: [[-0.9495491 -0.3136184]\n",
            " [-0.3136184  0.9495491]]\n",
            "mean: [0.05533279 0.02736413]\n",
            "covariance: [[1.64333091 0.36214007]\n",
            " [0.36214007 0.66647986]]\n"
          ],
          "name": "stdout"
        },
        {
          "output_type": "display_data",
          "data": {
            "image/png": "[encoded data removed]",
            "text/plain": [
              "<Figure size 432x288 with 1 Axes>"
            ]
          },
          "metadata": {
            "tags": []
          }
        }
      ]
    }
  ]
}