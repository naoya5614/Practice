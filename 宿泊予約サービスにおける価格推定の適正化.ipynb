{
  "nbformat": 4,
  "nbformat_minor": 0,
  "metadata": {
    "colab": {
      "name": "宿泊予約サービスにおける価格推定の適正化.ipynb",
      "provenance": [],
      "collapsed_sections": [],
      "authorship_tag": "ABX9TyMo6NLN3IgOmGQFq2Uvf9BB",
      "include_colab_link": true
    },
    "kernelspec": {
      "name": "python3",
      "display_name": "Python 3"
    },
    "language_info": {
      "name": "python"
    }
  },
  "cells": [
    {
      "cell_type": "markdown",
      "metadata": {
        "id": "view-in-github",
        "colab_type": "text"
      },
      "source": [
        "<a href=\"https://colab.research.google.com/github/naoya5614/Practice/blob/main/%E5%AE%BF%E6%B3%8A%E4%BA%88%E7%B4%84%E3%82%B5%E3%83%BC%E3%83%93%E3%82%B9%E3%81%AB%E3%81%8A%E3%81%91%E3%82%8B%E4%BE%A1%E6%A0%BC%E6%8E%A8%E5%AE%9A%E3%81%AE%E9%81%A9%E6%AD%A3%E5%8C%96.ipynb\" target=\"_parent\"><img src=\"https://colab.research.google.com/assets/colab-badge.svg\" alt=\"Open In Colab\"/></a>"
      ]
    },
    {
      "cell_type": "markdown",
      "metadata": {
        "id": "yHDkfCUcjeI_"
      },
      "source": [
        "# 宿泊予約サービスにおける価格推定の適正化"
      ]
    },
    {
      "cell_type": "markdown",
      "metadata": {
        "id": "SuLR_5jVjePs"
      },
      "source": [
        "# 1.物件データの収集"
      ]
    },
    {
      "cell_type": "markdown",
      "metadata": {
        "id": "0p65c9p-jrwX"
      },
      "source": [
        "## 1-1.データ読み込み"
      ]
    },
    {
      "cell_type": "markdown",
      "metadata": {
        "id": "74qo9DQ4j1xT"
      },
      "source": [
        "### ライブラリのインポート"
      ]
    },
    {
      "cell_type": "code",
      "metadata": {
        "id": "m6JgYc9jjqiv"
      },
      "source": [
        "# pandasのインポート\n",
        "import pandas as pd\n",
        "\n",
        "# numpyのインポート\n",
        "import numpy as np\n",
        "\n",
        "# matplotlibのインポート\n",
        "from matplotlib import pyplot as plt"
      ],
      "execution_count": null,
      "outputs": []
    },
    {
      "cell_type": "markdown",
      "metadata": {
        "id": "5NikI0RWkFzh"
      },
      "source": [
        "### データの読み込み"
      ]
    },
    {
      "cell_type": "code",
      "metadata": {
        "id": "4Pr4HpJSkHA8"
      },
      "source": [
        "# データの読み込み\n",
        "sample = pd.read_csv(\"sample.csv\")\n",
        "\n",
        "# データの中身を確認\n",
        "print(sample)\n",
        "\n",
        "# yamadaさんの年齢を代入\n",
        "age = 46"
      ],
      "execution_count": null,
      "outputs": []
    },
    {
      "cell_type": "markdown",
      "metadata": {
        "id": "6jrDo9h-kMyU"
      },
      "source": [
        "### 物件データの読み込み"
      ]
    },
    {
      "cell_type": "code",
      "metadata": {
        "id": "trmEz3tTkQa4"
      },
      "source": [
        "import pandas as pd\n",
        "# データの読み込み\n",
        "data = pd.read_csv(\"data.csv\")\n",
        "\n",
        "# データの中身の確認\n",
        "print(data)\n",
        "\n",
        "# aから始まるカラム名を代入\n",
        "cols = 'accommodates'"
      ],
      "execution_count": null,
      "outputs": []
    },
    {
      "cell_type": "markdown",
      "metadata": {
        "id": "EXy-EpZzlmUx"
      },
      "source": [
        "## 1-2.データ精査"
      ]
    },
    {
      "cell_type": "markdown",
      "metadata": {
        "id": "D6gpTdM4kWXG"
      },
      "source": [
        "### DataFrameの表示"
      ]
    },
    {
      "cell_type": "code",
      "metadata": {
        "id": "R03mZcWBkawr"
      },
      "source": [
        "import pandas as pd\n",
        "\n",
        "# データの読み込み\n",
        "data = pd.read_csv(\"data.csv\")\n",
        "\n",
        "# 先頭10行の表示\n",
        "print(data.head(10))"
      ],
      "execution_count": null,
      "outputs": []
    },
    {
      "cell_type": "markdown",
      "metadata": {
        "id": "vTIes6p7kdzE"
      },
      "source": [
        "### データ量の確認"
      ]
    },
    {
      "cell_type": "code",
      "metadata": {
        "id": "M7Hazl_dk1yx"
      },
      "source": [
        "# データの読み込み\n",
        "data = pd.read_csv(\"data.csv\")\n",
        "\n",
        "# 行数と列数の確認\n",
        "print(data.shape)\n",
        "\n",
        "# 列数だけを抽出し、表示\n",
        "print(data.shape[1])"
      ],
      "execution_count": null,
      "outputs": []
    },
    {
      "cell_type": "markdown",
      "metadata": {
        "id": "1fa_RqTzk6xD"
      },
      "source": [
        "### 変数のデータ型"
      ]
    },
    {
      "cell_type": "markdown",
      "metadata": {
        "id": "FBdla0hMl3oO"
      },
      "source": [
        "## 1-3.欠損値・異常値の確認"
      ]
    },
    {
      "cell_type": "markdown",
      "metadata": {
        "id": "7d7B338fmATQ"
      },
      "source": [
        "### データの欠損の有無を確認しましょう(1)"
      ]
    },
    {
      "cell_type": "code",
      "metadata": {
        "id": "8CTzPfvdl8yB"
      },
      "source": [
        "# 欠損値の確認\n",
        "print(data.isnull())\n",
        "\n",
        "judge = False"
      ],
      "execution_count": null,
      "outputs": []
    },
    {
      "cell_type": "markdown",
      "metadata": {
        "id": "0aED_r9NmRlN"
      },
      "source": [
        "### データの欠損の有無を確認しましょう(2)"
      ]
    },
    {
      "cell_type": "code",
      "metadata": {
        "id": "dPFyBKm6mVfT"
      },
      "source": [
        "# isnull関数とsum関数を組み合わせて各カラムにある欠損値の数を求めてみましょう\n",
        "data.isnull().sum()"
      ],
      "execution_count": null,
      "outputs": []
    },
    {
      "cell_type": "markdown",
      "metadata": {
        "id": "w3suNwQFmhP2"
      },
      "source": [
        "### 欠損値の原因を調べよう"
      ]
    },
    {
      "cell_type": "code",
      "metadata": {
        "id": "qyg-pvPemlyd"
      },
      "source": [
        "# bedsがNaNになっているデータの抜き出し\n",
        "beds_nan_data = data[data[\"beds\"].isnull()]\n",
        "\n",
        "# bed_typeの種類ごとの件数を表示\n",
        "print(beds_nan_data['bed_type'].value_counts())\n",
        "\n",
        "# 最も多い種類を入力\n",
        "bed_type = 'Real Bed'"
      ],
      "execution_count": null,
      "outputs": []
    },
    {
      "cell_type": "markdown",
      "metadata": {
        "id": "1Mz5H7_Mm00b"
      },
      "source": [
        "### 欠損値を削除しよう"
      ]
    },
    {
      "cell_type": "code",
      "metadata": {
        "id": "gOJxurFam3Wv"
      },
      "source": [
        "# beds,bedrooms,bathroomsに欠損値を含むデータを削除\n",
        "data = data.dropna(subset=['beds','bedrooms','bathrooms'])"
      ],
      "execution_count": null,
      "outputs": []
    },
    {
      "cell_type": "markdown",
      "metadata": {
        "id": "bRNWFB21nANt"
      },
      "source": [
        "### 欠損値を補完しよう"
      ]
    },
    {
      "cell_type": "code",
      "metadata": {
        "id": "wcrNPE-vnDw2"
      },
      "source": [
        "# 変数mean_valにreview_scores_ratingの平均値を代入してください。\n",
        "mean_val = data['review_scores_rating'].mean()\n",
        "\n",
        "# review_scores_ratingの欠損値を平均値で補完してください。\n",
        "data['review_scores_rating'] = data['review_scores_rating'].fillna(mean_val)"
      ],
      "execution_count": null,
      "outputs": []
    },
    {
      "cell_type": "markdown",
      "metadata": {
        "id": "_EjpheHQnKjh"
      },
      "source": [
        "# 2.宿泊価格に影響のある要素を探索"
      ]
    },
    {
      "cell_type": "markdown",
      "metadata": {
        "id": "v1NAF7tunWPo"
      },
      "source": [
        "## 2-1.変数の分布・値の確認"
      ]
    },
    {
      "cell_type": "markdown",
      "metadata": {
        "id": "FwJDtoO3ngsV"
      },
      "source": [
        "### データを選択しましょう"
      ]
    },
    {
      "cell_type": "code",
      "metadata": {
        "id": "hqI0Sv1xnVp4"
      },
      "source": [
        "# 変数dataのデータ型がDataFrameであることを確認しましょう。\n",
        "print(type(data))\n",
        "\n",
        "# 変数dataからy列のみを抜き出し、変数yに代入してください\n",
        "y = data[\"y\"]\n",
        "\n",
        "# 選択した列を代入した変数yのデータ型がseriesであることを確認してください。\n",
        "print(type(y))\n"
      ],
      "execution_count": null,
      "outputs": []
    },
    {
      "cell_type": "markdown",
      "metadata": {
        "id": "WLzfWuVMnovS"
      },
      "source": [
        "### データの可視化"
      ]
    },
    {
      "cell_type": "code",
      "metadata": {
        "id": "_mShWhG4n1mu"
      },
      "source": [
        "# 変数dataからy列のみを抜き出し、変数yに代入しましょう\n",
        "y = data[\"y\"]\n",
        "# ヒストグラムの可視化\n",
        "y.plot.hist(title='宿泊価格')\n",
        "# 可視化結果を表示する為に必要な関数\n",
        "plt.show()"
      ],
      "execution_count": null,
      "outputs": []
    },
    {
      "cell_type": "markdown",
      "metadata": {
        "id": "bCR_gW8ioIB5"
      },
      "source": [
        "### ヒストグラムの読み取り"
      ]
    },
    {
      "cell_type": "code",
      "metadata": {
        "id": "OBtMkUDxnvNt"
      },
      "source": [
        "y = data[\"y\"]\n",
        "y.plot.hist(title='宿泊価格')\n",
        "plt.show()"
      ],
      "execution_count": null,
      "outputs": []
    },
    {
      "cell_type": "markdown",
      "metadata": {
        "id": "L0nRFYuJoQgj"
      },
      "source": [
        "### 外れ値の削除(2)"
      ]
    },
    {
      "cell_type": "code",
      "metadata": {
        "id": "d6ALRjjyoWYk"
      },
      "source": [
        "# 削除前の行数を確認\n",
        "before_rows = data.shape[0]\n",
        "print(before_rows)\n",
        "\n",
        "# 削除\n",
        "data = data[data['y'] >= 10]\n",
        "\n",
        "# 削除後の行数を確認\n",
        "after_rows = data.shape[0]\n",
        "print(after_rows)"
      ],
      "execution_count": null,
      "outputs": []
    },
    {
      "cell_type": "markdown",
      "metadata": {
        "id": "h02DHiI9odIY"
      },
      "source": [
        "### 質的データにおけるデータ分布の確認"
      ]
    },
    {
      "cell_type": "code",
      "metadata": {
        "id": "qqiBNHpfoi5P"
      },
      "source": [
        "# 頻度値を算出\n",
        "counts = data[\"room_type\"].value_counts()\n",
        "\n",
        "# 棒グラフの可視化\n",
        "counts.plot.bar(title=\"room_typeの頻度\")\n",
        "\n",
        "# x軸とy軸に名前を付与 \n",
        "plt.xlabel(\"room_type\")\n",
        "plt.ylabel(\"count\")\n",
        "\n",
        "# 可視化結果を表示する為に必要な関数\n",
        "plt.show()"
      ],
      "execution_count": null,
      "outputs": []
    },
    {
      "cell_type": "markdown",
      "metadata": {
        "id": "hIBaa4fynctG"
      },
      "source": [
        "## 2-2.変数間の相関"
      ]
    },
    {
      "cell_type": "markdown",
      "metadata": {
        "id": "J1TbmxI_o1ds"
      },
      "source": [
        "### 箱ひげ図"
      ]
    },
    {
      "cell_type": "code",
      "metadata": {
        "id": "f5FnNDqjnfyX"
      },
      "source": [
        "# seabornをsnsと省略してインポートしてください\n",
        "import seaborn as sns\n",
        "# accommodatesをx軸、yをy軸にした箱ひげ図を描いてください。\n",
        "sns.boxplot(data=data, x='accommodates', y='y')\n",
        "# 可視化結果を表示する為に必要な関数\n",
        "plt.show()"
      ],
      "execution_count": null,
      "outputs": []
    },
    {
      "cell_type": "markdown",
      "metadata": {
        "id": "4klcEImjo6nl"
      },
      "source": [
        "### 特殊なデータの確認"
      ]
    },
    {
      "cell_type": "code",
      "metadata": {
        "id": "DZ-BxIrcpGhU"
      },
      "source": [
        "# dataからbathroomsが0.0でyが1000ドル以上のデータを抜き出して、表示させてください。\n",
        "data_tmp = data[(data['bathrooms'] == 0.0) & (data['y'] >= 1000)]\n",
        "print(data_tmp)\n",
        "\n",
        "# data_tmpのnameカラムを表示して、どのような物件なのかを確認しましょう。\n",
        "print(data_tmp['name'])"
      ],
      "execution_count": null,
      "outputs": []
    },
    {
      "cell_type": "markdown",
      "metadata": {
        "id": "FxekC9yEqdcj"
      },
      "source": [
        "## 3.物件データの加工"
      ]
    },
    {
      "cell_type": "code",
      "metadata": {
        "id": "DdcqAlcaqfXr"
      },
      "source": [
        ""
      ],
      "execution_count": null,
      "outputs": []
    }
  ]
}